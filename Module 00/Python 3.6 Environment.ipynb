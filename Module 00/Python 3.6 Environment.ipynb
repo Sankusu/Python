{
 "cells": [
  {
   "cell_type": "markdown",
   "metadata": {},
   "source": [
    "# Python 3.6 Environment"
   ]
  },
  {
   "cell_type": "markdown",
   "metadata": {},
   "source": [
    "### Python 3.6 Installation Linux (Ubuntu):\n",
    "- Install the following dependencies:\n",
    "\n",
    "    `$ sudo apt-get update`\n",
    "    \n",
    "    `$ sudo apt-get install build-essential checkinstall`\n",
    "\n",
    "    `$ sudo apt-get install libreadline-gplv2-dev libncursesw5-dev libssl-dev libsqlite3-dev tk-dev libgdbm-dev libc6-dev libbz2-dev`\n",
    "\n",
    "- Go to Download Python page on https://www.python.org/downloads/ and click Download Python 3.6.4 (You may see different version name).\n",
    "\n",
    "- In the terminal, go to the directory where the file is downloaded and run the command:\n",
    "\n",
    "    `$ tar -xvf Python-3.6.4.tgz`\n",
    "\n",
    "- This will extract your zipped file. Note: The filename will be different if you've downloaded a different version. Use the appropriate filename.\n",
    "\n",
    "- Go to the extracted directory.\n",
    "\n",
    "    `$ cd Python-3.6.4`\n",
    "\n",
    "- Issue the following commands to compile Python source code on your Operating system.\n",
    "\n",
    "    `$ ./configure`\n",
    "    \n",
    "    `$ make`\n",
    "    \n",
    "    `$ make install`\n",
    "\n",
    "- Open Sublime text. To create a new file, go to File > New File (Shortcut: Ctrl+N).\n",
    "\n",
    "- Save the file with .py file extension like: hello.py or first-program.py\n",
    " \n",
    "- Write the code and save it (Ctrl+S or File > Save) . For starters, you can copy the code below:\n",
    "\n",
    "    `print(\"Hello, World!\")`\n",
    "\n",
    "- This simple program outputs \"Hello, World!\"\n",
    "\n",
    "- Go to Tool > Build (Shortcut: Ctrl+B). You will see the output at the bottom of Sublime Text. Congratulations, you've successfully run your first Python program."
   ]
  },
  {
   "cell_type": "markdown",
   "metadata": {},
   "source": [
    "### Install and Run Python in Windows\n",
    "- Go to Download Python page on https://www.python.org/downloads/ and click Download Python 3.6.4 (You may see different version name).\n",
    "- If your computer is running a 64-bit version of Windows, download the Windows x86-64 executable installer. Otherwise, download the Windows x86 executable installer. After downloading the installer, you should run it (doubleclick on it) and follow the instructions there.\n",
    "- One thing to watch out for: During the installation you will notice a window marked \"Setup\". Make sure you tick the \"Add Python 3.6 to PATH\" checkbox and click on \"Install Now\".\n",
    "- When Python is installed, a program called IDLE is also installed along with it. It provides graphical user interface to work with Python.\n",
    "- Open IDLE, copy the following code below and press enter.\n",
    "\n",
    "    `print(\"Hello, World!\")`\n",
    "- To create a file in IDLE, go to File > New Window (Shortcut: Ctrl+N).\n",
    "- Write Python code (you can copy the code below for now) and save (Shortcut: Ctrl+S) with .py file extension like: hello.py or your-first-program.py\n",
    "    `print(\"Hello, World!\")`\n",
    "- Go to Run > Run module (Shortcut: F5) and you can see the output. Congratulations, you've successfully run your first Python program."
   ]
  },
  {
   "cell_type": "markdown",
   "metadata": {},
   "source": [
    "### Install and Run Python using PyCharm\n",
    "Refer\n",
    "https://www.jetbrains.com/pycharm/"
   ]
  },
  {
   "cell_type": "markdown",
   "metadata": {},
   "source": [
    "### Install and Run Python using Anaconda\n",
    "Refer https://www.anaconda.com/download/"
   ]
  },
  {
   "cell_type": "markdown",
   "metadata": {},
   "source": [
    "## Introducton to Prompt Window\n",
    "You now should see a white or black window that is waiting for your commands.\n",
    "\n",
    "### Prompt: Linux OS (Ubuntu)\n",
    "If you're on Linux, you probably see `$` , just like this: `terminal`\n",
    "\n",
    "`$`\n",
    "#### To run Python script `test.py`\n",
    "`$ python3 test.py`\n",
    "\n",
    "#### For pip3:\n",
    "`$ sudo apt-get -y install python3-pip`\n",
    "\n",
    "`$ pip3 install package_name`\n",
    "\n",
    "### Prompt: Windows OS\n",
    "On Windows, it's a `>` sign, like this: `command-line`\n",
    "\n",
    "`>`\n",
    "#### To run Python script `test.py`\n",
    "`> python test.py`\n",
    "\n",
    "#### For pip:\n",
    "\n",
    "`> pip install package_name`"
   ]
  },
  {
   "cell_type": "markdown",
   "metadata": {},
   "source": [
    "## To check the installed versison of Python\n",
    "### For Windows\n",
    "`> python --version`\n",
    "\n",
    "`Python 3.6.4`\n",
    "\n",
    "### For Linux\n",
    "`$ python3 --version`\n",
    "\n",
    "`Python 3.6.4`"
   ]
  },
  {
   "cell_type": "markdown",
   "metadata": {},
   "source": [
    "### Using the Python Shell\n",
    "Before starting to write programs, you ’ ll need to learn how to experiment with the Python shell. For now, you can think of the Python shell as a way to peer within running Python code. It places you inside of a running instance of Python, into which you can feed programming code; at the same time, Python will do what you have asked it to do and will show you a little bit about how it responds to its environment. Because running programs often have a context — things that you as the programmer have\n",
    "tailored to your needs — it is an advantage to have the shell because it lets you experiment with the context you have created.\n",
    "\n",
    "#### In Windows cmd prompt\n",
    "`> python`\n",
    "\n",
    "`>>>`\n",
    "##### To exit\n",
    "`>>> exit()`\n",
    "\n",
    "#### In Linux Terminal\n",
    "`$ python3`\n",
    "\n",
    "`>>>`\n",
    "##### To exit\n",
    "`>>> exit()`"
   ]
  }
 ],
 "metadata": {
  "kernelspec": {
   "display_name": "Python 3",
   "language": "python",
   "name": "python3"
  },
  "language_info": {
   "codemirror_mode": {
    "name": "ipython",
    "version": 3
   },
   "file_extension": ".py",
   "mimetype": "text/x-python",
   "name": "python",
   "nbconvert_exporter": "python",
   "pygments_lexer": "ipython3",
   "version": "3.6.3"
  }
 },
 "nbformat": 4,
 "nbformat_minor": 2
}
