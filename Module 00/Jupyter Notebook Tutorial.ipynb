{
 "cells": [
  {
   "cell_type": "markdown",
   "metadata": {},
   "source": [
    "# Jupyter Notebook Tutorial:"
   ]
  },
  {
   "cell_type": "markdown",
   "metadata": {},
   "source": [
    "## To install Jupyter Notebook\n",
    "### Method 01: (After installing python 3.6)\n",
    "#### For Windows OS\n",
    "`> pip install jupyter`\n",
    "#### For Linux OS\n",
    "`$ pip3 install jupyter`\n",
    "\n",
    "### Method 02:\n",
    "Install Anaconda\n",
    "https://www.anaconda.com/download/\n",
    "\n",
    "`$ bash ~/Downloads/Anaconda3-5.0.1-Linux-x86_64.sh`"
   ]
  },
  {
   "cell_type": "markdown",
   "metadata": {},
   "source": [
    "## To open Jupyter Notebook\n",
    "Start cmd/terminal and type (if installed using pip/pip3)\n",
    "\n",
    "`> jupyter notebook`\n",
    "\n",
    "`$ jupyter notebook`"
   ]
  },
  {
   "cell_type": "markdown",
   "metadata": {},
   "source": [
    "## Jupyter Notebook Modes:\n",
    "### Command Mode (Blue Cell):\n",
    "Press `Esc` to enter Command Mode\n",
    "### Edit Mode (Green Cell):\n",
    "Press `Enter` to enter Edit Mode\n",
    "\n",
    "#### Go to `Help > User Interface Tour`, to see the basic tour of the Jupyter Notebook.\n",
    "#### Check Keyboard Shortcuts under `Help` Menu for details.\n",
    "#### To change Title of the page, double click on the `Untitled` at the top of the page and give appropriate title to it."
   ]
  },
  {
   "cell_type": "markdown",
   "metadata": {},
   "source": [
    "## Edit Mode:\n",
    "### To execute the code in a cell and to remain in the same cell, Press \n",
    "`Ctrl` + `Enter`\n",
    "### To execute the code in a cell and to move in the next cell, Press \n",
    "`Shift` + `Enter`"
   ]
  },
  {
   "cell_type": "markdown",
   "metadata": {},
   "source": [
    "## Command Mode:\n",
    "### To insert a cell below, Press\n",
    "`B`\n",
    "### To insert a cell above, Press\n",
    "`A`\n",
    "### To move between the cells, Use\n",
    "`Up` and `Down` Arrow Keys\n",
    "### To delete a cell, Press\n",
    "`D`, `D`"
   ]
  },
  {
   "cell_type": "markdown",
   "metadata": {},
   "source": [
    "## Notation to the left of the cell:\n",
    "`In[ ]:` Input Code which has not been executed\n",
    "\n",
    "`In[*]:` Input Code is currently executing\n",
    "\n",
    "`In[1]:` The number **1** indicates the execution order of the highlighted code block\n",
    "\n",
    "`Out[1]:` Shows the value of the last variable in the cell"
   ]
  },
  {
   "cell_type": "code",
   "execution_count": 1,
   "metadata": {},
   "outputs": [
    {
     "data": {
      "text/plain": [
       "30"
      ]
     },
     "execution_count": 1,
     "metadata": {},
     "output_type": "execute_result"
    }
   ],
   "source": [
    "a = 10\n",
    "b = 20\n",
    "c = a + b\n",
    "c"
   ]
  }
 ],
 "metadata": {
  "kernelspec": {
   "display_name": "Python 3",
   "language": "python",
   "name": "python3"
  },
  "language_info": {
   "codemirror_mode": {
    "name": "ipython",
    "version": 3
   },
   "file_extension": ".py",
   "mimetype": "text/x-python",
   "name": "python",
   "nbconvert_exporter": "python",
   "pygments_lexer": "ipython3",
   "version": "3.6.3"
  }
 },
 "nbformat": 4,
 "nbformat_minor": 2
}
