{
 "cells": [
  {
   "cell_type": "markdown",
   "metadata": {},
   "source": [
    "# Module 02 Advanced Python - 03 Regular expression in Python"
   ]
  },
  {
   "cell_type": "markdown",
   "metadata": {},
   "source": [
    "# Regular Expressions\n",
    "A regular expression is a special sequence of characters that helps you match or find other strings or sets of strings, using a specialized syntax held in a pattern. Regular Expressions (called REs, or regexes, or regex patterns) are essentially a tiny, highly specialized programming language embedded inside Python and made available through the `re` module. Using it, user needs to  specify the rules for the set of possible strings that the user wants to match; this set might contain English sentences, or e-mail addresses, etc. User can then ask questions such as “Does this string match the pattern?”, or “Is there a match for the pattern anywhere in this string?”. User can also use REs to modify a string or to split it apart in various ways. Regular Expression patterns are compiled into a series of bytecodes which are then executed by a matching engine written in C."
   ]
  },
  {
   "cell_type": "markdown",
   "metadata": {},
   "source": [
    "## Matching Characters\n",
    "Since regular expressions are used to operate on strings, we’ll begin with the most common task: matching characters.\n",
    "\n",
    "Most letters and characters will simply match themselves. For example, the regular expression `test` will match the string `test` exactly.\n",
    "\n",
    "However, some characters called special metacharacters, don’t match themselves. Instead, they signal that some out-of-the-ordinary thing should be matched, or they affect other portions of the RE by repeating them or changing their meaning.\n",
    "\n",
    "Here’s a complete list of the metacharacters:\n",
    "\n",
    "**\n",
    "```\n",
    ". ^ $ * + ? { } [ ] \\ | ( )\n",
    "```**"
   ]
  },
  {
   "cell_type": "markdown",
   "metadata": {},
   "source": [
    "### Basic patterns that match single characters\n",
    "- **`a`, `X`, `9`, `<`**: ordinary characters just match themselves exactly.\n",
    "- **`.`**: (a period) matches any single character except newline `'\\n'`\n",
    "- **`\\w`**: matches a \"word\" character: a letter or digit or underbar `[a-zA-Z0-9_]`.\n",
    "- **`\\W`**: matches any non-word character.\n",
    "- **`\\b`**: boundary between word and non-word\n",
    "- **`\\s`**: matches a single whitespace character: space, newline, return, tab\n",
    "- **`\\S`**: matches any non-whitespace character.\n",
    "- **`\\t`, `\\n`, `\\r`**: tab, newline, return\n",
    "- **`\\d`**: decimal digit `[0-9]`\n",
    "- **`^`**: matches start of the string\n",
    "- **`$`**: match the end of the string\n",
    "- **`\\`**: inhibit the \"specialness\" of a character."
   ]
  },
  {
   "cell_type": "markdown",
   "metadata": {},
   "source": [
    "## Regular Expression Modifiers: Option Flags\n",
    "Regular expression literals may include an optional modifier to control various aspects of matching. The modifiers are specified as an optional flag. You can provide multiple modifiers using OR `|`.\n",
    "\n",
    "- `re.I`: Performs case-insensitive matching.\n",
    "- `re.L`: Interprets words according to the current locale. This interpretation affects the alphabetic group (`\\w` and `\\W`), as well as word boundary behavior (`\\b` and `\\B`).\n",
    "- `re.M`: Makes `$` match the end of a line (not just the end of the string) and makes `^` match the start of any line (not just the start of the string).\n",
    "- `re.S`: Makes a period (dot) match any character, including a newline.\n",
    "- `re.U`: Interprets letters according to the Unicode character set. This flag affects the behavior of `\\w`, `\\W`, `\\b`, `\\B`.\n",
    "- `re.X`: Permits \"cuter\" regular expression syntax. It ignores whitespace (except inside a set `[]` or when escaped by a backslash) and treats unescaped `#` as a comment marker."
   ]
  },
  {
   "cell_type": "markdown",
   "metadata": {},
   "source": [
    "## Regular Expression Patterns\n",
    "Except for the control characters, **`+ ? . * ^ $ ( ) [ ] { } | \\`**, all characters match themselves. You can escape a control character by preceding it with a backslash.\n",
    "\n",
    "- `^`: Matches beginning of line.\n",
    "- `[...]`: Matches any single character in brackets.\n",
    "- `[^...]`: Matches any single character not in brackets\n",
    "- `re*`: Matches `0` or more occurrences of preceding expression.\n",
    "- `re+`: Matches `1` or more occurrence of preceding expression.\n",
    "- `re?`: Matches `0` or `1` occurrence of preceding expression.\n",
    "- `re{n}`: Matches exactly `n` number of occurrences of preceding expression.\n",
    "- `re{n, }`: Matches `n` or more occurrences of preceding expression.\n",
    "- `re{n, m}`: Matches at least `n` and at most `m` occurrences of preceding expression.\n",
    "- `a|b`: Matches either `a` or `b`.\n",
    "- `(re)`: Groups regular expressions and remembers matched text.\n",
    "- `(?imx)`: Temporarily toggles on `i`, `m` or `x` options within a regular expression. If in parentheses, only that area is affected.\n",
    "- `(?-imx)`: Temporarily toggles off `i`, `m` or `x` options within a regular expression. If in parentheses, only that area is affected.\n",
    "- `(?: re)`: Groups regular expressions without remembering matched text.\n",
    "- `(?imx: re)`: Temporarily toggles on i, m, or x options within parentheses.\n",
    "- `(?-imx: re)`: Temporarily toggles off i, m, or x options within parentheses.\n",
    "- `(?#...)`: Comment.\n",
    "- `(?= re)`: Specifies position using a pattern. Does not have a range.\n",
    "- `(?! re)`: Specifies position using pattern negation. Does not have a range.\n",
    "- `(?> re)`: Matches independent pattern without backtracking.\n",
    "- `\\A`: Matches beginning of string.\n",
    "- `\\Z`: Matches end of string. If a newline exists, it matches just before newline.\n",
    "- `\\z`: Matches end of string.\n",
    "- `\\G`: Matches point where last match finished.\n",
    "- `\\b`: Matches word boundaries when outside brackets. Matches backspace (0x08) when inside brackets.\n",
    "- `\\B`: Matches nonword boundaries.\n",
    "- `\\n`: Matches newlines\n",
    "- `\\t`: Matches tabs\n",
    "- `\\1...\\9`: Matches nth grouped subexpression.\n",
    "- `\\10`: Matches nth grouped subexpression if it matched already. Otherwise refers to the octal representation of a character code.\n",
    "- `$`: Matches end of line."
   ]
  },
  {
   "cell_type": "markdown",
   "metadata": {},
   "source": [
    "### The `[ ]` metacharacters\n",
    "They’re used for specifying a character class, which is a set of characters that the user wishes to match. Characters can be listed individually, or a range of characters can be indicated by giving two characters and separating them by a `-`.\n",
    "\n",
    "For example, `[abc]` will match any of the characters `a`, `b` or `c`; this is the same as `[a-c]`, which uses a range to express the same set of characters.\n",
    "\n",
    "If the user wants to match only lowercase letters, then the RE would be `[a-z]`."
   ]
  },
  {
   "cell_type": "markdown",
   "metadata": {},
   "source": [
    "**Note:** Metacharacters are not active inside classes. For example, `[akm$]` will match any of the characters `a`, `k`, `m`, or `$`;\n",
    "\n",
    "`$` is usually a metacharacter, but inside a character class it’s stripped of its special nature."
   ]
  },
  {
   "cell_type": "markdown",
   "metadata": {},
   "source": [
    "## Regular Expression Examples\n",
    "- `python`: Match `\"python\"`\n",
    "- `[Pp]ython`: Match `\"Python\"` or `\"python\"`\n",
    "- `rub[ye]`: Match `\"ruby\"` or `\"rube\"`\n",
    "- `[aeiou]`: Match any one lowercase vowel\n",
    "- `[0-9]`: Match any digit; same as `[0123456789]`\n",
    "- `[a-z]`: Match any lowercase ASCII letter\n",
    "- `[A-Z]`: Match any uppercase ASCII letter\n",
    "- `[a-zA-Z0-9]`: Match any of the above\n",
    "- `[^aeiou]`: Match anything other than a lowercase vowel\n",
    "- `[^0-9]`: Match anything other than a digit"
   ]
  },
  {
   "cell_type": "markdown",
   "metadata": {},
   "source": [
    "## Special Character Classes\n",
    "- `.`: Match any character except newline\n",
    "- `\\d`: Match a digit: `[0-9]`\n",
    "- `\\D`: Match a nondigit: `[^0-9]`\n",
    "- `\\s`: Match a whitespace character: `[ \\t\\r\\n\\f]`\n",
    "- `\\S`: Match nonwhitespace: `[^ \\t\\r\\n\\f]`\n",
    "- `\\w`: Match a single word character: `[A-Za-z0-9_]`\n",
    "- `\\W`: Match a nonword character: `[^A-Za-z0-9_]`"
   ]
  },
  {
   "cell_type": "markdown",
   "metadata": {},
   "source": [
    "### The `compile()` method\n",
    "\n",
    "**Syntax:**\n",
    "```python\n",
    "re.compile(pattern)\n",
    "```"
   ]
  },
  {
   "cell_type": "code",
   "execution_count": 1,
   "metadata": {},
   "outputs": [
    {
     "data": {
      "text/plain": [
       "re.compile(r'[a-z]+', re.UNICODE)"
      ]
     },
     "execution_count": 1,
     "metadata": {},
     "output_type": "execute_result"
    }
   ],
   "source": [
    "# importing 're' module\n",
    "import re\n",
    "\n",
    "# compiling the regular expression\n",
    "regex = re.compile(r'[a-z]+')\n",
    "\n",
    "# diplay the regular expression\n",
    "regex"
   ]
  },
  {
   "cell_type": "markdown",
   "metadata": {},
   "source": [
    "### The `match()` method\n",
    "**Syntax:**\n",
    "```python\n",
    "re.match(string)\n",
    "```"
   ]
  },
  {
   "cell_type": "code",
   "execution_count": 2,
   "metadata": {},
   "outputs": [
    {
     "name": "stdout",
     "output_type": "stream",
     "text": [
      "matchObj: None\n"
     ]
    }
   ],
   "source": [
    "# matching the regular expression with an empty string\n",
    "matchObj = regex.match(\"\")\n",
    "\n",
    "print(\"matchObj:\", matchObj)"
   ]
  },
  {
   "cell_type": "code",
   "execution_count": 3,
   "metadata": {},
   "outputs": [
    {
     "name": "stdout",
     "output_type": "stream",
     "text": [
      "matchObj: <_sre.SRE_Match object; span=(0, 6), match='python'>\n"
     ]
    }
   ],
   "source": [
    "# matching the regular expression with a string\n",
    "matchObj = regex.match(\"python regex\")\n",
    "\n",
    "print(\"matchObj:\", matchObj)"
   ]
  },
  {
   "cell_type": "code",
   "execution_count": 4,
   "metadata": {},
   "outputs": [
    {
     "name": "stdout",
     "output_type": "stream",
     "text": [
      "matchObj: None\n"
     ]
    }
   ],
   "source": [
    "matchObj = regex.match(\"Python regex\")\n",
    "\n",
    "print(\"matchObj:\", matchObj)"
   ]
  },
  {
   "cell_type": "markdown",
   "metadata": {},
   "source": [
    "### The `search()` method"
   ]
  },
  {
   "cell_type": "code",
   "execution_count": 5,
   "metadata": {},
   "outputs": [
    {
     "name": "stdout",
     "output_type": "stream",
     "text": [
      "matchObj: <_sre.SRE_Match object; span=(1, 6), match='ython'>\n"
     ]
    }
   ],
   "source": [
    "matchObj = regex.search('Python regex')\n",
    "\n",
    "print(\"matchObj:\", matchObj)"
   ]
  },
  {
   "cell_type": "markdown",
   "metadata": {},
   "source": [
    "#### Actual way of writing the program"
   ]
  },
  {
   "cell_type": "code",
   "execution_count": 6,
   "metadata": {},
   "outputs": [
    {
     "name": "stdout",
     "output_type": "stream",
     "text": [
      "Match found: string goes here\n"
     ]
    }
   ],
   "source": [
    "regex = re.compile(r'\\w+ \\w+ \\w+')\n",
    "\n",
    "matchObj = regex.match('string goes here')\n",
    "\n",
    "if matchObj:\n",
    "    print('Match found:', matchObj.group())\n",
    "else:\n",
    "    print('No match')"
   ]
  },
  {
   "cell_type": "markdown",
   "metadata": {},
   "source": [
    "### The `findall()` method"
   ]
  },
  {
   "cell_type": "code",
   "execution_count": 7,
   "metadata": {},
   "outputs": [
    {
     "name": "stdout",
     "output_type": "stream",
     "text": [
      "['12', '11', '10']\n"
     ]
    }
   ],
   "source": [
    "import re\n",
    "\n",
    "regex = re.compile(r'\\d+')\n",
    "\n",
    "matchObj = regex.findall('12 drummers drumming, 11 pipers piping, 10 lords a-leaping')\n",
    "\n",
    "print(matchObj)"
   ]
  },
  {
   "cell_type": "markdown",
   "metadata": {},
   "source": [
    "### The `finditer()` method"
   ]
  },
  {
   "cell_type": "code",
   "execution_count": 8,
   "metadata": {
    "collapsed": true
   },
   "outputs": [],
   "source": [
    "iterator = regex.finditer('12 drummers drumming, 11 ... 10 ...')"
   ]
  },
  {
   "cell_type": "code",
   "execution_count": 9,
   "metadata": {},
   "outputs": [
    {
     "name": "stdout",
     "output_type": "stream",
     "text": [
      "12\n",
      "11\n",
      "10\n"
     ]
    }
   ],
   "source": [
    "for matchObj in iterator:\n",
    "    print(matchObj.group())"
   ]
  },
  {
   "cell_type": "markdown",
   "metadata": {},
   "source": [
    "### The `match()` method\n",
    "This method attempts to match RE pattern to string with optional flags.\n",
    "\n",
    "**Syntax:**\n",
    "```python\n",
    "re.match(pattern, string, flags=0)\n",
    "```\n",
    "\n",
    "- `pattern`: This is the regular expression to be matched.\n",
    "- `string`: This is the string, which would be searched to match the attern at the beginning of string.\n",
    "- `flags`: You can specify different flags using bitwise OR `(|)`. These are modifiers, which are listed in the table below."
   ]
  },
  {
   "cell_type": "markdown",
   "metadata": {},
   "source": [
    "The `re.match()` method on returns a match object on success, `None` on failure. The `group(num)` or `groups()` methods of match object are used to get matched expression.\n",
    "- `group(num=0)`: This method returns entire match (or specific subgroup num)\n",
    "- `groups()`: This method returns all matching subgroups in a tuple (empty if there weren't any)"
   ]
  },
  {
   "cell_type": "code",
   "execution_count": 10,
   "metadata": {},
   "outputs": [
    {
     "name": "stdout",
     "output_type": "stream",
     "text": [
      "matchObj.group(): Cats are smarter than dogs\n",
      "matchObj.group(1): Cats\n",
      "matchObj.group(2): smarter than dogs\n",
      "matchObj.groups(): ('Cats', 'smarter than dogs')\n"
     ]
    }
   ],
   "source": [
    "import re\n",
    "\n",
    "pattern = r\"(.*) are (.*)\"\n",
    "\n",
    "string = \"Cats are smarter than dogs\"\n",
    "\n",
    "matchObj = re.match(pattern, string, re.M|re.I)\n",
    "\n",
    "if matchObj:\n",
    "    print(\"matchObj.group():\", matchObj.group())\n",
    "    print(\"matchObj.group(1):\", matchObj.group(1))\n",
    "    print(\"matchObj.group(2):\", matchObj.group(2))\n",
    "    print(\"matchObj.groups():\", matchObj.groups())\n",
    "else:\n",
    "    print(\"No match!!\")"
   ]
  },
  {
   "cell_type": "markdown",
   "metadata": {},
   "source": [
    "### The `search()` method\n",
    "The `search()` method searches for first occurence of RE pattern within the string, with optional flags.\n",
    "\n",
    "```python\n",
    "re.search(pattern, string, flags=0)\n",
    "```"
   ]
  },
  {
   "cell_type": "code",
   "execution_count": 11,
   "metadata": {},
   "outputs": [
    {
     "name": "stdout",
     "output_type": "stream",
     "text": [
      "searchObj.group(): Cats are smarter than dogs\n",
      "searchObj.group(1): Cats\n",
      "searchObj.group(2): smarter than dogs\n",
      "searchObj.groups(): ('Cats', 'smarter than dogs')\n"
     ]
    }
   ],
   "source": [
    "import re\n",
    "\n",
    "line = \"Cats are smarter than dogs\";\n",
    "\n",
    "searchObj = re.search(r'(.*) are (.*)', line, re.M|re.I)\n",
    "\n",
    "if searchObj:\n",
    "    print(\"searchObj.group():\", searchObj.group())\n",
    "    print(\"searchObj.group(1):\", searchObj.group(1))\n",
    "    print(\"searchObj.group(2):\", searchObj.group(2))\n",
    "    print(\"searchObj.groups():\", searchObj.groups())\n",
    "else:\n",
    "    print (\"Nothing found!!\")"
   ]
  },
  {
   "cell_type": "markdown",
   "metadata": {},
   "source": [
    "### Matching versus Searching\n",
    "Python offers two different primitive operations based on regular expressions: \n",
    "- `match()`: checks for a match only at the beginning of the string.\n",
    "- `search()`: checks for a match anywhere in the string."
   ]
  },
  {
   "cell_type": "code",
   "execution_count": 12,
   "metadata": {},
   "outputs": [
    {
     "name": "stdout",
     "output_type": "stream",
     "text": [
      "No match!!!\n",
      "search -> searchObj.group(): dogs\n"
     ]
    }
   ],
   "source": [
    "import re\n",
    "\n",
    "line = \"Cats are smarter than dogs\";\n",
    "\n",
    "\n",
    "matchObj = re.match(r'dogs', line, re.M|re.I)\n",
    "\n",
    "# Matching \"dogs\"\n",
    "if matchObj:\n",
    "    print(\"match -> matchObj.group():\", matchObj.group())\n",
    "else:\n",
    "    print(\"No match!!!\")\n",
    "\n",
    "searchObj = re.search( r'dogs', line, re.M|re.I)\n",
    "\n",
    "# Searching \"dogs\"\n",
    "if searchObj:\n",
    "    print(\"search -> searchObj.group():\", searchObj.group())\n",
    "else:\n",
    "    print(\"Nothing found!!!\")"
   ]
  },
  {
   "cell_type": "markdown",
   "metadata": {},
   "source": [
    "### The `sub()` method\n",
    "\n",
    "**Syntax:**\n",
    "```python\n",
    "re.sub(pattern, repl, string, max=0)\n",
    "```\n",
    "This method replaces all occurrences of the RE pattern in string with repl, substituting all occurrences unless max is provided. This method returns modified string."
   ]
  },
  {
   "cell_type": "code",
   "execution_count": 13,
   "metadata": {},
   "outputs": [
    {
     "name": "stdout",
     "output_type": "stream",
     "text": [
      "Phone Number: 2004-959-559 \n",
      "Phone Number: 2004959559\n"
     ]
    }
   ],
   "source": [
    "import re\n",
    "\n",
    "phone = \"2004-959-559 # This is Phone Number\"\n",
    "\n",
    "# Delete Python comments\n",
    "num = re.sub(r'#.*', \"\", phone)\n",
    "\n",
    "print (\"Phone Number:\", num)\n",
    "\n",
    "# Remove anything other than digits\n",
    "num = re.sub(r'\\D', \"\", phone)    \n",
    "\n",
    "print (\"Phone Number:\", num)"
   ]
  },
  {
   "cell_type": "markdown",
   "metadata": {},
   "source": [
    "# Example"
   ]
  },
  {
   "cell_type": "code",
   "execution_count": 14,
   "metadata": {
    "scrolled": true
   },
   "outputs": [
    {
     "name": "stdout",
     "output_type": "stream",
     "text": [
      "Module 02 Advanced Python - 01 Files and Directories in Python.pdf\n",
      "Module 02 Advanced Python - 02 Building Modules and Packages.pdf\n",
      "Module 02 Advanced Python - 03 Regular expression in Python.pdf\n"
     ]
    }
   ],
   "source": [
    "import os, re\n",
    "\n",
    "def print_pdf(files):\n",
    "    for file in files:\n",
    "        if re.search(r\".*\\.pdf\", file):\n",
    "            print(file)\n",
    "\n",
    "for root, dirs, files in os.walk('.'):\n",
    "    print_pdf(files)"
   ]
  }
 ],
 "metadata": {
  "kernelspec": {
   "display_name": "Python 3",
   "language": "python",
   "name": "python3"
  },
  "language_info": {
   "codemirror_mode": {
    "name": "ipython",
    "version": 3
   },
   "file_extension": ".py",
   "mimetype": "text/x-python",
   "name": "python",
   "nbconvert_exporter": "python",
   "pygments_lexer": "ipython3",
   "version": "3.6.3"
  }
 },
 "nbformat": 4,
 "nbformat_minor": 2
}
