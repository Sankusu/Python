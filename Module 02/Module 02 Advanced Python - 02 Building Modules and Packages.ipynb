{
 "cells": [
  {
   "cell_type": "markdown",
   "metadata": {},
   "source": [
    "# Module 02 Advanced Python - 02 Building Modules and Packages"
   ]
  },
  {
   "cell_type": "markdown",
   "metadata": {},
   "source": [
    "# Modules\n",
    "A module allows you to logically organize your Python code. Grouping related code into a module makes the code easier to understand and use. A module is a Python object with arbitrarily named attributes that you can bind and reference.\n",
    "\n",
    "Simply, a module is a file consisting of Python code. A module can define functions, classes\n",
    "and variables. A module can also include runnable code."
   ]
  },
  {
   "cell_type": "markdown",
   "metadata": {},
   "source": [
    "```python\n",
    "# A simple module: hello.py\n",
    "def func(name):\n",
    "    print(\"Hello\", name)\n",
    "```"
   ]
  },
  {
   "cell_type": "markdown",
   "metadata": {},
   "source": [
    "## The `import` statement\n",
    "You can use any Python source file as a module by executing an import statement in some other Python source file. \n",
    "\n",
    "**Syntax:**\n",
    "```python\n",
    "import module1[, module2[, ... moduleN]\n",
    "```\n",
    "When the interpreter encounters an import statement, it imports the module if the module is present in the search path. A search path is a list of directories that the interpreter searches before importing a module. For example, to import the module hello.py, you need to put the following command at the top of the script."
   ]
  },
  {
   "cell_type": "code",
   "execution_count": 1,
   "metadata": {},
   "outputs": [
    {
     "name": "stdout",
     "output_type": "stream",
     "text": [
      "Hello Mark\n"
     ]
    }
   ],
   "source": [
    "# Import module hello.py\n",
    "import hello\n",
    "\n",
    "# Now you can call defined function that module as follows\n",
    "hello.func(\"Mark\")"
   ]
  },
  {
   "cell_type": "markdown",
   "metadata": {},
   "source": [
    "## The `from...import` statement\n",
    "Python's `from` statement lets you `import` specific attributes from a module into the current namespace. \n",
    "\n",
    "**Syntax:**\n",
    "```python\n",
    "from modname import name1[, name2[, ... nameN]]\n",
    "```"
   ]
  },
  {
   "cell_type": "markdown",
   "metadata": {},
   "source": [
    "```python\n",
    "# Module: mathematics.py\n",
    "\n",
    "# Returns Fibonacci series up to n\n",
    "def fib(n): \n",
    "    result = []\n",
    "    a, b = 0, 1\n",
    "    while b < n:\n",
    "        result.append(b)\n",
    "        a, b = b, a+b\n",
    "    return result\n",
    "\n",
    "# Returns factorial of n\n",
    "def fact(n):\n",
    "    if n<1: return 1\n",
    "    else: return n*fact(n-1)\n",
    "\n",
    "\n",
    "# Returns square of n\n",
    "def sq(n):\n",
    "    return n*n\n",
    "```"
   ]
  },
  {
   "cell_type": "code",
   "execution_count": 2,
   "metadata": {},
   "outputs": [
    {
     "data": {
      "text/plain": [
       "120"
      ]
     },
     "execution_count": 2,
     "metadata": {},
     "output_type": "execute_result"
    }
   ],
   "source": [
    "from mathematics import fact\n",
    "\n",
    "fact(5)"
   ]
  },
  {
   "cell_type": "markdown",
   "metadata": {},
   "source": [
    "### Using `as` alias"
   ]
  },
  {
   "cell_type": "code",
   "execution_count": 3,
   "metadata": {},
   "outputs": [
    {
     "data": {
      "text/plain": [
       "3628800"
      ]
     },
     "execution_count": 3,
     "metadata": {},
     "output_type": "execute_result"
    }
   ],
   "source": [
    "from mathematics import fact as f\n",
    "\n",
    "f(10)"
   ]
  },
  {
   "cell_type": "markdown",
   "metadata": {},
   "source": [
    "## The `from...import *` statement:\n",
    "It is also possible to `import` all the names from a module into the current namespace.\n",
    "```python\n",
    "from modname import *\n",
    "```"
   ]
  },
  {
   "cell_type": "code",
   "execution_count": 4,
   "metadata": {},
   "outputs": [
    {
     "data": {
      "text/plain": [
       "9"
      ]
     },
     "execution_count": 4,
     "metadata": {},
     "output_type": "execute_result"
    }
   ],
   "source": [
    "from mathematics import *\n",
    "\n",
    "sq(3)"
   ]
  },
  {
   "cell_type": "markdown",
   "metadata": {},
   "source": [
    "## Executing Modules as Scripts"
   ]
  },
  {
   "cell_type": "markdown",
   "metadata": {},
   "source": [
    "When the code given below is executed using `$ python3 square.py`, `sq(10)` will be called because the `__name__` set to `\"__main__\"`\n",
    "\n",
    "However, when this module is imported, it will define the function `sq`, but will **NOT** call the function `sq(10)` as the `__name__` is not equal to `\"__main__\"`. In this case, `__name__` is equal to the name of the module which is `square`."
   ]
  },
  {
   "cell_type": "markdown",
   "metadata": {},
   "source": [
    "```python\n",
    "# Module: \"square.py\"\n",
    "def sq(n):\n",
    "    print(n*n)\n",
    "\n",
    "if __name__ == \"__main__\":\n",
    "    sq(10)\n",
    "```"
   ]
  },
  {
   "cell_type": "code",
   "execution_count": 5,
   "metadata": {},
   "outputs": [
    {
     "name": "stdout",
     "output_type": "stream",
     "text": [
      "25\n"
     ]
    }
   ],
   "source": [
    "from square import sq\n",
    "\n",
    "sq(5)"
   ]
  },
  {
   "cell_type": "markdown",
   "metadata": {},
   "source": [
    "When the module `square.py` is imported into another module, the module's name `\"square\"` is available as the value of the global variable `__name__`. Hence, when the module `sqaure.py` is imported, `sq()` function will be defined but `sq(10)` function will **NOT** be executed."
   ]
  },
  {
   "cell_type": "markdown",
   "metadata": {},
   "source": [
    "## The `__pycache__`  directory\n",
    "Python automatically compiles your script to compiled code, so called byte code, before running it.\n",
    "\n",
    "When a module is imported for the first time, or when the source is more recent than the current compiled file, a `.pyc` file containing the compiled code will be created in `__pycache__` subdirectory of the imported file. When the program is executed next time, Python uses this file to skip the compilation step."
   ]
  },
  {
   "cell_type": "markdown",
   "metadata": {},
   "source": [
    "# The `sys` module\n",
    "### System-specific parameters and functions\n",
    "This module provides access to some variables used or maintained by the interpreter and to functions that interact strongly with the interpreter. It is always available."
   ]
  },
  {
   "cell_type": "markdown",
   "metadata": {},
   "source": [
    "## Locating Modules\n",
    "When you import a module, the Python interpreter searches for the module in the following sequences:\n",
    "- The current directory.\n",
    "- If the module is not found, Python then searches each directory in the shell variable `PYTHONPATH`.\n",
    "- If all else fails, Python checks the default path. On `UNIX`, this default path is normally `/usr/local/lib/python3/`.\n",
    "\n",
    "The module search path is stored in the system module `sys` as the `sys.path` variable. The `sys.path` variable contains the current directory, `PYTHONPATH`, and the installation dependent default.\n",
    "\n",
    "Here is a typical `PYTHONPATH` from a Windows system:\n",
    "\n",
    "`set PYTHONPATH=c:\\python36\\lib;`\n",
    "\n",
    "And here is a typical `PYTHONPATH` from a UNIX system:\n",
    "\n",
    "`set PYTHONPATH=/usr/local/lib/python`\n",
    "\n",
    "Another method is the `sys.path.append()` function. You may execute it before running an `import` command"
   ]
  },
  {
   "cell_type": "code",
   "execution_count": 6,
   "metadata": {},
   "outputs": [
    {
     "data": {
      "text/plain": [
       "['',\n",
       " 'c:\\\\users\\\\san\\\\appdata\\\\local\\\\programs\\\\python\\\\python36\\\\python36.zip',\n",
       " 'c:\\\\users\\\\san\\\\appdata\\\\local\\\\programs\\\\python\\\\python36\\\\DLLs',\n",
       " 'c:\\\\users\\\\san\\\\appdata\\\\local\\\\programs\\\\python\\\\python36\\\\lib',\n",
       " 'c:\\\\users\\\\san\\\\appdata\\\\local\\\\programs\\\\python\\\\python36',\n",
       " 'C:\\\\Users\\\\SAN\\\\AppData\\\\Roaming\\\\Python\\\\Python36\\\\site-packages',\n",
       " 'c:\\\\users\\\\san\\\\appdata\\\\local\\\\programs\\\\python\\\\python36\\\\lib\\\\site-packages',\n",
       " 'c:\\\\users\\\\san\\\\appdata\\\\local\\\\programs\\\\python\\\\python36\\\\lib\\\\site-packages\\\\IPython\\\\extensions',\n",
       " 'C:\\\\Users\\\\SAN\\\\.ipython']"
      ]
     },
     "execution_count": 6,
     "metadata": {},
     "output_type": "execute_result"
    }
   ],
   "source": [
    "import sys\n",
    "\n",
    "sys.path"
   ]
  },
  {
   "cell_type": "markdown",
   "metadata": {
    "collapsed": true
   },
   "source": [
    "## The `dir()` function\n",
    "The `dir()` built-in function returns a sorted list of strings containing the names defined by a module.\n",
    "\n",
    "The list contains the names of all the modules, variables and functions that are defined in a module."
   ]
  },
  {
   "cell_type": "code",
   "execution_count": 7,
   "metadata": {},
   "outputs": [
    {
     "name": "stdout",
     "output_type": "stream",
     "text": [
      "['__doc__', '__loader__', '__name__', '__package__', '__spec__', 'acos', 'acosh', 'asin', 'asinh', 'atan', 'atan2', 'atanh', 'ceil', 'copysign', 'cos', 'cosh', 'degrees', 'e', 'erf', 'erfc', 'exp', 'expm1', 'fabs', 'factorial', 'floor', 'fmod', 'frexp', 'fsum', 'gamma', 'gcd', 'hypot', 'inf', 'isclose', 'isfinite', 'isinf', 'isnan', 'ldexp', 'lgamma', 'log', 'log10', 'log1p', 'log2', 'modf', 'nan', 'pi', 'pow', 'radians', 'sin', 'sinh', 'sqrt', 'tan', 'tanh', 'tau', 'trunc']\n"
     ]
    }
   ],
   "source": [
    "# Import built-in module math\n",
    "import math\n",
    "\n",
    "print(dir(math))"
   ]
  },
  {
   "cell_type": "markdown",
   "metadata": {},
   "source": [
    "# Packages in Python\n",
    "A package is a hierarchical file directory structure that defines a single Python application environment that consists of modules and subpackages and sub-subpackages, and so on.\n",
    "\n",
    "Packages are namespaces which contain multiple packages and modules themselves. They are simply directories, but with a twist."
   ]
  },
  {
   "cell_type": "markdown",
   "metadata": {},
   "source": [
    "```python\n",
    "# \"hello_package.py\" in \"packages\" directory\n",
    "def hello():\n",
    "    print(\"Hello Package\")\n",
    "```"
   ]
  },
  {
   "cell_type": "markdown",
   "metadata": {},
   "source": [
    "### The `__init__.py` file\n",
    "The `__init__.py` file is required to make Python treat the directories as containing packages; this is done to prevent directories with a common name, such as string, from unintentionally hiding valid modules that occur later on the module search path. In the simplest case, `__init__.py` can just be an empty file.\n",
    "\n",
    "Create a file `__init__.py` in the `packages` directory\n",
    "\n",
    "`packages/__init__.py`\n",
    "\n",
    "To make `hello()` function available when `packages` is imported, put explicit `import` statements in `__init__.py` as follows:\n",
    "\n",
    "```python\n",
    "from packages.hello_package import hello\n",
    "```\n",
    "\n",
    "After this line is added to `__init__.py`, you have all of these classes available when you `import packages`."
   ]
  },
  {
   "cell_type": "code",
   "execution_count": 8,
   "metadata": {},
   "outputs": [
    {
     "name": "stdout",
     "output_type": "stream",
     "text": [
      "Hello Package\n"
     ]
    }
   ],
   "source": [
    "# Now import \"hello_package\" from \"packages\"\n",
    "from packages import hello_package\n",
    "\n",
    "hello_package.hello()"
   ]
  }
 ],
 "metadata": {
  "kernelspec": {
   "display_name": "Python 3",
   "language": "python",
   "name": "python3"
  },
  "language_info": {
   "codemirror_mode": {
    "name": "ipython",
    "version": 3
   },
   "file_extension": ".py",
   "mimetype": "text/x-python",
   "name": "python",
   "nbconvert_exporter": "python",
   "pygments_lexer": "ipython3",
   "version": "3.6.3"
  }
 },
 "nbformat": 4,
 "nbformat_minor": 2
}
