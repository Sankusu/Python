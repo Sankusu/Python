{
 "cells": [
  {
   "cell_type": "markdown",
   "metadata": {},
   "source": [
    "# Module 02 Advanced Python - 01 Files and Directories in Python"
   ]
  },
  {
   "cell_type": "markdown",
   "metadata": {},
   "source": [
    "## Opening and Closing Files\n",
    "Until now, you have been reading and writing to the standard input and output. Now, we will see how to use actual data files.\n",
    "\n",
    "Python provides basic functions and methods necessary to manipulate files by default. You can do most of the file manipulation using a `file` object."
   ]
  },
  {
   "cell_type": "markdown",
   "metadata": {},
   "source": [
    "### The `open()` function\n",
    "Before you can read or write a file, you have to open it using Python's built-in `open()` function. This function creates a `file` object, which would be utilized to call other support methods associated with it.\n",
    "\n",
    "**Syntax:**\n",
    "```python\n",
    "file_object = open(file_name [, access_mode][, buffering])\n",
    "```\n",
    "- `file_name`: The file_name argument is a string value that contains the name of the file that you want to access.\n",
    "- `access_mode`: The access_mode determines the mode in which the file has to be opened, i.e., read, write, append, etc. A complete list of possible values is given below in the table. This is an optional parameter and the default file access mode is read (r).\n",
    "- `buffering`: If the buffering value is set to 0, no buffering takes place. If the buffering value is 1, line buffering is performed while accessing a file. If you specify the buffering value as an integer greater than 1, then buffering action is performed with the indicated buffer size. If negative, the buffer size is the system default(default behavior)."
   ]
  },
  {
   "cell_type": "markdown",
   "metadata": {},
   "source": [
    "### Different modes of opening a file\n",
    "- `r`: Opens a file for reading only. The file pointer is placed at the beginning of the file. This is the default mode.\n",
    "- `rb`: Opens a file for reading only in binary format. The file pointer is placed at the beginning of the file. This is the default mode.\n",
    "- `r+`: Opens a file for both reading and writing. The file pointer placed at the beginning of the file.\n",
    "- `rb+`: Opens a file for both reading and writing in binary format. The file pointer placed at the beginning of the file.\n",
    "- `w`: Opens a file for writing only. Overwrites the file if the file exists. If the file does not exist, creates a new file for writing.\n",
    "- `wb`: Opens a file for writing only in binary format. Overwrites the file if the file exists. If the file does not exist, creates a new file for writing.\n",
    "- `w+`: Opens a file for both writing and reading. Overwrites the existing file if the file exists. If the file does not exist, creates a new file for reading and writing.\n",
    "- `wb+`: Opens a file for both writing and reading in binary format. Overwrites the existing file if the file exists. If the file does not exist, creates a new file for reading and writing.\n",
    "- `a`: Opens a file for appending. The file pointer is at the end of the file if the file exists. That is, the file is in the append mode. If the file does not exist, it creates a new file for writing.\n",
    "- `ab`: Opens a file for appending in binary format. The file pointer is at the end of the file if the file exists. That is, the file is in the append mode. If the file does not exist, it creates a new file for writing.\n",
    "- `a+`: Opens a file for both appending and reading. The file pointer is at the end of the file if the file exists. The file opens in the append mode. If the file does not exist, it creates a new file for reading and writing.\n",
    "- `ab+`: Opens a file for both appending and reading in binary format. The file pointer is at the end of the file if the file exists. The file opens in the append mode. If the file does not exist, it creates a new file for reading and writing."
   ]
  },
  {
   "cell_type": "markdown",
   "metadata": {},
   "source": [
    "### The `file` object attributes\n",
    "Once a file is opened and you have one file object, you can get various information related to that file.\n",
    "- `file.closed`: Returns true if file is closed, false otherwise.\n",
    "- `file.mode`: Returns access mode with which file was opened.\n",
    "- `file.name`: Returns name of the file."
   ]
  },
  {
   "cell_type": "markdown",
   "metadata": {},
   "source": [
    "## The `close()` method\n",
    "The `close()` method of a file object flushes any unwritten information and closes the file object, after which no more writing can be done.\n",
    "\n",
    "Python automatically closes a file when the reference object of a file is reassigned to another file. It is a good practice to use the `close()` method to close a file."
   ]
  },
  {
   "cell_type": "code",
   "execution_count": 1,
   "metadata": {},
   "outputs": [
    {
     "name": "stdout",
     "output_type": "stream",
     "text": [
      "Name of the file:  test.txt\n",
      "Closed or not :  False\n",
      "Opening mode :  w+\n"
     ]
    }
   ],
   "source": [
    "# Open a file\n",
    "f = open(\"test.txt\", \"w+\")\n",
    "print (\"Name of the file: \", f.name)\n",
    "print (\"Closed or not : \", f.closed)\n",
    "print (\"Opening mode : \", f.mode)\n",
    "\n",
    "# Close opened file\n",
    "f.close()"
   ]
  },
  {
   "cell_type": "markdown",
   "metadata": {},
   "source": [
    "## File Methods\n",
    "- `file.close()`: Close the file. A closed file cannot be read or written any more.\n",
    "- `file.flush()`: Flush the internal buffer, like stdio's fflush. This may be a no-op on some file-like objects.\n",
    "- `file.fileno()`: Returns the integer file descriptor that is used by the underlying implementation to request I/O operations from the operating system.\n",
    "- `file.isatty()`: Returns True if the file is connected to a tty(-like) device, else False.\n",
    "- `next(file)`: Returns the next line from the file each time it is being called.\n",
    "- `file.read([size])`: Reads at most size bytes from the file (less if the read hits EOF before obtaining size bytes).\n",
    "- `file.readline([size])`: Reads one entire line from the file. A trailing newline character is kept in the string.\n",
    "- `file.readlines([sizehint])`: Reads until EOF using readline() and return a list containing the lines. If the optional sizehint argument is present, instead of reading up to EOF, whole lines totalling approximately sizehint bytes (possibly after rounding up to an internal buffer size) are read.\n",
    "- `file.seek(offset[, whence])`: Sets the file's current position\n",
    "- `file.tell()`: Returns the file's current position\n",
    "- `file.truncate([size])`: Truncates the file's size. If the optional size argument is present, the file is truncated to (at most) that size.\n",
    "- `file.write(str)`: Writes a string to the file. There is no return value.\n",
    "- `file.writelines(sequence)`: Writes a sequence of strings to the file. The sequence can be any iterable object producing strings, typically a list of strings."
   ]
  },
  {
   "cell_type": "markdown",
   "metadata": {},
   "source": [
    "## The `write()` method\n",
    "The `write()` method writes any string to an open file. It is important to note that Python strings can have binary data and not just text.\n",
    "\n",
    "The `write()` method does not add a newline character ('\\n') to the end of the string.\n",
    "\n",
    "**Syntax:**\n",
    "```python\n",
    "file.write(string)\n",
    "```"
   ]
  },
  {
   "cell_type": "markdown",
   "metadata": {},
   "source": [
    "## The `read()` method\n",
    "The `read()` method reads a string from an open file. It is important to note that Python strings can have binary data, apart from text data.\n",
    "\n",
    "**Syntax:**\n",
    "```python\n",
    "file.read([count])\n",
    "```\n",
    "Here, passed parameter is the number of bytes to be read from the opened file. This method starts reading from the beginning of the file and if `count` is missing, then it tries to read as much as possible, maybe until the end of file."
   ]
  },
  {
   "cell_type": "code",
   "execution_count": 2,
   "metadata": {
    "collapsed": true
   },
   "outputs": [],
   "source": [
    "# Open a file\n",
    "f = open(\"test.txt\", \"w+\")\n",
    "f.write(\"Python is a great language. Yeah its great!!!\")\n",
    "\n",
    "# Close opened file\n",
    "f.close()"
   ]
  },
  {
   "cell_type": "code",
   "execution_count": 3,
   "metadata": {},
   "outputs": [
    {
     "name": "stdout",
     "output_type": "stream",
     "text": [
      "Python is a great language. Yeah its great!!!\n",
      "Python is a great language.\n"
     ]
    }
   ],
   "source": [
    "# Open a file\n",
    "f = open(\"test.txt\", \"r+\")\n",
    "print(f.read())\n",
    "\n",
    "f = open(\"test.txt\", \"r+\")\n",
    "print(f.read(27))\n",
    "\n",
    "# Close opened file\n",
    "f.close()"
   ]
  },
  {
   "cell_type": "markdown",
   "metadata": {},
   "source": [
    "## The `with` statement\n",
    "Python provides the `with` statement that automatically closes the file, when the end of the file is reached.\n",
    "\n",
    "**Syntax:**\n",
    "\n",
    "```python\n",
    "with open(filename, mode) as variable:\n",
    "    # processing statements\n",
    "```"
   ]
  },
  {
   "cell_type": "code",
   "execution_count": 4,
   "metadata": {
    "collapsed": true
   },
   "outputs": [],
   "source": [
    "# Open a file\n",
    "f = open(\"test.txt\", \"w+\")\n",
    "f.write(\"Python is a great language.\\n\")\n",
    "f.write(\"Java is a great language.\\n\")\n",
    "f.write(\"Perl is a great language.\\n\")\n",
    "\n",
    "f.close()"
   ]
  },
  {
   "cell_type": "code",
   "execution_count": 5,
   "metadata": {},
   "outputs": [
    {
     "name": "stdout",
     "output_type": "stream",
     "text": [
      "Python is a great language.\n",
      "Java is a great language.\n",
      "Perl is a great language.\n",
      "\n"
     ]
    }
   ],
   "source": [
    "with open(\"test.txt\", \"r+\") as f:\n",
    "    print(f.read())"
   ]
  },
  {
   "cell_type": "markdown",
   "metadata": {},
   "source": [
    "## File Positions\n",
    "The `tell()` method tells you the current position within the file; in other words, the next read or write will occur at that many bytes from the beginning of the file.\n",
    "\n",
    "The `seek(offset[, from])` method changes the current file position. The `offset` argument indicates the number of bytes to be moved. The `from` argument specifies the reference position from where the bytes are to be moved.\n",
    "\n",
    "If `from` is set to 0, the beginning of the file is used as the reference position. If it is set to 1, the current position is used as the reference position. If it is set to 2 then the end of the file would be taken as the reference position."
   ]
  },
  {
   "cell_type": "code",
   "execution_count": 6,
   "metadata": {},
   "outputs": [
    {
     "name": "stdout",
     "output_type": "stream",
     "text": [
      "Read String is: Python is a great\n",
      "Current file position: 17\n",
      "Again read String is: Python is a great\n"
     ]
    }
   ],
   "source": [
    "# Open a file\n",
    "f = open(\"test.txt\", \"r+\")\n",
    "str = f.read(17)\n",
    "print (\"Read String is:\", str)\n",
    "\n",
    "# Check current position\n",
    "position = f.tell()\n",
    "print (\"Current file position:\", position)\n",
    "\n",
    "# Reposition pointer at the beginning once again\n",
    "position = f.seek(0, 0)\n",
    "str = f.read(17)\n",
    "print (\"Again read String is:\", str)\n",
    "\n",
    "# Close opened file\n",
    "f.close()"
   ]
  },
  {
   "cell_type": "markdown",
   "metadata": {},
   "source": [
    "# The `os` module\n",
    "Python `os` module provides methods that help you perform file-processing operations, such as renaming and deleting files.\n",
    "It also has several methods that help the user to create, remove, and change directories.\n",
    "To use this module, the user needs to import it first and then can call any related functions.\n",
    "\n",
    "**Syntax:**\n",
    "```python\n",
    "import os\n",
    "```"
   ]
  },
  {
   "cell_type": "markdown",
   "metadata": {},
   "source": [
    "## OS File/Directory Methods\n",
    "- `os.access(path, mode)`: Use the real uid/gid to test for access to path.\n",
    "- `os.chdir(path)`: Change the current working directory to path.\n",
    "- `os.chflags(path, flags)`: Set the flags of path to the numeric flags.\n",
    "- `os.chmod(path, mode)`: Change the mode of path to the numeric mode.\n",
    "- `os.chown(path, uid, gid)`: Change the owner and group id of path to the numeric uid and gid\n",
    "- `os.chroot(path)`: Change the root directory of the current process to path.\n",
    "- `os.close(fd)`: Close file descriptor fd.\n",
    "- `os.closerange(fd_low, fd_high)`: Close all file descriptors from fd_low (inclusive) to fd_high (exclusive), ignoring errors.\n",
    "- `os.dup(fd)`: Return a duplicate of file descriptor fd.\n",
    "- `os.dup2(fd, fd2)`: Duplicate file descriptor fd to fd2, closing the latter first if necessary.\n",
    "- `os.fchdir(fd)`: Change the current working directory to the directory represented by the file descriptor fd.\n",
    "- `os.fchmod(fd, mode)`: Change the mode of the file given by fd to the numeric mode.\n",
    "- `os.fchown(fd, uid, gid)`: Change the owner and group id of the file given by fd to the numeric uid and gid.\n",
    "- `os.fdatasync(fd)`: Force write of file with filedescriptor fd to disk.\n",
    "- `os.fdopen(fd[, mode[, bufsize]])`: Return an open file object connected to the file descriptor fd.\n",
    "- `os.fpathconf(fd, name)`: Return system configuration information relevant to an open file. name specifies the configuration value to retrieve.\n",
    "- `os.fstat(fd)`: Return status for file descriptor fd, like stat().\n",
    "- `os.fstatvfs(fd)`: Return information about the filesystem containing the file associated with file descriptor fd, like statvfs().\n",
    "- `os.fsync(fd)`: Force write of file with filedescriptor fd to disk.\n",
    "- `os.ftruncate(fd, length)`: Truncate the file corresponding to file descriptor fd, so that it is at most length bytes in size.\n",
    "- `os.getcwd()`: Return a string representing the current working directory.\n",
    "- `os.getcwdu()`: Return a Unicode object representing the current working directory.\n",
    "- `os.isatty(fd)`: Return True if the file descriptor fd is open and connected to a tty(-like) device, else False.\n",
    "- `os.lchflags(path, flags)`: Set the flags of path to the numeric flags, like chflags(), but do not follow symbolic links.\n",
    "- `os.lchmod(path, mode)`: Change the mode of path to the numeric mode.\n",
    "- `os.lchown(path, uid, gid)`: Change the owner and group id of path to the numeric uid and gid. This function will not follow symbolic links.\n",
    "- `os.link(src, dst)`: Create a hard link pointing to src named dst.\n",
    "- `os.listdir(path)`: Return a list containing the names of the entries in the directory given by path.\n",
    "- `os.lseek(fd, pos, how)`: Set the current position of file descriptor fd to position pos, modified by how.\n",
    "- `os.lstat(path)`: Like stat(), but do not follow symbolic links.\n",
    "- `os.major(device)`: Extract the device major number from a raw device number.\n",
    "- `os.makedev(major, minor)`: Compose a raw device number from the major and minor device numbers.\n",
    "- `os.makedirs(path[, mode])`: Recursive directory creation function.\n",
    "- `os.minor(device)`: Extract the device minor number from a raw device number.\n",
    "- `os.mkdir(path[, mode])`: Create a directory named path with numeric mode mode.\n",
    "- `os.mkfifo(path[, mode])`: Create a FIFO (a named pipe) named path with numeric mode mode. The default mode is 0666 (octal).\n",
    "- `os.mknod(filename[, mode = 0600, device])`: Create a filesystem node (file, device special file or named pipe) named filename.\n",
    "- `os.open(file, flags[, mode])`: Open the file file and set various flags according to flags and possibly its mode according to mode.\n",
    "- `os.openpty()`: Open a new pseudo-terminal pair. Return a pair of file descriptors (master, slave) for the pty and the tty, respectively.\n",
    "- `os.pathconf(path, name)`: Return system configuration information relevant to a named file.\n",
    "- `os.pipe()`: Create a pipe. Return a pair of file descriptors (r, w) usable for reading and writing, respectively.\n",
    "- `os.popen(command[, mode[, bufsize]])`: Open a pipe to or from command.\n",
    "- `os.read(fd, n)`: Read at most n bytes from file descriptor fd. Return a string containing the bytes read. If the end of the file referred to by fd has been reached, an empty string is returned.\n",
    "- `os.readlink(path): Return a string representing the path to which the symbolic link points.\n",
    "- `os.remove(path)`: Remove the file path.\n",
    "- `os.removedirs(path)`: Remove directories recursively.\n",
    "- `os.rename(src, dst)`: Rename the file or directory src to dst.\n",
    "- `os.renames(old, new)`: Recursive directory or file renaming function.\n",
    "- `os.rmdir(path)`: Remove the directory path\n",
    "- `os.stat(path)`: Perform a stat system call on the given path.\n",
    "- `os.stat_float_times([newvalue])`: Determine whether stat_result represents time stamps as float objects.\n",
    "- `os.statvfs(path)`: Perform a statvfs system call on the given path.\n",
    "- `os.symlink(src, dst)`: Create a symbolic link pointing to src named dst.\n",
    "- `os.tcgetpgrp(fd)`: Return the process group associated with the terminal given by fd (an open file descriptor as returned by open()).\n",
    "- `os.tcsetpgrp(fd, pg)`: Set the process group associated with the terminal given by fd (an open file descriptor as returned by open()) to pg.\n",
    "- `os.tempnam([dir[, prefix]])`: Return a unique path name that is reasonable for creating a temporary file.\n",
    "- `os.tmpfile()`: Return a new file object opened in update mode (w+b).\n",
    "- `os.tmpnam()`: Return a unique path name that is reasonable for creating a temporary file.\n",
    "- `os.ttyname(fd)`: Return a string which specifies the terminal device associated with file descriptor fd. If fd is not associated with a terminal device, an exception is raised.\n",
    "- `os.unlink(path)`: Remove the file path.\n",
    "- `os.utime(path, times)`: Set the access and modified times of the file specified by path.\n",
    "- `os.walk(top[, topdown = True[, onerror = None[, followlinks = False]]])`: Generate the file names in a directory tree by walking the tree either top-down or bottom-up.\n",
    "- `os.write(fd, str)`: Write the string str to file descriptor fd. Return the number of bytes actually written."
   ]
  },
  {
   "cell_type": "markdown",
   "metadata": {},
   "source": [
    "## The `rename()` method\n",
    "The `rename()` method takes two arguments, the current filename and the new filename.\n",
    "\n",
    "**Syntax:**\n",
    "```python\n",
    "os.rename(current_file_name, new_file_name)\n",
    "```"
   ]
  },
  {
   "cell_type": "markdown",
   "metadata": {},
   "source": [
    "## The `remove()` method\n",
    "The `remove()` method can be used to delete files by supplying the name of the file to be deleted as the argument.\n",
    "\n",
    "**Syntax:**\n",
    "```python\n",
    "os.remove(file_name)\n",
    "```"
   ]
  },
  {
   "cell_type": "code",
   "execution_count": 7,
   "metadata": {
    "collapsed": true
   },
   "outputs": [],
   "source": [
    "import os\n",
    "\n",
    "# Rename a file from test1.txt to test2.txt\n",
    "os.rename(\"test.txt\", \"t.txt\")"
   ]
  },
  {
   "cell_type": "code",
   "execution_count": 8,
   "metadata": {
    "collapsed": true
   },
   "outputs": [],
   "source": [
    "import os\n",
    "\n",
    "# Delete file test2.txt\n",
    "os.remove(\"t.txt\")"
   ]
  },
  {
   "cell_type": "markdown",
   "metadata": {},
   "source": [
    "## The `mkdir()` method\n",
    "You can use the `mkdir()` method of the `os` module to create directories in the current directory. You need to supply an argument to this method, which contains the name of the directory to be created.\n",
    "\n",
    "**Syntax:**\n",
    "```pythn\n",
    "os.mkdir(\"newdir\")\n",
    "```"
   ]
  },
  {
   "cell_type": "code",
   "execution_count": 9,
   "metadata": {
    "collapsed": true
   },
   "outputs": [],
   "source": [
    "import os\n",
    "\n",
    "# Create a directory \"test\"\n",
    "os.mkdir(\"test\")"
   ]
  },
  {
   "cell_type": "markdown",
   "metadata": {},
   "source": [
    "## The `getcwd()` method\n",
    "The `getcwd()` method displays the current working directory.\n",
    "\n",
    "**Syntax:**\n",
    "```python\n",
    "os.getcwd()\n",
    "```"
   ]
  },
  {
   "cell_type": "code",
   "execution_count": 10,
   "metadata": {},
   "outputs": [
    {
     "name": "stdout",
     "output_type": "stream",
     "text": [
      "D:\\SJCEM\\OSTL (2017-2018)\\Module 02\n"
     ]
    }
   ],
   "source": [
    "import os\n",
    "\n",
    "# This would give location of the current directory\n",
    "print(os.getcwd())"
   ]
  },
  {
   "cell_type": "markdown",
   "metadata": {},
   "source": [
    "## The `listdir(path)` method\n",
    "Returns a list containing the names of the entries in the direcory given by `path`."
   ]
  },
  {
   "cell_type": "code",
   "execution_count": 11,
   "metadata": {},
   "outputs": [
    {
     "data": {
      "text/plain": [
       "['.ipynb_checkpoints',\n",
       " 'hello.py',\n",
       " 'mathematics.py',\n",
       " 'Module 02 Advanced Python - 01 Files and Directories in Python.ipynb',\n",
       " 'Module 02 Advanced Python - 01 Files and Directories in Python.pdf',\n",
       " 'Module 02 Advanced Python - 02 Building Modules and Packages.ipynb',\n",
       " 'Module 02 Advanced Python - 02 Building Modules and Packages.pdf',\n",
       " 'Module 02 Advanced Python - 03 Regular expression in Python.ipynb',\n",
       " 'packages',\n",
       " 'raven.txt',\n",
       " 'square.py',\n",
       " 'test',\n",
       " 'test.py']"
      ]
     },
     "execution_count": 11,
     "metadata": {},
     "output_type": "execute_result"
    }
   ],
   "source": [
    "import os\n",
    "\n",
    "path = os.getcwd()\n",
    "os.listdir(path)"
   ]
  },
  {
   "cell_type": "markdown",
   "metadata": {},
   "source": [
    "## The `chdir()` method\n",
    "You can use the `chdir()` method to change the current directory. The `chdir()` method takes an argument, which is the name of the directory that you want to make the current directory.\n",
    "\n",
    "**Syntax:**\n",
    "```python\n",
    "os.chdir(\"newdir\")\n",
    "```"
   ]
  },
  {
   "cell_type": "code",
   "execution_count": 12,
   "metadata": {},
   "outputs": [
    {
     "name": "stdout",
     "output_type": "stream",
     "text": [
      "D:\\SJCEM\\OSTL (2017-2018)\\Module 02\n",
      "D:\\SJCEM\\OSTL (2017-2018)\\Module 02\\test\n",
      "D:\\SJCEM\\OSTL (2017-2018)\\Module 02\n"
     ]
    }
   ],
   "source": [
    "import os\n",
    "\n",
    "# This would give location of the current directory\n",
    "print(os.getcwd())\n",
    "\n",
    "# Changing a directory to \"test\"\n",
    "os.chdir(\"test\")\n",
    "\n",
    "# This would give location of the current directory\n",
    "print(os.getcwd())\n",
    "\n",
    "# Move up one directory\n",
    "os.chdir(\"..\")\n",
    "\n",
    "# This would give location of the current directory\n",
    "print(os.getcwd())"
   ]
  },
  {
   "cell_type": "markdown",
   "metadata": {},
   "source": [
    "## The `rmdir()` method\n",
    "The `rmdir()` method deletes the directory, which is passed as an argument in the method.\n",
    "\n",
    "Before removing a directory, all the contents in it should be removed.\n",
    "\n",
    "**Syntax:**\n",
    "```python\n",
    "os.rmdir('dirname')\n",
    "```"
   ]
  },
  {
   "cell_type": "code",
   "execution_count": 13,
   "metadata": {
    "collapsed": true
   },
   "outputs": [],
   "source": [
    "import os\n",
    "\n",
    "# This would  remove \"test\"  directory.\n",
    "os.rmdir(\"test\")"
   ]
  },
  {
   "cell_type": "markdown",
   "metadata": {},
   "source": [
    "## The `os.path` methods\n",
    "The `os.path` is another module, which also provides a big range of useful methods to manipulate files and directories.\n",
    "\n",
    "- `os.path.abspath(path)`: Returns a normalized absolutized version of the pathname path.\n",
    "- `os.path.basename(path)`: Returns the base name of pathname path.\n",
    "- `os.path.commonprefix(list)`: Returns the longest path prefix (taken character-by-character) that is a prefix of all paths in list.\n",
    "- `os.path.dirname(path)`: Returns the directory name of pathname path.\n",
    "- `os.path.exists(path)`: Returns True if path refers to an existing path. Returns False for broken symbolic links.\n",
    "- `os.path.lexists(path)`: Returns True if path refers to an existing path. Returns True for broken symbolic links.\n",
    "- `os.path.expanduser(path)`: On Unix and Windows, returns the argument with an initial component of ~ or ~user replaced by that user's home directory.\n",
    "- `os.path.expandvars(path)`: Returns the argument with environment variables expanded.\n",
    "- `os.path.getatime(path)`: Returns the time of last access of path.\n",
    "- `os.path.getmtime(path)`: Returns the time of last modification of path.\n",
    "- `os.path.getctime(path)`: Returns the system's ctime, which on some systems (like Unix) is the time of the last change, and, on others (like Windows), is the creation time for path.\n",
    "- `os.path.getsize(path)`: Returns the size, in bytes, of path.\n",
    "- `os.path.isabs(path)`: Returns True if path is an absolute pathname.\n",
    "- `os.path.isfile(path)`: Returns True if path is an existing regular file.\n",
    "- `os.path.isdir(path)`: Returns True if path is an existing directory.\n",
    "- `os.path.islink(path)`: Returns True if path refers to a directory entry that is a symbolic link.\n",
    "- `os.path.ismount(path)`: Returns True if pathname path is a mount point: a point in a file system where a different file system has been mounted.\n",
    "- `os.path.join(path1[, path2[, ...]])`: Joins one or more path components intelligently.\n",
    "- `os.path.normcase(path)`: Normalizes the case of a pathname.\n",
    "- `os.path.normpath(path)`: Normalizes a pathname.\n",
    "- `os.path.realpath(path)`: Returns the canonical path of the specified filename, eliminating any symbolic links encountered in the path\n",
    "- `os.path.relpath(path[, start])`: Returns a relative filepath to path either from the current directory or from an optional start point.\n",
    "- `os.path.samefile(path1, path2)`: Returns True if both pathname arguments refer to the same file or directory\n",
    "- `os.path.sameopenfile(fp1, fp2)`: Returns True if the file descriptors fp1 and fp2 refer to the same file.\n",
    "- `os.path.samestat(stat1, stat2)`: Returns True if the stat tuples stat1 and stat2 refer to the same file.\n",
    "- `os.path.split(path)`: Splits the pathname path into a pair, (head, tail) where tail is the last pathname component and head is everything leading up to that.\n",
    "- `os.path.splitdrive(path)`: Splits the pathname path into a pair (drive, tail) where drive is either a drive specification or the empty string.\n",
    "- `os.path.splitext(path)`: Splits the pathname path into a pair (root, ext) such that root + ext == path, and ext is empty or begins with a period and contains at most one period.\n",
    "- `os.path.splitunc(path)`: Splits the pathname path into a pair (unc, rest) so that unc is the UNC mount point (such as r'\\\\host\\mount'), if present, and rest the rest of the path (such as r'\\path\\file.ext').\n",
    "- `os.path.walk(path, visit, arg)`: Calls the function visit with arguments (arg, dirname, names) for each directory in the directory tree rooted at path (including path itself, if it is a directory)."
   ]
  },
  {
   "cell_type": "code",
   "execution_count": 14,
   "metadata": {},
   "outputs": [
    {
     "name": "stdout",
     "output_type": "stream",
     "text": [
      "D:\\SJCEM\\OSTL (2017-2018)\\Module 02\n",
      "D:\\SJCEM\\OSTL (2017-2018)\n",
      "True\n",
      "False\n",
      "True\n"
     ]
    }
   ],
   "source": [
    "import os\n",
    "\n",
    "# Gets the current working directory\n",
    "path = os.getcwd()\n",
    "print(path)\n",
    "\n",
    "# Returns name of the parent directory\n",
    "print(os.path.dirname(path))\n",
    "\n",
    "# Checks whether the `path` exits or not\n",
    "print(os.path.exists(path))\n",
    "\n",
    "# Checks whether the `path` is file\n",
    "print(os.path.isfile(path))\n",
    "\n",
    "# Checks whether the `path` is directory\n",
    "print(os.path.isdir(path))"
   ]
  },
  {
   "cell_type": "markdown",
   "metadata": {},
   "source": [
    "# Example"
   ]
  },
  {
   "cell_type": "code",
   "execution_count": 15,
   "metadata": {},
   "outputs": [
    {
     "name": "stdout",
     "output_type": "stream",
     "text": [
      "D:\\SJCEM\\OSTL (2017-2018)\\Module 02\n",
      "Enter file name to open: raven\n",
      "File does not exist!!!\n",
      "Enter file name to open: raven.txt\n",
      "Once upon a midnight dreary, while I pondered weak and weary,\n",
      "\n",
      "Over many a quaint and curious volume of forgotten lore,\n",
      "\n",
      "While I nodded, nearly napping, suddenly there came a tapping,\n",
      "\n",
      "As of some one gently rapping, rapping at my chamber door.\n",
      "\n",
      "\"'Tis some visitor,\" I muttered, \"tapping at my chamber door -\n",
      "\n",
      "Only this, and nothing more.\"\n",
      "\n",
      "\n",
      "\n",
      "Ah, distinctly I remember it was in the bleak December,\n",
      "\n",
      "And each separate dying ember wrought its ghost upon the floor.\n",
      "\n",
      "Eagerly I wished the morrow; - vainly I had sought to borrow\n",
      "\n",
      "From my books surcease of sorrow - sorrow for the lost Lenore -\n",
      "\n",
      "For the rare and radiant maiden whom the angels named Lenore -\n",
      "\n",
      "Nameless here for evermore.\n",
      "\n",
      "\n",
      "\n",
      "And the silken sad uncertain rustling of each purple curtain\n",
      "\n",
      "Thrilled me - filled me with fantastic terrors never felt before;\n",
      "\n",
      "So that now, to still the beating of my heart, I stood repeating\n",
      "\n",
      "\"'Tis some visitor entreating entrance at my chamber door -\n",
      "\n",
      "Some late visitor entreating entrance at my chamber door; -\n",
      "\n",
      "This it is, and nothing more,\"\n",
      "\n",
      "\n",
      "\n",
      "Presently my soul grew stronger; hesitating then no longer,\n",
      "\n",
      "\"Sir,\" said I, \"or Madam, truly your forgiveness I implore;\n",
      "\n",
      "But the fact is I was napping, and so gently you came rapping,\n",
      "\n",
      "And so faintly you came tapping, tapping at my chamber door,\n",
      "\n",
      "That I scarce was sure I heard you\" - here I opened wide the door; -\n",
      "\n",
      "Darkness there, and nothing more.\n",
      "\n",
      "\n",
      "\n",
      "Deep into that darkness peering, long I stood there wondering, fearing,\n",
      "\n",
      "Doubting, dreaming dreams no mortal ever dared to dream before;\n",
      "\n",
      "But the silence was unbroken, and the darkness gave no token,\n",
      "\n",
      "And the only word there spoken was the whispered word, \"Lenore!\"\n",
      "\n",
      "This I whispered, and an echo murmured back the word, \"Lenore!\"\n",
      "\n",
      "Merely this and nothing more.\n",
      "\n",
      "\n",
      "\n",
      "Back into the chamber turning, all my soul within me burning,\n",
      "\n",
      "Soon again I heard a tapping somewhat louder than before.\n",
      "\n",
      "\"Surely,\" said I, \"surely that is something at my window lattice;\n",
      "\n",
      "Let me see then, what thereat is, and this mystery explore -\n",
      "\n",
      "Let my heart be still a moment and this mystery explore; -\n",
      "\n",
      "'Tis the wind and nothing more!\"\n",
      "\n",
      "\n",
      "\n",
      "Open here I flung the shutter, when, with many a flirt and flutter,\n",
      "\n",
      "In there stepped a stately raven of the saintly days of yore.\n",
      "\n",
      "Not the least obeisance made he; not a minute stopped or stayed he;\n",
      "\n",
      "But, with mien of lord or lady, perched above my chamber door -\n",
      "\n",
      "Perched upon a bust of Pallas just above my chamber door -\n",
      "\n",
      "Perched, and sat, and nothing more.\n",
      "\n",
      "\n",
      "\n",
      "Then this ebony bird beguiling my sad fancy into smiling,\n",
      "\n",
      "By the grave and stern decorum of the countenance it wore,\n",
      "\n",
      "\"Though thy crest be shorn and shaven, thou,\" I said, \"art sure no craven.\n",
      "\n",
      "Ghastly grim and ancient raven wandering from the nightly shore -\n",
      "\n",
      "Tell me what thy lordly name is on the Night's Plutonian shore!\"\n",
      "\n",
      "Quoth the raven, \"Nevermore.\"\n",
      "\n",
      "\n",
      "\n",
      "Much I marvelled this ungainly fowl to hear discourse so plainly,\n",
      "\n",
      "Though its answer little meaning - little relevancy bore;\n",
      "\n",
      "For we cannot help agreeing that no living human being\n",
      "\n",
      "Ever yet was blessed with seeing bird above his chamber door -\n",
      "\n",
      "Bird or beast above the sculptured bust above his chamber door,\n",
      "\n",
      "With such name as \"Nevermore.\"\n",
      "\n",
      "\n",
      "\n",
      "But the raven, sitting lonely on the placid bust, spoke only,\n",
      "\n",
      "That one word, as if his soul in that one word he did outpour.\n",
      "\n",
      "Nothing further then he uttered - not a feather then he fluttered -\n",
      "\n",
      "Till I scarcely more than muttered \"Other friends have flown before -\n",
      "\n",
      "On the morrow he will leave me, as my hopes have flown before.\"\n",
      "\n",
      "Then the bird said, \"Nevermore.\"\n",
      "\n",
      "\n",
      "\n",
      "Startled at the stillness broken by reply so aptly spoken,\n",
      "\n",
      "\"Doubtless,\" said I, \"what it utters is its only stock and store,\n",
      "\n",
      "Caught from some unhappy master whom unmerciful disaster\n",
      "\n",
      "Followed fast and followed faster till his songs one burden bore -\n",
      "\n",
      "Till the dirges of his hope that melancholy burden bore\n",
      "\n",
      "Of 'Never-nevermore.'\"\n",
      "\n",
      "\n",
      "\n",
      "But the raven still beguiling all my sad soul into smiling,\n",
      "\n",
      "Straight I wheeled a cushioned seat in front of bird and bust and door;\n",
      "\n",
      "Then, upon the velvet sinking, I betook myself to linking\n",
      "\n",
      "Fancy unto fancy, thinking what this ominous bird of yore -\n",
      "\n",
      "What this grim, ungainly, ghastly, gaunt, and ominous bird of yore\n",
      "\n",
      "Meant in croaking \"Nevermore.\"\n",
      "\n",
      "\n",
      "\n",
      "This I sat engaged in guessing, but no syllable expressing\n",
      "\n",
      "To the fowl whose fiery eyes now burned into my bosom's core;\n",
      "\n",
      "This and more I sat divining, with my head at ease reclining\n",
      "\n",
      "On the cushion's velvet lining that the lamp-light gloated o'er,\n",
      "\n",
      "But whose velvet violet lining with the lamp-light gloating o'er,\n",
      "\n",
      "She shall press, ah, nevermore!\n",
      "\n",
      "\n",
      "\n",
      "Then, methought, the air grew denser, perfumed from an unseen censer\n",
      "\n",
      "Swung by Seraphim whose foot-falls tinkled on the tufted floor.\n",
      "\n",
      "\"Wretch,\" I cried, \"thy God hath lent thee - by these angels he has sent thee\n",
      "\n",
      "Respite - respite and nepenthe from thy memories of Lenore!\n",
      "\n",
      "Quaff, oh quaff this kind nepenthe, and forget this lost Lenore!\"\n",
      "\n",
      "Quoth the raven, \"Nevermore.\"\n",
      "\n",
      "\n",
      "\n",
      "\"Prophet!\" said I, \"thing of evil! - prophet still, if bird or devil! -\n",
      "\n",
      "Whether tempter sent, or whether tempest tossed thee here ashore,\n",
      "\n",
      "Desolate yet all undaunted, on this desert land enchanted -\n",
      "\n",
      "On this home by horror haunted - tell me truly, I implore -\n",
      "\n",
      "Is there - is there balm in Gilead? - tell me - tell me, I implore!\"\n",
      "\n",
      "Quoth the raven, \"Nevermore.\"\n",
      "\n",
      "\n",
      "\n",
      "\"Prophet!\" said I, \"thing of evil! - prophet still, if bird or devil!\n",
      "\n",
      "By that Heaven that bends above us - by that God we both adore -\n",
      "\n",
      "Tell this soul with sorrow laden if, within the distant Aidenn,\n",
      "\n",
      "It shall clasp a sainted maiden whom the angels named Lenore -\n",
      "\n",
      "Clasp a rare and radiant maiden, whom the angels named Lenore?\"\n",
      "\n",
      "Quoth the raven, \"Nevermore.\"\n",
      "\n",
      "\n",
      "\n",
      "\"Be that word our sign of parting, bird or fiend!\" I shrieked upstarting -\n",
      "\n",
      "\"Get thee back into the tempest and the Night's Plutonian shore!\n",
      "\n",
      "Leave no black plume as a token of that lie thy soul hath spoken!\n",
      "\n",
      "Leave my loneliness unbroken! - quit the bust above my door!\n",
      "\n",
      "Take thy beak from out my heart, and take thy form from off my door!\"\n",
      "\n",
      "Quoth the raven, \"Nevermore.\"\n",
      "\n",
      "\n",
      "\n",
      "And the raven, never flitting, still is sitting, still is sitting\n",
      "\n",
      "On the pallid bust of Pallas just above my chamber door;\n",
      "\n",
      "And his eyes have all the seeming of a demon's that is dreaming,\n",
      "\n",
      "And the lamp-light o'er him streaming throws his shadow on the floor;\n",
      "\n",
      "And my soul from out that shadow that lies floating on the floor\n",
      "\n",
      "Shall be lifted - nevermore!\n"
     ]
    }
   ],
   "source": [
    "# Searching and printing a file\n",
    "import os\n",
    "\n",
    "print(os.getcwd())\n",
    "\n",
    "name = input(\"Enter file name to open: \")\n",
    "\n",
    "while not os.path.isfile(name):\n",
    "    print(\"File does not exist!!!\")\n",
    "    name = input(\"Enter file name to open: \")\n",
    "\n",
    "file = open(name, 'r')\n",
    "\n",
    "for line in file:\n",
    "    print(line)"
   ]
  }
 ],
 "metadata": {
  "kernelspec": {
   "display_name": "Python 3",
   "language": "python",
   "name": "python3"
  },
  "language_info": {
   "codemirror_mode": {
    "name": "ipython",
    "version": 3
   },
   "file_extension": ".py",
   "mimetype": "text/x-python",
   "name": "python",
   "nbconvert_exporter": "python",
   "pygments_lexer": "ipython3",
   "version": "3.6.3"
  }
 },
 "nbformat": 4,
 "nbformat_minor": 2
}
