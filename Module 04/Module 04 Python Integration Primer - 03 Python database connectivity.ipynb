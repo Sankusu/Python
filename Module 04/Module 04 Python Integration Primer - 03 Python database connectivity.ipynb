{
 "cells": [
  {
   "cell_type": "markdown",
   "metadata": {},
   "source": [
    "# Module 04 Python Integration Primer - 03 Python database connectivity"
   ]
  },
  {
   "cell_type": "markdown",
   "metadata": {},
   "source": [
    "## Note: The MySQL databases and users must already exist before you can use any of the following methods.\n",
    "### For Windows Users:\n",
    "Visit the website [MySQL](https://dev.mysql.com/downloads/mysql/) and download **Windows MySQL Installer MSI**\n",
    "### For Linux Users:\n",
    "`sudo apt update && sudo apt upgrade`\n",
    "\n",
    "`sudo apt install mysql-workbench`\n",
    "\n",
    "### How to connect to MySQL using Python\n",
    "Python provides several ways to connect to a MySQL database and process data. This article describes three methods.\n",
    "Before you can access MySQL databases using Python, you must install one (or more) of the following packages:\n",
    "\n",
    "- MySQL-python: This package contains the MySQLdb module, which is written in C. It is one of the most commonly used Python packages for MySQL.\n",
    "- mysql-connector-python: This package contains the mysql.connector module, which is written entirely in Python.\n",
    "- PyMySQL: This package contains the pymysql module, which is written entirely in Python. It is designed to be a drop-in replacement for the MySQL-python package.\n",
    "\n",
    "#### Type the command for the package you want to install:\n",
    "\n",
    "To install the MySQL-python package, type the following command:\n",
    "\n",
    "`pip install MySQL-python`\n",
    "\n",
    "To install the mysql-connector-python package, type the following command:\n",
    "\n",
    "`pip install mysql-connector-python`\n",
    "\n",
    "To install the pymysql package, type the following command:\n",
    "\n",
    "`pip install pymysql`\n",
    "\n",
    "### Sample Code:\n",
    "In your own code, replace *USERNAME* with the MySQL database username, *PASSWORD* with the database user's password, and *DBNAME* with the database name:\n",
    "\n",
    "```python\n",
    "hostname = \"localhost\"\n",
    "username = \"USERNAME\"\n",
    "password = \"PASSWORD\"\n",
    "database = \"DBNAME\"\n",
    "\n",
    "# Simple routine to run a query on a database and print the results:\n",
    "def doQuery(con):\n",
    "    cur = con.cursor()\n",
    "\n",
    "    cur.execute(\"SELECT fname, lname FROM employee\" )\n",
    "\n",
    "    for firstname, lastname in cur.fetchall() :\n",
    "        print firstname, lastname\n",
    "\n",
    "print(\"Using MySQLdb…\")\n",
    "import MySQLdb\n",
    "myConnection = MySQLdb.connect(host=hostname, user=username, passwd=password, db=database)\n",
    "doQuery( myConnection )\n",
    "myConnection.close()\n",
    "\n",
    "print(\"Using pymysql…\")\n",
    "import pymysql\n",
    "myConnection = pymysql.connect(host=hostname, user=username, passwd=password, db=database)\n",
    "doQuery(myConnection)\n",
    "myConnection.close()\n",
    "\n",
    "print(\"Using mysql.connector…\")\n",
    "import mysql.connector\n",
    "myConnection = mysql.connector.connect(host=hostname, user=username, passwd=password, db=database)\n",
    "doQuery(myConnection)\n",
    "myConnection.close()\n",
    "```"
   ]
  },
  {
   "cell_type": "markdown",
   "metadata": {},
   "source": [
    "This example creates a series of Connection objects that opens the same database using different MySQL modules. Because all three MySQL modules use the portable SQL database API interface, they are able to use the code in the doQuery() function without any modifications.\n",
    "\n",
    "When you have a Connection object associated with a database, you can create a Cursor object. The Cursor object enables you to run the execute() method, which in turn enables you to run raw SQL statements (in this case, a SELECT query on a table named employee)."
   ]
  },
  {
   "cell_type": "markdown",
   "metadata": {},
   "source": [
    "## Demo Code for PyMySQL:"
   ]
  },
  {
   "cell_type": "code",
   "execution_count": 1,
   "metadata": {},
   "outputs": [
    {
     "name": "stdout",
     "output_type": "stream",
     "text": [
      "MySQL version: (('5.7.20-log',),)\n"
     ]
    }
   ],
   "source": [
    "import pymysql\n",
    "\n",
    "# Open database connection.\n",
    "connection = pymysql.connect(host=\"localhost\", user=\"root\", passwd=\"root\", db=\"sakila\")\n",
    "\n",
    "# prepare a cursor object using cursor() method of connection object.\n",
    "cursor = connection.cursor()\n",
    "\n",
    "# execute MySQL query using execute() method of cursor object.\n",
    "cursor.execute(\"SELECT VERSION()\")\n",
    "version = cursor.fetchall()\n",
    "\n",
    "print(\"MySQL version:\", version)\n",
    "\n",
    "# disconnect from server.\n",
    "connection.close()"
   ]
  },
  {
   "cell_type": "markdown",
   "metadata": {},
   "source": [
    "## Program to demonstrate CRUD (create, read, update and delete) operations on database (SQLite/ MySQL) using Python."
   ]
  },
  {
   "cell_type": "markdown",
   "metadata": {},
   "source": [
    "### Database Connection\n",
    "Before connecting to a MySQL database, make sure of the followings:\n",
    "- MySQL Server is up and running.\n",
    "- A database (schema) MYTESTDB has been already created using MySQL Workbench.\n",
    "- MYTESTDB will contain EMPLOYEE table.\n",
    "- This table will have the following fields EMP_ID, EMP_NAME, EMP_AGE, EMP_EXP and EMP_SALARY.\n",
    "- User ID \"root\" and password \"root\" are set to access MYTESTDB.\n",
    "- Python module pymysql is installed properly on your machine."
   ]
  },
  {
   "cell_type": "code",
   "execution_count": 2,
   "metadata": {},
   "outputs": [],
   "source": [
    "import pymysql"
   ]
  },
  {
   "cell_type": "code",
   "execution_count": 3,
   "metadata": {},
   "outputs": [],
   "source": [
    "connection = pymysql.connect(host=\"localhost\", user=\"root\", passwd=\"root\", db=\"MYTESTDB\")\n",
    "cursor = connection.cursor()"
   ]
  },
  {
   "cell_type": "markdown",
   "metadata": {},
   "source": [
    "### Creating Database Table:"
   ]
  },
  {
   "cell_type": "code",
   "execution_count": 4,
   "metadata": {},
   "outputs": [
    {
     "data": {
      "text/plain": [
       "0"
      ]
     },
     "execution_count": 4,
     "metadata": {},
     "output_type": "execute_result"
    }
   ],
   "source": [
    "# Drop table if it already exist using execute() method.\n",
    "cursor.execute(\"DROP TABLE IF EXISTS EMPLOYEE\")\n",
    "\n",
    "# Create table as per requirement\n",
    "sql = \"\"\"CREATE TABLE `MYTESTDB`.`EMPLOYEE` (\n",
    "  `EMP_ID` INT NOT NULL,\n",
    "  `EMP_NAME` VARCHAR(45) NULL,\n",
    "  `EMP_AGE` INT NULL,\n",
    "  `EMP_EXP` INT NULL,\n",
    "  `EMP_SALARY` DECIMAL(10) NULL,\n",
    "  PRIMARY KEY (`EMP_ID`));\"\"\"\n",
    "\n",
    "cursor.execute(sql)"
   ]
  },
  {
   "cell_type": "markdown",
   "metadata": {},
   "source": [
    "### Insert Operation on the Table:"
   ]
  },
  {
   "cell_type": "code",
   "execution_count": 5,
   "metadata": {},
   "outputs": [],
   "source": [
    "# Prepare SQL query to INSERT a record into the database.\n",
    "sql = [];\n",
    "sql.append(\"\"\"INSERT INTO EMPLOYEE(EMP_ID, EMP_NAME,EMP_AGE, EMP_EXP, EMP_SALARY)\n",
    "         VALUES (01, 'Mohan', 20, 2, 20000)\"\"\")\n",
    "sql.append(\"\"\"INSERT INTO EMPLOYEE(EMP_ID, EMP_NAME,EMP_AGE, EMP_EXP, EMP_SALARY)\n",
    "         VALUES (02, 'Raj', 21, 3, 30000)\"\"\")\n",
    "sql.append(\"\"\"INSERT INTO EMPLOYEE(EMP_ID, EMP_NAME,EMP_AGE, EMP_EXP, EMP_SALARY)\n",
    "         VALUES (03, 'Vaibhav', 23, 4, 40000)\"\"\")\n",
    "sql.append(\"\"\"INSERT INTO EMPLOYEE(EMP_ID, EMP_NAME,EMP_AGE, EMP_EXP, EMP_SALARY)\n",
    "         VALUES (04, 'Smriti', 22, 1, 10000)\"\"\")\n",
    "sql.append(\"\"\"INSERT INTO EMPLOYEE(EMP_ID, EMP_NAME,EMP_AGE, EMP_EXP, EMP_SALARY)\n",
    "         VALUES (05, 'Ravi', 19, 1, 10000)\"\"\")\n",
    "sql.append(\"\"\"INSERT INTO EMPLOYEE(EMP_ID, EMP_NAME,EMP_AGE, EMP_EXP, EMP_SALARY)\n",
    "         VALUES (06, 'Kiran', 25, 5, 50000)\"\"\")\n",
    "try:\n",
    "    # Execute the SQL command\n",
    "    for q in sql:\n",
    "        cursor.execute(q)\n",
    "    # Commit your changes in the database\n",
    "    connection.commit()\n",
    "except:\n",
    "    # Rollback in case there is any error\n",
    "    connection.rollback()"
   ]
  },
  {
   "cell_type": "markdown",
   "metadata": {},
   "source": [
    "### Read Operation on the Table:"
   ]
  },
  {
   "cell_type": "code",
   "execution_count": 6,
   "metadata": {},
   "outputs": [
    {
     "name": "stdout",
     "output_type": "stream",
     "text": [
      "ID: 2 Name: Raj Age: 21 Exp: 3 Salary: 30000\n",
      "ID: 3 Name: Vaibhav Age: 23 Exp: 4 Salary: 40000\n",
      "ID: 6 Name: Kiran Age: 25 Exp: 5 Salary: 50000\n"
     ]
    }
   ],
   "source": [
    "sql = \"\"\"SELECT * FROM EMPLOYEE WHERE EMP_SALARY > 20000\"\"\"\n",
    "\n",
    "try:\n",
    "    # Execute the SQL command\n",
    "    cursor.execute(sql)\n",
    "    \n",
    "    # Fetch all the rows in a list of lists.\n",
    "    results = cursor.fetchall()\n",
    "    for row in results:\n",
    "        print(\"ID:\",row[0], \"Name:\", row[1], \"Age:\", row[2], \"Exp:\", row[3], \"Salary:\", row[4])\n",
    "        \n",
    "except:\n",
    "    print(\"Error: unable to fecth data\")"
   ]
  },
  {
   "cell_type": "markdown",
   "metadata": {},
   "source": [
    "### Update Operation on the Table:"
   ]
  },
  {
   "cell_type": "code",
   "execution_count": 7,
   "metadata": {},
   "outputs": [],
   "source": [
    "# Prepare SQL query to UPDATE required records\n",
    "sql = \"\"\"UPDATE EMPLOYEE SET EMP_SALARY = EMP_SALARY + 1000  WHERE EMP_EXP > 3\"\"\"\n",
    "try:\n",
    "    # Execute the SQL command\n",
    "    cursor.execute(sql)\n",
    "    # Commit your changes in the database\n",
    "    connection.commit()\n",
    "except:\n",
    "    # Rollback in case there is any error\n",
    "    connection.rollback()"
   ]
  },
  {
   "cell_type": "markdown",
   "metadata": {},
   "source": [
    "### Delete Operation on the Table:"
   ]
  },
  {
   "cell_type": "code",
   "execution_count": 8,
   "metadata": {},
   "outputs": [],
   "source": [
    "# Prepare SQL query to DELETE required records\n",
    "sql = \"\"\"DELETE FROM EMPLOYEE WHERE EMP_AGE < 20\"\"\"\n",
    "try:\n",
    "    # Execute the SQL command\n",
    "    cursor.execute(sql)\n",
    "    # Commit your changes in the database\n",
    "    connection.commit()\n",
    "except:\n",
    "    # Rollback in case there is any error\n",
    "    connection.rollback()"
   ]
  },
  {
   "cell_type": "code",
   "execution_count": 9,
   "metadata": {},
   "outputs": [],
   "source": [
    "# Closing the Connection\n",
    "connection.close()"
   ]
  }
 ],
 "metadata": {
  "kernelspec": {
   "display_name": "Python 3",
   "language": "python",
   "name": "python3"
  },
  "language_info": {
   "codemirror_mode": {
    "name": "ipython",
    "version": 3
   },
   "file_extension": ".py",
   "mimetype": "text/x-python",
   "name": "python",
   "nbconvert_exporter": "python",
   "pygments_lexer": "ipython3",
   "version": "3.6.3"
  }
 },
 "nbformat": 4,
 "nbformat_minor": 2
}
