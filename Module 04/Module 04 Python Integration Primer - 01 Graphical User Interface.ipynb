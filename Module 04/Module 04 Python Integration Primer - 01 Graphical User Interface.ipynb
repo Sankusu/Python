{
 "cells": [
  {
   "cell_type": "markdown",
   "metadata": {},
   "source": [
    "# Module 04 Python Integration Primer - 01 Graphical User Interface"
   ]
  },
  {
   "cell_type": "markdown",
   "metadata": {},
   "source": [
    "## Refer the following Link\n",
    "[Python GUI Programming](http://slideshare.net/ranelpadon/python-programming-xiii-gui-programming)"
   ]
  },
  {
   "cell_type": "markdown",
   "metadata": {},
   "source": [
    "Python provides various options for developing graphical user interfaces (GUIs). The most important features are listed below.\n",
    "- `Tkinter`: Tkinter is the Python interface to the GUI toolkit shipped with Python.\n",
    "- `wxPython`: This is an open-source Python interface for wxWidgets GUI toolkit.\n",
    "- `PyQt`: This is also a Python interface for a popular cross-platform Qt GUI library.\n",
    "- `JPython`: JPython is a Python port for Java, which gives Python scripts seamless access to the Java class libraries on the local machine."
   ]
  },
  {
   "cell_type": "markdown",
   "metadata": {},
   "source": [
    "## Tkinter\n",
    "\n",
    "Tkinter is the Python interface for Tk. Tkinter is an acronym for \"Toolkit interface\". \n",
    "\n",
    "Tk was developed as a GUI extension for the Tcl scripting language by John Ousterhout. The first release was in 1991. Tkinter proved as extremely successful in the 1990's, because it is easier to learn and to use than other toolkits."
   ]
  },
  {
   "cell_type": "markdown",
   "metadata": {},
   "source": [
    "## Tkinter Programming\n",
    "- Creating a GUI application using Tkinter is an easy task. All you need to do is perform the following steps −\n",
    "- Import the Tkinter module.\n",
    "- Create the GUI application main window.\n",
    "- Add one or more of the above-mentioned widgets to the GUI application.\n",
    "- Enter the main event loop to take action against each event triggered by the user."
   ]
  },
  {
   "cell_type": "markdown",
   "metadata": {},
   "source": [
    "## Tkinter Widgets\n",
    "Tkinter provides various controls, such as buttons, labels and text boxes used in a GUI application. These controls are commonly called widgets.\n",
    "\n",
    "Following are the various types of widgets in Tkinter.\n",
    "- `Button`: The Button widget is used to display the buttons in your application.\n",
    "- `Canvas`: The Canvas widget is used to draw shapes, such as lines, ovals, polygons and rectangles, in your application.\n",
    "- `Checkbutton`: The Checkbutton widget is used to display a number of options as checkboxes. The user can select multiple options at a time.\n",
    "- `Entry`: The Entry widget is used to display a single-line text field for accepting values from a user.\n",
    "- `Frame`: The Frame widget is used as a container widget to organize other widgets.\n",
    "- `Label`: The Label widget is used to provide a single-line caption for other widgets. It can also contain images.\n",
    "- `Listbox`: The Listbox widget is used to provide a list of options to a user.\n",
    "- `Menubutton`: The Menubutton widget is used to display menus in your application.\n",
    "- `Menu`: The Menu widget is used to provide various commands to a user. These commands are contained inside Menubutton.\n",
    "- `Message`: The Message widget is used to display multiline text fields for accepting values from a user.\n",
    "- `Radiobutton`: The Radiobutton widget is used to display a number of options as radio buttons. The user can select only one option at a time.\n",
    "- `Scale`: The Scale widget is used to provide a slider widget.\n",
    "- `Scrollbar`: The Scrollbar widget is used to add scrolling capability to various widgets, such as list boxes.\n",
    "- `Text`: The Text widget is used to display text in multiple lines.\n",
    "- `Toplevel`: The Toplevel widget is used to provide a separate window container.\n",
    "- `Spinbox`: The Spinbox widget is a variant of the standard Tkinter Entry widget, which can be used to select from a fixed number of values.\n",
    "- `PanedWindow`: A PanedWindow is a container widget that may contain any number of panes, arranged horizontally or vertically.\n",
    "- `LabelFrame`: A labelframe is a simple container widget. Its primary purpose is to act as a spacer or container for complex window layouts.\n",
    "- `tkMessageBox`: This module is used to display message boxes in your applications."
   ]
  },
  {
   "cell_type": "markdown",
   "metadata": {},
   "source": [
    "## Standard attributes\n",
    "Some of the common attributes are as follows:\n",
    "- `Dimensions`\n",
    "- `Colors`\n",
    "- `Fonts`\n",
    "- `Anchors`\n",
    "- `Relief styles`\n",
    "- `Bitmaps`\n",
    "- `Cursors`"
   ]
  },
  {
   "cell_type": "markdown",
   "metadata": {},
   "source": [
    "## Geometry Management\n",
    "All Tkinter widgets have access to the specific geometry management methods, which have the purpose of organizing widgets throughout the parent widget area. Tkinter exposes the following geometry manager classes: pack, grid, and place.\n",
    "- `pack()`: This geometry manager organizes widgets in blocks before placing them in the parent widget.\n",
    "- `grid()`: This geometry manager organizes widgets in a table-like structure in the parent widget.\n",
    "- `place()`: This geometry manager organizes widgets by placing them in a specific position in the parent widget."
   ]
  },
  {
   "cell_type": "markdown",
   "metadata": {},
   "source": [
    "## Hello Tkinter\n",
    "The following Python script uses Tkinter to create a simple window.\n",
    "\n",
    "```$ python3 hello.py```\n",
    "\n",
    "```> python hello.py```"
   ]
  },
  {
   "cell_type": "code",
   "execution_count": null,
   "metadata": {},
   "outputs": [],
   "source": [
    "#!/usr/bin/python3\n",
    "\n",
    "# filename = hello.py\n",
    "\n",
    "import tkinter as tk\n",
    "\n",
    "\n",
    "root = tk.Tk()\n",
    "\n",
    "root.mainloop()"
   ]
  },
  {
   "cell_type": "markdown",
   "metadata": {},
   "source": [
    "## Output\n",
    "![](images/hello.PNG)"
   ]
  },
  {
   "cell_type": "markdown",
   "metadata": {},
   "source": [
    "The tkinter module, containing the Tk() toolkit, has to be always imported. In the above example, imported tkinter is imported by renaming it into tk, which is the preferred way to do it:\n",
    "\n",
    "```python\n",
    "import tkinter as tk\n",
    "```\n",
    "\n",
    "To initialize tkinter, we have to create a Tk root widget, which is a window with a title bar and other decoration provided by the window manager. The root widget has to be created before any other widgets and there can only be one root widget.\n",
    "\n",
    "```python\n",
    "root = tk.Tk()\n",
    "```\n",
    "\n",
    "The window won't appear until Tkinter event enters into a loop:\n",
    "\n",
    "```python\n",
    "root.mainloop()\n",
    "```\n",
    "The above script will remain in the event loop until the window is closed."
   ]
  },
  {
   "cell_type": "markdown",
   "metadata": {},
   "source": [
    "## The `Label()` method\n",
    "\n",
    "A Label is a Tkinter Widget class, which is used to display text or an image. The label is a widget that the user just views but not interact with. The following Python script uses Tkinter to create a window with the text \"Hello Tkinter\".\n",
    "\n",
    "**Syntax:**\n",
    "```python\n",
    "w = Label(master, option=value, ...)\n",
    "```\n",
    "**Parameters:**\n",
    "- `master`: This represents the parent window.\n",
    "- `options`: These options can be used as key-value pairs separated by commas."
   ]
  },
  {
   "cell_type": "markdown",
   "metadata": {},
   "source": [
    "**Options:**\n",
    "- `anchor`: The position, where the text should be placed in the message widget: N, NE, E, SE, S, SW, W, NW, or CENTER. The Default is CENTER.\n",
    "- `aspect`: Aspect ratio, given as the width/height relation in percent. The default is 150, which means that the message will be 50% wider than it is high. Note that if the width is explicitly set, this option is ignored.\n",
    "- `background`: The background color of the message widget. The default value is system specific.\n",
    "- `bg`: Short for background.\n",
    "- `borderwidth`: Border width. Default value is 2.\n",
    "- `bd`: Short for borderwidth.\n",
    "- `cursor`: Defines the kind of cursor to show when the mouse is moved over the message widget. By default the standard cursor is used.\n",
    "- `font`: Message font. The default value is system specific.\n",
    "- `foreground`: Text color. The default value is system specific.\n",
    "- `fg`: Same as foreground.\n",
    "- `highlightbackground`: Together with highlightcolor and highlightthickness, this option controls how to draw the highlight region.\n",
    "- `highlightcolor`: See highlightbackground.\n",
    "- `highlightthickness`: See highlightbackground.\n",
    "- `justify`: Defines how to align multiple lines of text. Use LEFT, RIGHT, or CENTER. Note that to position the text inside the widget, use the anchor option. Default is LEFT.\n",
    "- `padx`: Horizontal padding. Default is -1 (no padding).\n",
    "- `pady`: Vertical padding. Default is -1 (no padding).\n",
    "- `relief`: Border decoration. The default is FLAT. Other possible values are SUNKEN, RAISED, GROOVE, and RIDGE.\n",
    "- `takefocus`: If true, the widget accepts input focus. The default is false.\n",
    "- `text`: Message text. The widget inserts line breaks if necessary to get the requested aspect ratio. (text/Text)\n",
    "- `textvariable`: Associates a Tkinter variable with the message, which is usually a StringVar. If the variable is changed, the text is updated.\n",
    "- `width`: Widget width given in character units. A suitable width based on the aspect setting is automatically chosen, if this option is not given.\n",
    "- `sticky`: Defines how to expand the widget if the resulting cell is larger than the widget itself. This can be any combination of the constants S, N, E, and W, or NW, NE, SW, and SE."
   ]
  },
  {
   "cell_type": "code",
   "execution_count": null,
   "metadata": {},
   "outputs": [],
   "source": [
    "import tkinter as tk\n",
    "\n",
    "\n",
    "root = tk.Tk()\n",
    "root.title(\"Hello\")\n",
    "root.geometry(\"250x250+200+200\")\n",
    "\n",
    "lab = tk.Label(root, text=\"Hello Tkinter!\", font=('times', 24, 'bold'))\n",
    "lab.pack()\n",
    "\n",
    "root.mainloop()"
   ]
  },
  {
   "cell_type": "markdown",
   "metadata": {},
   "source": [
    "## Output\n",
    "![](images/label.PNG)"
   ]
  },
  {
   "cell_type": "markdown",
   "metadata": {},
   "source": [
    "## The `Canvas()` method\n",
    "The Canvas is a rectangular area intended for drawing pictures or other complex layouts. You can place graphics, text, widgets or frames on a Canvas.\n",
    "\n",
    "**Syntax:**\n",
    "```python\n",
    "w = Canvas(master, option=value, ...)\n",
    "```"
   ]
  },
  {
   "cell_type": "markdown",
   "metadata": {},
   "source": [
    "**Supported Items:**\n",
    "- `arc`: Creates an arc item, which can be a chord, a pieslice or a simple arc.\n",
    "```python\n",
    "arc = C.create_arc(50, 50, 200, 200, extent = 270, fill = \"red\")\n",
    "```\n",
    "\n",
    "- `image`: Creates an image item, which can be an instance of either the BitmapImage or the PhotoImage classes.\n",
    "```python\n",
    "filename = PhotoImage(file = \"sunshine.gif\")\n",
    "image = canvas.create_image(50, 50, anchor = NE, image = filename)\n",
    "```\n",
    "\n",
    "- `line`: Creates a line item.\n",
    "```python\n",
    "line = canvas.create_line(x0, y0, x1, y1, ..., xn, yn, options)\n",
    "```\n",
    "\n",
    "- `oval`: Creates a circle or an ellipse at the given coordinates. It takes two pairs of coordinates; the top left and bottom right corners of the bounding rectangle for the oval.\n",
    "```python\n",
    "oval = canvas.create_oval(x0, y0, x1, y1, options)\n",
    "```\n",
    "\n",
    "- `polygon`: Creates a polygon item that must have at least three vertices.\n",
    "```python\n",
    "oval = canvas.create_polygon(x0, y0, x1, y1,...xn, yn, options)\n",
    "```"
   ]
  },
  {
   "cell_type": "code",
   "execution_count": 24,
   "metadata": {},
   "outputs": [],
   "source": [
    "# !/usr/bin/python3\n",
    "\n",
    "import tkinter as tk\n",
    "\n",
    "\n",
    "root = tk.Tk()\n",
    "root.title(\"Canvas\")\n",
    "\n",
    "C = tk.Canvas(root, height = 250, width = 250)\n",
    "\n",
    "arc = C.create_arc(50, 50, 200, 200, extent = 270, fill = \"red\")\n",
    "\n",
    "line = C.create_line(50, 50, 200, 200)\n",
    "\n",
    "C.pack()\n",
    "\n",
    "root.mainloop()"
   ]
  },
  {
   "cell_type": "markdown",
   "metadata": {},
   "source": [
    "## Output\n",
    "![](images/canvas.PNG)"
   ]
  },
  {
   "cell_type": "markdown",
   "metadata": {},
   "source": [
    "## The `Message()` method\n",
    "This widget provides a multiline and noneditable object that displays texts, automatically breaking lines and justifying their contents.\n",
    "\n",
    "Its functionality is very similar to the one provided by the Label widget, except that it can also automatically wrap the text, maintaining a given width or aspect ratio. \n",
    "\n",
    "**Syntax:**\n",
    "```python\n",
    "w = Message(master, option=value, ...)\n",
    "```"
   ]
  },
  {
   "cell_type": "code",
   "execution_count": null,
   "metadata": {},
   "outputs": [],
   "source": [
    "import tkinter as tk\n",
    "\n",
    "\n",
    "root = tk.Tk()\n",
    "root.title(\"Message\")\n",
    "\n",
    "stmt = \"Whatever you do will be insignificant, but it is very important that you do it.\\n -(Mahatma Gandhi)\"\n",
    "\n",
    "msg = tk.Message(root, text=stmt, bg='lightgreen', font=('times', 18, 'italic'))\n",
    "msg.pack()\n",
    "\n",
    "root.mainloop()"
   ]
  },
  {
   "cell_type": "markdown",
   "metadata": {},
   "source": [
    "## Output\n",
    "![](images/message.PNG)"
   ]
  },
  {
   "cell_type": "markdown",
   "metadata": {},
   "source": [
    "## The `Button()` method\n",
    "The Button widget is used to add buttons in a Python application. These buttons can display text or images that convey the purpose of the buttons. You can attach a function or a method to a button which is called automatically when you click the button.\n",
    "\n",
    "**Syntax:**\n",
    "```python\n",
    "w = Button(master, option=value, ...)\n",
    "```"
   ]
  },
  {
   "cell_type": "code",
   "execution_count": 1,
   "metadata": {},
   "outputs": [],
   "source": [
    "import tkinter as tk\n",
    "\n",
    "\n",
    "def display():\n",
    "    print(\"Tkinter is easy to use!\")\n",
    "\n",
    "\n",
    "root = tk.Tk()\n",
    "root.title(\"Button\")\n",
    "root.geometry(\"250x250+200+200\")\n",
    "\n",
    "bt_disp = tk.Button(root, text=\"Display\", fg=\"blue\", command=display)\n",
    "bt_disp.pack()\n",
    "\n",
    "root.mainloop()"
   ]
  },
  {
   "cell_type": "markdown",
   "metadata": {},
   "source": [
    "## Output\n",
    "![](images/button.PNG)"
   ]
  },
  {
   "cell_type": "code",
   "execution_count": null,
   "metadata": {},
   "outputs": [],
   "source": [
    "# Dynamical update the content of a Label\n",
    "\n",
    "import tkinter as tk\n",
    "\n",
    "\n",
    "def counter_label(label):\n",
    "    def count():\n",
    "        global counter\n",
    "        counter += 1\n",
    "        label.config(text=str(counter))\n",
    "        label.after(1000, count)\n",
    "    count()\n",
    "\n",
    "\n",
    "counter = 0\n",
    "\n",
    "\n",
    "root = tk.Tk()\n",
    "root.title(\"Counter\")\n",
    "root.geometry(\"250x250+200+200\")\n",
    "\n",
    "lab = tk.Label(root, fg=\"green\", font=(\"times\", 18, \"bold\"))\n",
    "lab.pack()\n",
    "\n",
    "counter_label(lab)\n",
    "\n",
    "bt_stop = tk.Button(root, text='Stop', font=(18), command=root.destroy)\n",
    "bt_stop.pack()\n",
    "\n",
    "root.mainloop()"
   ]
  },
  {
   "cell_type": "markdown",
   "metadata": {},
   "source": [
    "![](images/dynamic_label.PNG)"
   ]
  },
  {
   "cell_type": "markdown",
   "metadata": {},
   "source": [
    "## The `Frame()` method\n",
    "The Frame widget is very important for the process of grouping and organizing other widgets in a somehow friendly way. It works like a container, which is responsible for arranging the position of other widgets.\n",
    "\n",
    "It uses rectangular areas in the screen to organize the layout and to provide padding of these widgets. A frame can also be used as a foundation class to implement complex widgets.\n",
    "\n",
    "**Syntax:**\n",
    "```python\n",
    "w = Frame(master, option, ...)\n",
    "```"
   ]
  },
  {
   "cell_type": "code",
   "execution_count": 6,
   "metadata": {},
   "outputs": [],
   "source": [
    "# !/usr/bin/python3\n",
    "\n",
    "import tkinter as tk\n",
    "\n",
    "\n",
    "root = tk.Tk()\n",
    "root.title(\"Frame\")\n",
    "root.geometry(\"250x250+200+200\")\n",
    "\n",
    "frame = tk.Frame(root)\n",
    "frame.pack()\n",
    "\n",
    "bottomframe = tk.Frame(root)\n",
    "bottomframe.pack(side=tk.BOTTOM)\n",
    "\n",
    "redbutton = tk.Button(frame, text=\"Red\", fg=\"red\")\n",
    "redbutton.pack(side=tk.LEFT)\n",
    "\n",
    "bluebutton = tk.Button(frame, text=\"Blue\", fg=\"blue\")\n",
    "bluebutton.pack(side=tk.LEFT )\n",
    "\n",
    "blackbutton = tk.Button(bottomframe, text=\"Black\", fg=\"black\")\n",
    "blackbutton.pack(side=tk.BOTTOM)\n",
    "\n",
    "root.mainloop()"
   ]
  },
  {
   "cell_type": "markdown",
   "metadata": {},
   "source": [
    "## Output\n",
    "![](images/frame.PNG)"
   ]
  },
  {
   "cell_type": "markdown",
   "metadata": {},
   "source": [
    "## The Variable Methods\n",
    "Some widgets (like text entry widgets, radio buttons and so on) can be connected directly to application variables by using special options: variable, textvariable, onvalue, offvalue, and value. This connection works both ways: if the variable changes for any reason, the widget it's connected to will be updated to reflect the new value.\n",
    "\n",
    "These Tkinter control variables are used like regular Python variables to keep certain values. It's not possible to hand over a regular Python variable to a widget through a variable or textvariable option. The only kinds of variables for which this works are variables that are subclassed from a class called Variable, defined in the Tkinter module. They are declared like this:\n",
    "\n",
    "```python\n",
    "# Holds a string; default value is \"\"\n",
    "x = StringVar()\n",
    "\n",
    "# Holds an integer; default value is 0\n",
    "x = IntVar()\n",
    "\n",
    "# Holds a float; default value is 0.0\n",
    "x = DoubleVar()\n",
    "\n",
    "# Holds a boolean; default value is False\n",
    "x = BooleanVar()\n",
    "```\n",
    "\n",
    "To read the current value of such a variable, call the method get(). The value of such a variable can be changed with the set() method.\n",
    "```python\n",
    "# initializing the value to 'num'\n",
    "v.set(num)\n",
    "\n",
    "# returns the current value\n",
    "v.get()\n",
    "```"
   ]
  },
  {
   "cell_type": "markdown",
   "metadata": {},
   "source": [
    "## The `Radiobutton()` method\n",
    "This widget implements a multiple-choice button, which is a way to offer many possible selections to the user and lets user choose only one of them.\n",
    "\n",
    "In order to implement this functionality, each group of radiobuttons must be associated to the same variable and each one of the buttons must symbolize a single value. You can use the Tab key to switch from one radionbutton to another.\n",
    "\n",
    "**Syntax:**\n",
    "```python\n",
    "w = Radiobutton(master, option, ...)\n",
    "```"
   ]
  },
  {
   "cell_type": "code",
   "execution_count": null,
   "metadata": {},
   "outputs": [],
   "source": [
    "import tkinter as tk\n",
    "\n",
    "\n",
    "root = tk.Tk()\n",
    "root.title(\"Radiobutton\")\n",
    "root.geometry(\"250x250+200+200\")\n",
    "\n",
    "v = tk.IntVar()\n",
    "\n",
    "tk.Label(root, text=\"Choose Language:\").pack()\n",
    "\n",
    "tk.Radiobutton(root, text=\"Python\", variable=v, value=1).pack(anchor=tk.W)\n",
    "tk.Radiobutton(root, text=\"Perl\", variable=v, value=2).pack(anchor=tk.W)\n",
    "\n",
    "root.mainloop()"
   ]
  },
  {
   "cell_type": "markdown",
   "metadata": {},
   "source": [
    "## Output\n",
    "![](images/radiobutton.PNG)"
   ]
  },
  {
   "cell_type": "code",
   "execution_count": null,
   "metadata": {},
   "outputs": [],
   "source": [
    "# Improved Version\n",
    "\n",
    "import tkinter as tk\n",
    "\n",
    "\n",
    "root = tk.Tk()\n",
    "root.title(\"Radiobutton\")\n",
    "root.geometry(\"250x250+200+200\")\n",
    "\n",
    "v = tk.IntVar()\n",
    "\n",
    "languages = [\"Python\", \"Perl\", \"Java\", \"C++\", \"C\"]\n",
    "\n",
    "def choice():\n",
    "    print(v.get())\n",
    "\n",
    "tk.Label(root, text=\"Choose language:\").pack()\n",
    "\n",
    "for val, language in enumerate(languages):\n",
    "    tk.Radiobutton(root, \n",
    "                  text=language,\n",
    "                  variable=v, \n",
    "                  command=choice,\n",
    "                  value=val).pack(anchor=tk.W)\n",
    "\n",
    "root.mainloop()"
   ]
  },
  {
   "cell_type": "markdown",
   "metadata": {},
   "source": [
    "## Output\n",
    "![](images/radiobutton_improved.PNG)"
   ]
  },
  {
   "cell_type": "markdown",
   "metadata": {},
   "source": [
    "## The `Checkbutton()` method\n",
    "The Checkbutton widget is used to display a number of options to a user as toggle buttons. The user can then select one or more options by clicking the button corresponding to each optin.\n",
    "\n",
    "**Syntax:**\n",
    "```python\n",
    "w = Checkbutton(master, option, ...)\n",
    "```"
   ]
  },
  {
   "cell_type": "code",
   "execution_count": null,
   "metadata": {},
   "outputs": [],
   "source": [
    "import tkinter as tk\n",
    "\n",
    "root = tk.Tk()\n",
    "root.title(\"Checkbutton\")\n",
    "root.geometry(\"250x250+200+200\")\n",
    "\n",
    "tk.Label(root, text=\"Select Languages:\").pack()\n",
    "\n",
    "var1 = tk.BooleanVar()\n",
    "tk.Checkbutton(root, text=\"Python\", variable=var1).pack(anchor=tk.W)\n",
    "\n",
    "var2 = tk.IntVar()\n",
    "tk.Checkbutton(root, text=\"Perl\", variable=var2).pack(anchor=tk.W)\n",
    "\n",
    "root.mainloop()"
   ]
  },
  {
   "cell_type": "markdown",
   "metadata": {},
   "source": [
    "![](images/checkbutton.PNG)"
   ]
  },
  {
   "cell_type": "code",
   "execution_count": null,
   "metadata": {},
   "outputs": [],
   "source": [
    "# Improved Version\n",
    "\n",
    "import tkinter as tk\n",
    "\n",
    "\n",
    "def var_states():\n",
    "    print(\"Python:\", var1.get(), \"\\nPerl:\", var2.get())\n",
    "\n",
    "\n",
    "root = tk.Tk()\n",
    "root.title(\"Checkbutton\")\n",
    "root.geometry(\"250x250+200+200\")\n",
    "\n",
    "tk.Label(root, text=\"Select Languages:\").pack(anchor=tk.W)\n",
    "root.geometry(\"250x250+200+200\")\n",
    "\n",
    "var1 = tk.BooleanVar()\n",
    "tk.Checkbutton(root, text=\"Python\", variable=var1).pack(anchor=tk.W)\n",
    "\n",
    "var2 = tk.BooleanVar()\n",
    "tk.Checkbutton(root, text=\"Perl\", variable=var2).pack(anchor=tk.W)\n",
    "\n",
    "tk.Button(root, text='Show', command=var_states).pack()\n",
    "tk.Button(root, text='Quit', command=root.destroy).pack()\n",
    "\n",
    "root.mainloop()"
   ]
  },
  {
   "cell_type": "markdown",
   "metadata": {},
   "source": [
    "## Output\n",
    "![](images/checkbutton_improved.png)"
   ]
  },
  {
   "cell_type": "markdown",
   "metadata": {},
   "source": [
    "## The `Entry()` method\n",
    "Entry widgets are the basic widgets of Tkinter used to get input, i.e. text strings, from the user of an application. This widget allows the user to enter a single line of text. If the user enters a string, which is longer than the available display space of the widget, the content will be scrolled.An entry widget is also limited to single font. \n",
    "\n",
    "**Syntax:** \n",
    "```python\n",
    "w = Entry(master, option, ...)\n",
    "```"
   ]
  },
  {
   "cell_type": "code",
   "execution_count": null,
   "metadata": {},
   "outputs": [],
   "source": [
    "import tkinter as tk\n",
    "\n",
    "\n",
    "root = tk.Tk()\n",
    "root.title(\"Entry\")\n",
    "root.geometry(\"250x250+200+200\")\n",
    "\n",
    "tk.Label(root, text=\"Enter Language:\").pack()\n",
    "\n",
    "tk.Entry(root).pack()\n",
    "\n",
    "root.mainloop()"
   ]
  },
  {
   "cell_type": "markdown",
   "metadata": {},
   "source": [
    "![](images/entry.png)"
   ]
  },
  {
   "cell_type": "code",
   "execution_count": null,
   "metadata": {},
   "outputs": [],
   "source": [
    "# Improved Version\n",
    "\n",
    "import tkinter as tk\n",
    "\n",
    "\n",
    "def display():\n",
    "    print(\"Entered Language:\", lang.get())\n",
    "\n",
    "\n",
    "root = tk.Tk()\n",
    "root.title(\"Entry\")\n",
    "root.geometry(\"250x250+200+200\")\n",
    "\n",
    "tk.Label(root, text=\"Enter Language:\").pack()\n",
    "\n",
    "lang = tk.Entry(root)\n",
    "lang.pack()\n",
    "\n",
    "tk.Button(root, text='Show', command=display).pack()\n",
    "tk.Button(root, text='Quit', command=root.destroy).pack()\n",
    "\n",
    "root.mainloop()"
   ]
  },
  {
   "cell_type": "markdown",
   "metadata": {},
   "source": [
    "![](images/entry_improved.png)"
   ]
  },
  {
   "cell_type": "markdown",
   "metadata": {},
   "source": [
    "## The `Text()` method\n",
    "Text widgets provide advanced capabilities that allow you to edit a multiline text and format the way it has to be displayed, such as changing its color and font.\n",
    "\n",
    "You can also use elegant structures like tabs and marks to locate specific sections of the text, and apply changes to those areas. Moreover, you can embed windows and images in the text because this widget was designed to handle both plain and formatted text.\n",
    "\n",
    "**Named Indexes:**\n",
    "- `INSERT`: corresponds to the insertion cursor.\n",
    "- `CURRENT`: corresponds to the character closest to the mouse pointer. However, it is only updated if you move the mouse without holding down any buttons (if you do, it will not be updated until you release the button).\n",
    "- `END`: corresponds to the position just after the last character in the buffer"
   ]
  },
  {
   "cell_type": "code",
   "execution_count": null,
   "metadata": {},
   "outputs": [],
   "source": [
    "import tkinter as tk\n",
    "\n",
    "root = tk.Tk()\n",
    "root.title(\"Text\")\n",
    "\n",
    "T = tk.Text(root, height=2, width=25)\n",
    "T.pack()\n",
    "\n",
    "T.insert(tk.END, \"I like Python!\\nI like Tkinter!\")\n",
    "\n",
    "root.mainloop()"
   ]
  },
  {
   "cell_type": "markdown",
   "metadata": {},
   "source": [
    "## Output\n",
    "![](images/text.PNG)"
   ]
  },
  {
   "cell_type": "markdown",
   "metadata": {},
   "source": [
    "## The `Scrollbar()` method\n",
    "This widget provides a slide controller that is used to implement vertical scrolled widgets, such as Listbox, Text and Canvas. Note that you can also create horizontal scrollbars on Entry widgets.\n",
    "\n",
    "**Syntax:**\n",
    "```python\n",
    "w = Scrollbar(master, option, ...)\n",
    "```"
   ]
  },
  {
   "cell_type": "code",
   "execution_count": null,
   "metadata": {},
   "outputs": [],
   "source": [
    "import tkinter as tk\n",
    "\n",
    "\n",
    "quote = \"\"\"HAMLET: To be, or not to be--that is the question:\n",
    "Whether 'tis nobler in the mind to suffer\n",
    "The slings and arrows of outrageous fortune\n",
    "Or to take arms against a sea of troubles\n",
    "And by opposing end them. To die, to sleep--\n",
    "No more--and by a sleep to say we end\n",
    "The heartache, and the thousand natural shocks\n",
    "That flesh is heir to. 'Tis a consummation\n",
    "Devoutly to be wished.\"\"\"\n",
    "\n",
    "\n",
    "root = tk.Tk()\n",
    "root.title(\"Scrollbar\")\n",
    "\n",
    "S = tk.Scrollbar(root)\n",
    "S.pack(side=tk.RIGHT, fill=tk.Y)\n",
    "\n",
    "T = tk.Text(root, height=4, width=50)\n",
    "T.pack(side=tk.LEFT, fill=tk.Y)\n",
    "\n",
    "S.config(command=T.yview)\n",
    "T.config(yscrollcommand=S.set)\n",
    "T.insert(tk.END, quote)\n",
    "\n",
    "root.mainloop()"
   ]
  },
  {
   "cell_type": "markdown",
   "metadata": {},
   "source": [
    "## Output\n",
    "![](images/scrollbar.PNG)"
   ]
  },
  {
   "cell_type": "markdown",
   "metadata": {},
   "source": [
    "## The `Messagebox()` method\n",
    "Tkinter provides a set of dialogues (dialogs in American English spelling), which can be used to display message boxes, showing warning or errors, or widgets to select files and colours.\n",
    "\n",
    "Some of these functions are `showinfo()`, `showwarning()`, `showerror()`, `askquestion()`, `askokcancel()`, `askyesno()` and `askretryignore()`.\n",
    "\n",
    "**Syntax:**\n",
    "```python\n",
    "messagebox.FunctionName(title, message [, options])\n",
    "```\n",
    "\n",
    "**Parameters:**\n",
    "- `FunctionName`: This is the name of the appropriate message box function.\n",
    "- `title`: This is the text to be displayed in the title bar of a message box.\n",
    "- `message`: This is the text to be displayed as a message.\n",
    "- `options`: options are alternative choices that you may use to tailor a standard message box. Some of the options that you can use are default and parent. The default option is used to specify the default button, such as ABORT, RETRY, or IGNORE in the message box. The parent option is used to specify the window on top of which the message box is to be displayed."
   ]
  },
  {
   "cell_type": "code",
   "execution_count": 9,
   "metadata": {},
   "outputs": [],
   "source": [
    "import tkinter as tk\n",
    "import tkinter.messagebox as mbox\n",
    "\n",
    "\n",
    "def answer():\n",
    "    mbox.showerror(\"Answer\", \"Sorry, no answer available\")\n",
    "\n",
    "\n",
    "def callback():\n",
    "    if mbox.askyesno('Verify', 'Really quit?'):\n",
    "        mbox.showwarning('Yes', 'Not yet implemented')\n",
    "    else:\n",
    "        mbox.showinfo('No', 'Quit has been cancelled')\n",
    "\n",
    "\n",
    "root = tk.Tk()\n",
    "root.title(\"MessageBox\")\n",
    "root.geometry(\"250x250+200+200\")\n",
    "        \n",
    "tk.Button(text='Answer', command=answer).pack(fill=tk.X)\n",
    "tk.Button(text='Quit', command=callback).pack(fill=tk.X)\n",
    "\n",
    "root.mainloop()"
   ]
  },
  {
   "cell_type": "markdown",
   "metadata": {},
   "source": [
    "## Output\n",
    "![](images/msg_box.PNG)\n",
    "![](images/msg_answer.PNG)\n",
    "![](images/msg_quit.PNG)\n",
    "![](images/msg_verify.PNG)\n",
    "![](images/msg_quit_not_implemented.PNG)\n",
    "![](images/msg_quit_cancelled.PNG)"
   ]
  },
  {
   "cell_type": "markdown",
   "metadata": {},
   "source": [
    "## The `Menu()` method\n",
    "The goal of this widget is to allow us to create all kinds of menus that can be used by our applications. The core functionality provides ways to create three menu types: pop-up, toplevel and pull-down.\n",
    "\n",
    "It is also possible to use other extended widgets to implement new types of menus, such as the OptionMenu widget, which implements a special type that generates a pop-up list of items within a selection.\n",
    "\n",
    "**Syntax:**\n",
    "```python\n",
    "w = Menu(master, option, ...)\n",
    "```"
   ]
  },
  {
   "cell_type": "code",
   "execution_count": 14,
   "metadata": {},
   "outputs": [],
   "source": [
    "import tkinter as tk\n",
    "\n",
    "def donothing():\n",
    "    filewin = tk.Toplevel(root)\n",
    "    button = tk.Button(filewin, text=\"Do nothing button\")\n",
    "    button.pack()\n",
    "\n",
    "root = tk.Tk()\n",
    "root.title(\"Menu\")\n",
    "root.geometry(\"250x250+200+200\")\n",
    "\n",
    "menubar = tk.Menu(root)\n",
    "filemenu = tk.Menu(menubar, tearoff = 0)\n",
    "filemenu.add_command(label = \"New\", command = donothing)\n",
    "filemenu.add_command(label = \"Open\", command = donothing)\n",
    "filemenu.add_command(label = \"Save\", command = donothing)\n",
    "filemenu.add_command(label = \"Save as...\", command = donothing)\n",
    "filemenu.add_command(label = \"Close\", command = donothing)\n",
    "filemenu.add_separator()\n",
    "filemenu.add_command(label = \"Exit\", command = root.destroy)\n",
    "menubar.add_cascade(label = \"File\", menu = filemenu)\n",
    "\n",
    "editmenu = tk.Menu(menubar, tearoff=0)\n",
    "editmenu.add_command(label = \"Undo\", command = donothing)\n",
    "editmenu.add_separator()\n",
    "editmenu.add_command(label = \"Cut\", command = donothing)\n",
    "editmenu.add_command(label = \"Copy\", command = donothing)\n",
    "editmenu.add_command(label = \"Paste\", command = donothing)\n",
    "editmenu.add_command(label = \"Delete\", command = donothing)\n",
    "editmenu.add_command(label = \"Select All\", command = donothing)\n",
    "menubar.add_cascade(label = \"Edit\", menu = editmenu)\n",
    "\n",
    "helpmenu = tk.Menu(menubar, tearoff=0)\n",
    "helpmenu.add_command(label = \"Help Index\", command = donothing)\n",
    "helpmenu.add_command(label = \"About...\", command = donothing)\n",
    "menubar.add_cascade(label = \"Help\", menu = helpmenu)\n",
    "\n",
    "root.config(menu = menubar)\n",
    "\n",
    "root.mainloop()"
   ]
  },
  {
   "cell_type": "markdown",
   "metadata": {},
   "source": [
    "## Output\n",
    "![](images/menu.PNG)\n",
    "![](images/menu_file.PNG)\n",
    "![](images/menu_do_nothing.PNG)"
   ]
  }
 ],
 "metadata": {
  "kernelspec": {
   "display_name": "Python 3",
   "language": "python",
   "name": "python3"
  },
  "language_info": {
   "codemirror_mode": {
    "name": "ipython",
    "version": 3
   },
   "file_extension": ".py",
   "mimetype": "text/x-python",
   "name": "python",
   "nbconvert_exporter": "python",
   "pygments_lexer": "ipython3",
   "version": "3.6.3"
  }
 },
 "nbformat": 4,
 "nbformat_minor": 2
}
