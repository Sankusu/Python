{
 "cells": [
  {
   "cell_type": "markdown",
   "metadata": {},
   "source": [
    "# Module 04 Python Integration Primer - 02 Networking in Python"
   ]
  },
  {
   "cell_type": "markdown",
   "metadata": {},
   "source": [
    "Python provides two levels of access to the network services. At a low level, you can access the basic socket support in the underlying operating system, which allows you to implement clients and servers for both connection-oriented and connectionless protocols.\n",
    "\n",
    "Python also has libraries that provide higher-level access to specific application-level network protocols, such as FTP, HTTP, and so on."
   ]
  },
  {
   "cell_type": "markdown",
   "metadata": {},
   "source": [
    "# Sockets\n",
    "Sockets are the endpoints of a bidirectional communications channel. Sockets may communicate within a process, between processes on the same machine, or between processes on different continents.\n",
    "\n",
    "Sockets may be implemented over a number of different channel types: Unix domain sockets, TCP, UDP, and so on. The socket library provides specific classes for handling the common transports as well as a generic interface for handling the rest."
   ]
  },
  {
   "cell_type": "markdown",
   "metadata": {},
   "source": [
    "### Socket vocabulary\n",
    "- `domain`: The family of protocols that is used as the transport mechanism. These values are constants such as AF_INET, PF_INET, PF_UNIX, PF_X25, and so on. AF_INET is an address family that is used to designate the type of addresses that your socket can communicate with (in this case, Internet Protocol v4 addresses). The Linux kernel supports 29 other address families such as UNIX (AF_UNIX) sockets and IPX (AF_IPX), and also communications with IRDA and Bluetooth (AF_IRDA and AF_BLUETOOTH).\n",
    "\n",
    "- `type`: The type of communications between the two endpoints, typically SOCK_STREAM for connection-oriented protocols and SOCK_DGRAM for connectionless protocols.\n",
    "\n",
    "- `protocol`: Typically zero, this may be used to identify a variant of a protocol within a domain and type.\n",
    "\n",
    "- `hostname`: The identifier of a network interface −\n",
    "    - A string, which can be a host name, a dotted-quad address, or an IPV6 address in colon (and possibly dot) notation\n",
    "    - A string `<broadcast>`, which specifies an INADDR_BROADCAST address.\n",
    "    - A zero-length string, which specifies `INADDR_ANY`\n",
    "    - An Integer, interpreted as a binary address in host byte order\n",
    "\n",
    "- `port`: Each server listens for clients calling on one or more ports. A port may be a Fixnum port number, a string containing a port number, or the name of a service."
   ]
  },
  {
   "cell_type": "markdown",
   "metadata": {},
   "source": [
    "## The socket Module\n",
    "To create a socket, you must use the `socket.socket()` method available in the `socket` module\n",
    "\n",
    "**Syntax:**\n",
    "```python\n",
    "s = socket.socket(socket_family, socket_type, protocol = 0)\n",
    "```\n",
    "\n",
    "**Parameters:**\n",
    "\n",
    "- `socket_family`: This is either `AF_UNIX` or `AF_INET`.\n",
    "\n",
    "- `socket_type`: This is either `SOCK_STREAM` or `SOCK_DGRAM`.\n",
    "\n",
    "- `protocol`: This is usually left out, defaulting to 0.\n",
    "\n",
    "Once you have socket object, then you can use the required functions to create your client or server program."
   ]
  },
  {
   "cell_type": "markdown",
   "metadata": {},
   "source": [
    "## Server Socket Methods\n",
    "- `s.bind()`: This method binds address (hostname, port number) pair to socket.\n",
    "- `s.listen(n)`: This method sets up and start TCP listener. `n` here means that `n` connections are kept waiting if the server is busy and if a (`n+1`)th socket trys to connect then the connection is refused.\n",
    "- `s.accept()`: This passively accept TCP client connection, waiting until connection arrives (blocking)."
   ]
  },
  {
   "cell_type": "markdown",
   "metadata": {},
   "source": [
    "## Client Socket Methods\n",
    "- `s.connect()`: This method actively initiates TCP server connection."
   ]
  },
  {
   "cell_type": "markdown",
   "metadata": {},
   "source": [
    "## General Socket Methods\n",
    "\n",
    "- `s.recv()`: This method receives TCP message\n",
    "- `s.send()`: This method transmits TCP message\n",
    "- `s.recvfrom()`: This method receives UDP message\n",
    "- `s.sendto()`: This method transmits UDP message\n",
    "- `s.close()`: This method closes socket\n",
    "- `socket.gethostname()`: Returns the hostname."
   ]
  },
  {
   "cell_type": "markdown",
   "metadata": {},
   "source": [
    "## A Simple Server\n",
    "To create servers, use the `socket()` method available in socket module to create a socket object. A socket object is then used to call other functions to setup a socket server.\n",
    "\n",
    "Now call the `bind(hostname, port)` function to specify a port for your service on the given host.\n",
    "\n",
    "Next, call the `accept()` method of the returned object. This method waits until a client connects to the port you specified, and then returns a connection object that represents the connection to that client"
   ]
  },
  {
   "cell_type": "code",
   "execution_count": null,
   "metadata": {},
   "outputs": [],
   "source": [
    "#!/usr/bin/python3\n",
    "\n",
    "# This is server.py file\n",
    "\n",
    "import socket\n",
    "\n",
    "# create a socket object\n",
    "serversocket = socket.socket(socket.AF_INET, socket.SOCK_STREAM)\n",
    "\n",
    "# get local machine name\n",
    "host = socket.gethostname()\n",
    "\n",
    "port = 9999\n",
    "\n",
    "# bind to the port\n",
    "serversocket.bind((host, port))\n",
    "\n",
    "# queue up to 1 requests\n",
    "serversocket.listen(1)\n",
    "\n",
    "\n",
    "while True:\n",
    "    # establish a connection\n",
    "    clientsocket, addr = serversocket.accept()\n",
    "    print(\"Got a connection from\", addr)\n",
    "    \n",
    "    msg = 'Thank you for connecting'\n",
    "    \n",
    "    clientsocket.send(msg.encode('ascii'))\n",
    "    \n",
    "    clientsocket.close()"
   ]
  },
  {
   "cell_type": "markdown",
   "metadata": {},
   "source": [
    "## A Simple Client\n",
    "Let us write a very simple client program which opens a connection to a given port 9999 and a given host. It is very simple to create a socket client using the Python's socket module function.\n",
    "\n",
    "The socket.connect(hosname, port ) opens a TCP connection to hostname on the port. Once you have a socket open, you can read from it like any IO object. When done, remember to close it, as you would close a file."
   ]
  },
  {
   "cell_type": "code",
   "execution_count": null,
   "metadata": {},
   "outputs": [],
   "source": [
    "#!/usr/bin/python3 \n",
    "\n",
    "# This is client.py file\n",
    "\n",
    "import socket\n",
    "\n",
    "\n",
    "# create a socket object\n",
    "clientsocket = socket.socket(socket.AF_INET, socket.SOCK_STREAM) \n",
    "\n",
    "\n",
    "# get local machine name\n",
    "host = socket.gethostname()\n",
    "\n",
    "\n",
    "# port number same as server\n",
    "port = 9999\n",
    "\n",
    "\n",
    "# connection to hostname on the port.\n",
    "clientsocket.connect((host, port))\n",
    "\n",
    "\n",
    "# Receive no more than 1024 bytes\n",
    "msg = clientsocket.recv(1024)\n",
    "\n",
    "print(msg.decode('ascii'))\n",
    "\n",
    "clientsocket.close()"
   ]
  },
  {
   "cell_type": "markdown",
   "metadata": {},
   "source": [
    "Now run this `server.py` in the background and then run the above `client.py` to see the result.\n",
    "\n",
    "```\n",
    "# Following would start a server\n",
    "$ python server.py\n",
    "\n",
    "# Once server is started run client\n",
    "$ python client.py\n",
    "```"
   ]
  },
  {
   "cell_type": "markdown",
   "metadata": {},
   "source": [
    "### Output\n",
    "This would produce following result −\n",
    "\n",
    "```\n",
    "# On server terminal\n",
    "Got a connection from ('192.168.1.10', 3747)\n",
    "\n",
    "# On client terminal\n",
    "Thank you for connecting\n",
    "```"
   ]
  }
 ],
 "metadata": {
  "kernelspec": {
   "display_name": "Python 3",
   "language": "python",
   "name": "python3"
  },
  "language_info": {
   "codemirror_mode": {
    "name": "ipython",
    "version": 3
   },
   "file_extension": ".py",
   "mimetype": "text/x-python",
   "name": "python",
   "nbconvert_exporter": "python",
   "pygments_lexer": "ipython3",
   "version": "3.6.3"
  }
 },
 "nbformat": 4,
 "nbformat_minor": 2
}
