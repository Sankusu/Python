{
 "cells": [
  {
   "cell_type": "markdown",
   "metadata": {},
   "source": [
    "## Functions\n",
    "A piece of source code, separate from the larger program, that performs a specific task.\n",
    "\n",
    "Reasons to use functions:\n",
    "1. Reduce complex tasks into simpler tasks\n",
    "2. Eliminate duplicate code\n",
    "3. Code reuse\n",
    "4. Distribute tasks to multiple programmers\n",
    "5. Hide implementation details - abstraction\n",
    "6. Improves debugging by improving traceability\n",
    "\n",
    "Functions are defined in Python using `def` keyword."
   ]
  },
  {
   "cell_type": "markdown",
   "metadata": {},
   "source": [
    "**Syntax:**\n",
    "```python\n",
    "def functionname(parameters):\n",
    "    \"\"\"function_docstring\"\"\"\n",
    "    # function_statements\n",
    "    return [expression]\n",
    "```"
   ]
  },
  {
   "cell_type": "code",
   "execution_count": 1,
   "metadata": {},
   "outputs": [
    {
     "name": "stdout",
     "output_type": "stream",
     "text": [
      "Returning from Function\n"
     ]
    }
   ],
   "source": [
    "def func():\n",
    "    return \"Returning from Function\"\n",
    "\n",
    "print(func())"
   ]
  },
  {
   "cell_type": "markdown",
   "metadata": {},
   "source": [
    "## The `pass` statement"
   ]
  },
  {
   "cell_type": "code",
   "execution_count": 2,
   "metadata": {},
   "outputs": [],
   "source": [
    "def func():\n",
    "    pass\n",
    "\n",
    "func()"
   ]
  },
  {
   "cell_type": "code",
   "execution_count": 3,
   "metadata": {},
   "outputs": [
    {
     "name": "stdout",
     "output_type": "stream",
     "text": [
      "This is DocString\n",
      "Inside the Function!\n"
     ]
    }
   ],
   "source": [
    "# Simple Function\n",
    "def function():\n",
    "    \"\"\"This is DocString\"\"\"\n",
    "    \"\"\"This\n",
    "    is\n",
    "    multi-line\n",
    "    comment\"\"\"\n",
    "    print(function.__doc__)\n",
    "    print(\"Inside the Function!\")\n",
    "\n",
    "function()"
   ]
  },
  {
   "cell_type": "markdown",
   "metadata": {},
   "source": [
    "**Note:** Use can use SHIFT+TAB to show the docstring of a function."
   ]
  },
  {
   "cell_type": "code",
   "execution_count": 4,
   "metadata": {},
   "outputs": [
    {
     "name": "stdout",
     "output_type": "stream",
     "text": [
      "hello world!\n"
     ]
    }
   ],
   "source": [
    "def main():\n",
    "    print(\"hello world!\")\n",
    "    \n",
    "if __name__ == \"__main__\":\n",
    "    main()"
   ]
  },
  {
   "cell_type": "code",
   "execution_count": 5,
   "metadata": {},
   "outputs": [
    {
     "name": "stdout",
     "output_type": "stream",
     "text": [
      "Test Line!!!\n"
     ]
    }
   ],
   "source": [
    "# Equals to operator for Functions\n",
    "def test1():\n",
    "    print(\"Test Line!!!\")\n",
    "\n",
    "# Creating test2 equals to test1\n",
    "test2 = test1\n",
    "test2()"
   ]
  },
  {
   "cell_type": "code",
   "execution_count": 6,
   "metadata": {},
   "outputs": [
    {
     "name": "stdout",
     "output_type": "stream",
     "text": [
      "this is returned!!!\n"
     ]
    }
   ],
   "source": [
    "# Returning values from a Function\n",
    "def returning():\n",
    "    return \"this is returned!!!\"\n",
    "\n",
    "print(returning())"
   ]
  },
  {
   "cell_type": "code",
   "execution_count": 7,
   "metadata": {},
   "outputs": [
    {
     "name": "stdout",
     "output_type": "stream",
     "text": [
      "('1st', '2nd', 3, True, 5.0)\n"
     ]
    }
   ],
   "source": [
    "# Multiple return values from a Function\n",
    "def multi_return():\n",
    "    return \"1st\", \"2nd\", 3, True, 5.0\n",
    "values = multi_return()\n",
    "print(values)"
   ]
  },
  {
   "cell_type": "code",
   "execution_count": 8,
   "metadata": {},
   "outputs": [
    {
     "name": "stdout",
     "output_type": "stream",
     "text": [
      "Positive\n"
     ]
    }
   ],
   "source": [
    "def option_return():\n",
    "    if a > 0:\n",
    "        return \"Positive\"\n",
    "    else:\n",
    "        return \"Negative\"\n",
    "\n",
    "a = 10\n",
    "print(option_return())    "
   ]
  },
  {
   "cell_type": "markdown",
   "metadata": {},
   "source": [
    "**Note:** Arguments are passed as tuples!!!"
   ]
  },
  {
   "cell_type": "code",
   "execution_count": 9,
   "metadata": {},
   "outputs": [
    {
     "name": "stdout",
     "output_type": "stream",
     "text": [
      "1\n"
     ]
    }
   ],
   "source": [
    "# Parameters to a Function\n",
    "def parameters(a):\n",
    "    return a\n",
    "\n",
    "print(parameters(1))"
   ]
  },
  {
   "cell_type": "code",
   "execution_count": 10,
   "metadata": {},
   "outputs": [
    {
     "name": "stdout",
     "output_type": "stream",
     "text": [
      "Output: 3\n"
     ]
    }
   ],
   "source": [
    "# Multiple Parameters to a Function\n",
    "def add(a, b):\n",
    "    c = a + b\n",
    "    return c\n",
    "\n",
    "print(\"Output:\", add(1, 2))"
   ]
  },
  {
   "cell_type": "code",
   "execution_count": 11,
   "metadata": {},
   "outputs": [
    {
     "name": "stdout",
     "output_type": "stream",
     "text": [
      "Output: 19\n"
     ]
    }
   ],
   "source": [
    "# Default Parameters\n",
    "def def_parameters(a, b=4, c=5):\n",
    "    return a + b + c\n",
    "\n",
    "print(\"Output:\", def_parameters(10))"
   ]
  },
  {
   "cell_type": "code",
   "execution_count": 12,
   "metadata": {},
   "outputs": [
    {
     "name": "stdout",
     "output_type": "stream",
     "text": [
      "Keyword Arguments:  3 2 1\n"
     ]
    }
   ],
   "source": [
    "# Keyword Arguments\n",
    "def key_arguments(a, b, c):\n",
    "    print(\"Keyword Arguments: \", a, b, c)\n",
    "\n",
    "key_arguments(c=1, b=2, a=3)"
   ]
  },
  {
   "cell_type": "code",
   "execution_count": 13,
   "metadata": {},
   "outputs": [
    {
     "name": "stdout",
     "output_type": "stream",
     "text": [
      "Single Argument:\n",
      "1\n",
      "Three Arguments:\n",
      "1\n",
      "2\n",
      "3\n"
     ]
    }
   ],
   "source": [
    "# Packing Arguments (Variable Length Arguments)\n",
    "def pack(*args):\n",
    "    for i in args:\n",
    "        print(i)\n",
    "\n",
    "print(\"Single Argument:\")\n",
    "pack(1)\n",
    "print(\"Three Arguments:\")\n",
    "pack(1, 2, 3)"
   ]
  },
  {
   "cell_type": "markdown",
   "metadata": {},
   "source": [
    "## `*` Unpacking Operator"
   ]
  },
  {
   "cell_type": "code",
   "execution_count": 14,
   "metadata": {},
   "outputs": [
    {
     "name": "stdout",
     "output_type": "stream",
     "text": [
      "Without unpacking Arguments:\n",
      "1\n",
      "2\n",
      "3\n",
      "Unpacking Arguments:\n",
      "1\n",
      "2\n",
      "3\n"
     ]
    }
   ],
   "source": [
    "# Unpacking Arguments\n",
    "def unpack(a, b, c):\n",
    "    print(a)\n",
    "    print(b)\n",
    "    print(c)\n",
    "\n",
    "args = (1, 2, 3)\n",
    "print(\"Without unpacking Arguments:\")\n",
    "unpack(args[0], args[1], args[2])\n",
    "\n",
    "print(\"Unpacking Arguments:\")\n",
    "unpack(*args)"
   ]
  },
  {
   "cell_type": "markdown",
   "metadata": {},
   "source": [
    "## Nested Functions"
   ]
  },
  {
   "cell_type": "code",
   "execution_count": 15,
   "metadata": {},
   "outputs": [
    {
     "name": "stdout",
     "output_type": "stream",
     "text": [
      "Enter the length of side 1: 3.0\n",
      "Enter the length of side 2: 4.0\n",
      "The lenth of hypotenuse: 5.0\n"
     ]
    }
   ],
   "source": [
    "# Calculate the hypotenuse of a right-angled triangle\n",
    "import math\n",
    "\n",
    "def hyp(s1, s2):\n",
    "    def square(num):\n",
    "        return num * num\n",
    "    return math.sqrt(square(s1) + square(s2))\n",
    "\n",
    "side1 = float(input(\"Enter the length of side 1: \"))\n",
    "side2 = float(input(\"Enter the length of side 2: \"))\n",
    "print(\"The lenth of hypotenuse:\", hyp(side1, side2))"
   ]
  },
  {
   "cell_type": "markdown",
   "metadata": {},
   "source": [
    "# Recursive Functions"
   ]
  },
  {
   "cell_type": "code",
   "execution_count": 16,
   "metadata": {},
   "outputs": [
    {
     "name": "stdout",
     "output_type": "stream",
     "text": [
      "Enter a number: 5\n",
      "120\n"
     ]
    }
   ],
   "source": [
    "# 5! = 5 * 4 * 3 * 2 * 1\n",
    "# 5! = 5 * 4!\n",
    "\n",
    "def fact(number):\n",
    "    if number <= 1:\n",
    "        return 1\n",
    "    else:\n",
    "        return number * fact(number-1)\n",
    "\n",
    "print(fact(int(input(\"Enter a number: \"))))"
   ]
  },
  {
   "cell_type": "markdown",
   "metadata": {},
   "source": [
    "## Anonymous Functions (`lambda` Functions)\n",
    "In Python, anonymous function is a function that is defined without a name. While normal functions are defined using the def keyword, in Python anonymous functions are defined using the lambda keyword. Hence, anonymous functions are also called lambda functions.\n",
    "\n",
    "The lambda operator or lambda function is a way to create small anonymous functions, i.e. functions without a name. These functions are throw-away functions, i.e. they are just needed where they have been created."
   ]
  },
  {
   "cell_type": "markdown",
   "metadata": {},
   "source": [
    "**Syntax:**\n",
    "```python\n",
    "lambda arguments: expression\n",
    "```"
   ]
  },
  {
   "cell_type": "code",
   "execution_count": 17,
   "metadata": {},
   "outputs": [
    {
     "name": "stdout",
     "output_type": "stream",
     "text": [
      "Output: 4\n"
     ]
    }
   ],
   "source": [
    "# Without using Lambda Function\n",
    "def square(number):\n",
    "    return number * number\n",
    "\n",
    "print(\"Output:\", square(2))"
   ]
  },
  {
   "cell_type": "code",
   "execution_count": 18,
   "metadata": {},
   "outputs": [
    {
     "name": "stdout",
     "output_type": "stream",
     "text": [
      "Output: 4\n"
     ]
    }
   ],
   "source": [
    "# Using Lambda Function\n",
    "square = lambda x: x*x\n",
    "\n",
    "print(\"Output:\", square(2))"
   ]
  },
  {
   "cell_type": "code",
   "execution_count": 19,
   "metadata": {},
   "outputs": [
    {
     "name": "stdout",
     "output_type": "stream",
     "text": [
      "Output: 35\n"
     ]
    }
   ],
   "source": [
    "# Lambda with two parameters\n",
    "add = lambda x, y: x+y\n",
    "print(\"Output:\", add(10, 25))"
   ]
  },
  {
   "cell_type": "code",
   "execution_count": 20,
   "metadata": {},
   "outputs": [
    {
     "name": "stdout",
     "output_type": "stream",
     "text": [
      "Output: 6\n"
     ]
    }
   ],
   "source": [
    "# Nested Lambda\n",
    "nested_func = lambda x: lambda y: lambda z: x * y * z\n",
    "print(\"Output:\", nested_func(1)(2)(3))"
   ]
  },
  {
   "cell_type": "code",
   "execution_count": 21,
   "metadata": {},
   "outputs": [
    {
     "name": "stdout",
     "output_type": "stream",
     "text": [
      "Output: 12\n"
     ]
    }
   ],
   "source": [
    "# Complex Lambda Functions\n",
    "complex_lambda = lambda a: lambda b, c: a * b + c\n",
    "print(\"Output:\", complex_lambda(2)(4, 4))"
   ]
  },
  {
   "cell_type": "markdown",
   "metadata": {},
   "source": [
    "# Sample Programs"
   ]
  },
  {
   "cell_type": "code",
   "execution_count": 22,
   "metadata": {},
   "outputs": [
    {
     "name": "stdout",
     "output_type": "stream",
     "text": [
      "Enter a string: malayalam\n",
      "True\n"
     ]
    }
   ],
   "source": [
    "# Palindrome:\n",
    "\n",
    "def palindrome(inp):\n",
    "    return True if inp == inp[::-1] else False\n",
    "\n",
    "print(palindrome(input(\"Enter a string: \")))"
   ]
  },
  {
   "cell_type": "code",
   "execution_count": 23,
   "metadata": {},
   "outputs": [
    {
     "name": "stdout",
     "output_type": "stream",
     "text": [
      "Enter a temperature: 98.3\n",
      "Enter the scale to convert to: c\n",
      "98.3 36.833333333333336 C\n"
     ]
    }
   ],
   "source": [
    "# Temperature Convertor\n",
    "\n",
    "def ftoc(temp):\n",
    "    return (temp-32.0) * (5.0/9.0)\n",
    "\n",
    "def ctof(temp):\n",
    "    return temp * (9.0/5.0) + 32.0\n",
    "\n",
    "def convert(temp, toTemp):\n",
    "    if toTemp == \"C\":\n",
    "        return ftoc(temp)\n",
    "    elif toTemp == \"F\":\n",
    "        return ctof(temp)\n",
    "    else:\n",
    "        return \"Conversion Failed\"\n",
    "\n",
    "temp = float(input(\"Enter a temperature: \"))\n",
    "scale = input(\"Enter the scale to convert to: \").upper()\n",
    "converted = convert(temp, scale)\n",
    "print(temp, converted, scale)"
   ]
  },
  {
   "cell_type": "code",
   "execution_count": 24,
   "metadata": {},
   "outputs": [
    {
     "name": "stdout",
     "output_type": "stream",
     "text": [
      "Enter a statement: Air India\n",
      "AI\n"
     ]
    }
   ],
   "source": [
    "# Acronym Creator\n",
    "# in my humble opinion -> IMHO\n",
    "\n",
    "def first(word):\n",
    "    return word[0]\n",
    "\n",
    "def acronym(words):\n",
    "    acro = ''  \n",
    "    acro = acro.join(tuple(map(first, words))).upper()\n",
    "    return acro\n",
    "\n",
    "words = input(\"Enter a statement: \").split()\n",
    "acro = acronym(words)\n",
    "print(acro)"
   ]
  },
  {
   "cell_type": "code",
   "execution_count": 25,
   "metadata": {},
   "outputs": [
    {
     "name": "stdout",
     "output_type": "stream",
     "text": [
      "hello\n",
      "h e l l o\n"
     ]
    }
   ],
   "source": [
    "# explode('hello')->'h e l l o'\n",
    "\n",
    "def explode(word):\n",
    "    if len(word) <= 1:\n",
    "        return word\n",
    "    else:\n",
    "        return word[0] + ' ' + explode(word[1:])\n",
    "\n",
    "word = \"hello\"\n",
    "print(word)\n",
    "print(explode(word))"
   ]
  },
  {
   "cell_type": "code",
   "execution_count": 26,
   "metadata": {},
   "outputs": [
    {
     "name": "stdout",
     "output_type": "stream",
     "text": [
      "Enter a string: Hello World!\n",
      "There are 3 vowels in the string.\n"
     ]
    }
   ],
   "source": [
    "def isVowel(letter):\n",
    "    if letter == \"a\" or letter == \"e\" or \\\n",
    "    letter == \"i\" or letter == \"o\" or \\\n",
    "    letter == \"u\":\n",
    "        return True\n",
    "    else:\n",
    "        return False\n",
    "\n",
    "def numVowels(string):\n",
    "    string = string.lower()\n",
    "    count = 0\n",
    "    for i in range(len(string)):\n",
    "        if isVowel(string[i]):\n",
    "            count += 1 #count = count + 1\n",
    "    return count\n",
    "\n",
    "strng = input(\"Enter a string: \")\n",
    "print(\"There are \" + str(numVowels(strng)) + \" vowels in the string.\")"
   ]
  }
 ],
 "metadata": {
  "kernelspec": {
   "display_name": "Python 3",
   "language": "python",
   "name": "python3"
  },
  "language_info": {
   "codemirror_mode": {
    "name": "ipython",
    "version": 3
   },
   "file_extension": ".py",
   "mimetype": "text/x-python",
   "name": "python",
   "nbconvert_exporter": "python",
   "pygments_lexer": "ipython3",
   "version": "3.6.3"
  }
 },
 "nbformat": 4,
 "nbformat_minor": 1
}
