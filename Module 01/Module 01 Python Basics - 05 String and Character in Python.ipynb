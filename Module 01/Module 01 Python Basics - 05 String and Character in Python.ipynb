{
 "cells": [
  {
   "cell_type": "markdown",
   "metadata": {},
   "source": [
    "# Strings\n",
    "- Strings are amongst the most popular types in Python.\n",
    "- We can create them simply by enclosing characters in quotes.\n",
    "- Python treats single quotes the same as double quotes.\n",
    "- Creating strings is as simple as assigning a value to a variable.\n",
    "\n",
    "**Note:** Python does not support a character type; these are treated as strings of length one, thus also considered a substring."
   ]
  },
  {
   "cell_type": "code",
   "execution_count": 1,
   "metadata": {},
   "outputs": [
    {
     "data": {
      "text/plain": [
       "'Python'"
      ]
     },
     "execution_count": 1,
     "metadata": {},
     "output_type": "execute_result"
    }
   ],
   "source": [
    "# Using double quotes\n",
    "name = \"Python\"\n",
    "name"
   ]
  },
  {
   "cell_type": "code",
   "execution_count": 2,
   "metadata": {},
   "outputs": [
    {
     "data": {
      "text/plain": [
       "'Python'"
      ]
     },
     "execution_count": 2,
     "metadata": {},
     "output_type": "execute_result"
    }
   ],
   "source": [
    "# Using single quotes\n",
    "name = 'Python'\n",
    "name"
   ]
  },
  {
   "cell_type": "code",
   "execution_count": 3,
   "metadata": {},
   "outputs": [
    {
     "name": "stdout",
     "output_type": "stream",
     "text": [
      "True\n"
     ]
    }
   ],
   "source": [
    "print('Python'==\"Python\")"
   ]
  },
  {
   "cell_type": "code",
   "execution_count": 4,
   "metadata": {},
   "outputs": [
    {
     "name": "stdout",
     "output_type": "stream",
     "text": [
      "Bill isn't poor\n",
      "Bill said, \"I like Windows OS\"\n"
     ]
    }
   ],
   "source": [
    "# Use of single and double quotes\n",
    "str1 = \"Bill isn't poor\"\n",
    "str2 = 'Bill said, \"I like Windows OS\"'\n",
    "print(str1)\n",
    "print(str2)"
   ]
  },
  {
   "cell_type": "code",
   "execution_count": 5,
   "metadata": {},
   "outputs": [
    {
     "name": "stdout",
     "output_type": "stream",
     "text": [
      "Mark said, \"He is the Boss!\". He wasn't wrong.\n"
     ]
    }
   ],
   "source": [
    "# Escaping quotes\n",
    "s = \"Mark said, \\\"He is the Boss!\\\". He wasn't wrong.\"\n",
    "print(s)"
   ]
  },
  {
   "cell_type": "code",
   "execution_count": 6,
   "metadata": {},
   "outputs": [
    {
     "name": "stdout",
     "output_type": "stream",
     "text": [
      "True\n",
      "True\n",
      "True\n",
      "True\n",
      "True\n"
     ]
    }
   ],
   "source": [
    "# Strings are compared from left to right\n",
    "print('a' <'b')\n",
    "print('ab' < 'abc')\n",
    "print('1' < '9')\n",
    "print('100' < '9')\n",
    "print('A' < 'a')"
   ]
  },
  {
   "cell_type": "code",
   "execution_count": 7,
   "metadata": {},
   "outputs": [
    {
     "ename": "TypeError",
     "evalue": "'str' object does not support item assignment",
     "output_type": "error",
     "traceback": [
      "\u001b[1;31m---------------------------------------------------------------------------\u001b[0m",
      "\u001b[1;31mTypeError\u001b[0m                                 Traceback (most recent call last)",
      "\u001b[1;32m<ipython-input-7-1a5c9a712cfc>\u001b[0m in \u001b[0;36m<module>\u001b[1;34m()\u001b[0m\n\u001b[0;32m      1\u001b[0m \u001b[1;31m# Immutable\u001b[0m\u001b[1;33m\u001b[0m\u001b[1;33m\u001b[0m\u001b[0m\n\u001b[1;32m----> 2\u001b[1;33m \u001b[0mname\u001b[0m\u001b[1;33m[\u001b[0m\u001b[1;36m0\u001b[0m\u001b[1;33m]\u001b[0m \u001b[1;33m=\u001b[0m \u001b[1;34m'D'\u001b[0m\u001b[1;33m\u001b[0m\u001b[0m\n\u001b[0m",
      "\u001b[1;31mTypeError\u001b[0m: 'str' object does not support item assignment"
     ]
    }
   ],
   "source": [
    "# Immutable\n",
    "name[0] = 'D'"
   ]
  },
  {
   "cell_type": "code",
   "execution_count": 8,
   "metadata": {},
   "outputs": [
    {
     "data": {
      "text/plain": [
       "'Bill Gates'"
      ]
     },
     "execution_count": 8,
     "metadata": {},
     "output_type": "execute_result"
    }
   ],
   "source": [
    "# Concatenation\n",
    "string = \"Bill \" + \"Gates\"\n",
    "string"
   ]
  },
  {
   "cell_type": "code",
   "execution_count": 9,
   "metadata": {},
   "outputs": [
    {
     "data": {
      "text/plain": [
       "'Hi! Hi! Hi! Hi! '"
      ]
     },
     "execution_count": 9,
     "metadata": {},
     "output_type": "execute_result"
    }
   ],
   "source": [
    "# Repetition\n",
    "string = \"Hi! \"\n",
    "string*4"
   ]
  },
  {
   "cell_type": "markdown",
   "metadata": {},
   "source": [
    "#### Unicode\n",
    "You can use unicode inside your string variables."
   ]
  },
  {
   "cell_type": "code",
   "execution_count": 10,
   "metadata": {},
   "outputs": [
    {
     "data": {
      "text/plain": [
       "'आप शून्य से विभाजित नहीं कर सकते'"
      ]
     },
     "execution_count": 10,
     "metadata": {},
     "output_type": "execute_result"
    }
   ],
   "source": [
    "# Support for Hindi\n",
    "hin = \"आप शून्य से विभाजित नहीं कर सकते\"\n",
    "hin"
   ]
  },
  {
   "cell_type": "markdown",
   "metadata": {},
   "source": [
    "### Triple Quotes\n",
    "Python's triple quotes comes to the rescue by allowing strings to span multiple lines, including verbatim NEWLINEs, TABs, and any other special characters.\n",
    "The syntax for triple quotes consists of three consecutive single (`''' '''`) or double quotes (`\"\"\" \"\"\"`)."
   ]
  },
  {
   "cell_type": "code",
   "execution_count": 11,
   "metadata": {},
   "outputs": [
    {
     "name": "stdout",
     "output_type": "stream",
     "text": [
      "\n",
      "This\n",
      " is\n",
      "\tan\n",
      "example\n",
      "of\n",
      "multiline\n",
      "string\n"
     ]
    }
   ],
   "source": [
    "# Multiline String\n",
    "mult_string = \"\"\"\n",
    "This\\n is\n",
    "\\tan\n",
    "example\n",
    "of\n",
    "multiline\n",
    "string\"\"\"\n",
    "print(mult_string)"
   ]
  },
  {
   "cell_type": "markdown",
   "metadata": {},
   "source": [
    "### Raw Strings\n",
    "Raw strings do not treat the backslash as a special character at all."
   ]
  },
  {
   "cell_type": "code",
   "execution_count": 12,
   "metadata": {},
   "outputs": [
    {
     "name": "stdout",
     "output_type": "stream",
     "text": [
      "C:\\Users\\home\n",
      "C:\\\\Users\\\\home\n"
     ]
    }
   ],
   "source": [
    "print('C:\\\\Users\\\\home')\n",
    "print(r'C:\\\\Users\\\\home')"
   ]
  },
  {
   "cell_type": "markdown",
   "metadata": {},
   "source": [
    "### Strings Slicing\n",
    "**Syntax:**\n",
    "```python\n",
    "my_string[index]\n",
    "\n",
    "my_string[start:end]\n",
    "my_string[start:]\n",
    "my_string[:end]\n",
    "\n",
    "my_string[start:end:step]\n",
    "my_string[start::step]\n",
    "my_string[:end:step]\n",
    "```"
   ]
  },
  {
   "cell_type": "code",
   "execution_count": 13,
   "metadata": {},
   "outputs": [
    {
     "data": {
      "text/plain": [
       "'B'"
      ]
     },
     "execution_count": 13,
     "metadata": {},
     "output_type": "execute_result"
    }
   ],
   "source": [
    "name = \"Bill Gates\"\n",
    "name[0]"
   ]
  },
  {
   "cell_type": "code",
   "execution_count": 14,
   "metadata": {},
   "outputs": [
    {
     "data": {
      "text/plain": [
       "'ll'"
      ]
     },
     "execution_count": 14,
     "metadata": {},
     "output_type": "execute_result"
    }
   ],
   "source": [
    "name[2:4]"
   ]
  },
  {
   "cell_type": "code",
   "execution_count": 15,
   "metadata": {},
   "outputs": [
    {
     "data": {
      "text/plain": [
       "'Bi'"
      ]
     },
     "execution_count": 15,
     "metadata": {},
     "output_type": "execute_result"
    }
   ],
   "source": [
    "name[:2]"
   ]
  },
  {
   "cell_type": "markdown",
   "metadata": {},
   "source": [
    "**Note:** You can also use negative indexing."
   ]
  },
  {
   "cell_type": "code",
   "execution_count": 16,
   "metadata": {},
   "outputs": [
    {
     "data": {
      "text/plain": [
       "'s'"
      ]
     },
     "execution_count": 16,
     "metadata": {},
     "output_type": "execute_result"
    }
   ],
   "source": [
    "name[-1]"
   ]
  },
  {
   "cell_type": "code",
   "execution_count": 17,
   "metadata": {},
   "outputs": [
    {
     "data": {
      "text/plain": [
       "'ate'"
      ]
     },
     "execution_count": 17,
     "metadata": {},
     "output_type": "execute_result"
    }
   ],
   "source": [
    "name[-4:-1]"
   ]
  },
  {
   "cell_type": "code",
   "execution_count": 18,
   "metadata": {},
   "outputs": [
    {
     "name": "stdout",
     "output_type": "stream",
     "text": [
      "setaG lliB\n"
     ]
    }
   ],
   "source": [
    "print(name[::-1])"
   ]
  },
  {
   "cell_type": "code",
   "execution_count": 19,
   "metadata": {},
   "outputs": [
    {
     "name": "stdout",
     "output_type": "stream",
     "text": [
      "B\n",
      "i\n",
      "l\n",
      "l\n",
      " \n",
      "G\n",
      "a\n",
      "t\n",
      "e\n",
      "s\n"
     ]
    }
   ],
   "source": [
    "for char in name:\n",
    "    print(char)"
   ]
  },
  {
   "cell_type": "markdown",
   "metadata": {},
   "source": [
    "### Escape Characters\n",
    "List of escape or non-printable characters that can be represented with backslash notation.\n",
    "- `\\a`: Bell or alert\n",
    "- `\\b`:\tBackspace\n",
    "- `\\cx`: Control-x\n",
    "- `\\C-x`: Control-x\n",
    "- `\\e`: Escape\n",
    "- `\\f`: Formfeed\n",
    "- `\\M-\\C-x`: Meta-Control-x\n",
    "- `\\n`: Newline\n",
    "- `\\nnn`: Octal notation, where n is in the range 0.7\n",
    "- `\\r`: Carriage return\n",
    "- `\\s`: Space\n",
    "- `\\t`: Tab\n",
    "- `\\v`: Vertical tab\n",
    "- `\\x`: Character x\n",
    "- `\\xnn`: Hexadecimal notation, where n is in the range 0.9, a.f, or A.F"
   ]
  },
  {
   "cell_type": "markdown",
   "metadata": {},
   "source": [
    "### String Special Operators\n",
    "Assume string variable a holds `'Hello'` and variable b holds `'Python'`, then −\n",
    "- `+`: Concatenation - Adds values on either side of the operator\ta + b will give HelloPython\n",
    "- `*`: Repetition - Creates new strings, concatenating multiple copies of the same string\ta*2 will give -HelloHello\n",
    "- `[]`:\tSlice - Gives the character from the given index\ta[1] will give e\n",
    "- `[ : ]`: Range Slice - Gives the characters from the given range\ta[1:4] will give ell\n",
    "- `in`: Membership - Returns true if a character exists in the given string\tH in a will give 1\n",
    "- `not in`: Membership - Returns true if a character does not exist in the given string\tM not in a will give 1\n",
    "- `r/R`: Raw String - Suppresses actual meaning of Escape characters. The syntax for raw strings is exactly the same as for normal strings with the exception of the raw string operator, the letter \"r,\" which precedes the quotation marks. The \"r\" can be lowercase (r) or uppercase (R) and must be placed immediately preceding the first quote mark.\tprint r'\\n' prints \\n and print R'\\n'prints \\n\n",
    "- `%`: Format - Performs String formatting"
   ]
  },
  {
   "cell_type": "markdown",
   "metadata": {},
   "source": [
    "### Built-in String Methods\n",
    "\n",
    "- `capitalize()`: Capitalizes first letter of string\n",
    "- `center(width, fillchar)`: Returns a string padded with fillchar with the original string centered to a total of width columns\n",
    "- `count(str, beg = 0,end = len(string))`: Counts how many times str occurs in string or in a substring of string if starting index beg and ending index end are given\n",
    "- `decode(encoding = 'UTF-8',errors = 'strict')`: Decodes the string using the codec registered for encoding. encoding defaults to the default string encoding\n",
    "- `encode(encoding = 'UTF-8',errors = 'strict')`: Returns encoded string version of string; on error, default is to raise a ValueError unless errors is given with 'ignore' or 'replace'\n",
    "- `endswith(suffix, beg = 0, end = len(string))`: Determines if string or a substring of string (if starting index beg and ending index end are given) ends with suffix; returns true if so and false otherwise\n",
    "- `expandtabs(tabsize = 8)`: Expands tabs in string to multiple spaces; defaults to 8 spaces per tab if tabsize not provided.\n",
    "- `find(str, beg = 0 end = len(string))`: Determine if str occurs in string or in a substring of string if starting index beg and ending index end are given returns index if found and -1 otherwise\n",
    "- `index(str, beg = 0, end = len(string))`: Same as find(), but raises an exception if str not found\n",
    "- `isalnum()`: Returns true if string has at least 1 character and all characters are alphanumeric and false otherwise\n",
    "- `isalpha()`: Returns true if string has at least 1 character and all characters are alphabetic and false otherwise\n",
    "- `isdigit()`: Returns true if string contains only digits and false otherwise\n",
    "- `islower()`: Returns true if string has at least 1 cased character and all cased characters are in lowercase and false otherwise\n",
    "- `isnumeric()`: Returns true if a unicode string contains only numeric characters and false otherwise\n",
    "- `isspace()`: Returns true if string contains only whitespace characters and false otherwise\n",
    "- `istitle()`: Returns true if string is properly \"titlecased\" and false otherwise\n",
    "- `isupper()`: Returns true if string has at least one cased character and all cased characters are in uppercase and false otherwise\n",
    "- `join(seq)`: Merges (concatenates) the string representations of elements in sequence seq into a string, with separator string\n",
    "- `len(string)`: Returns the length of the string\n",
    "- `ljust(width[, fillchar])`: Returns a space-padded string with the original string left-justified to a total of width columns\n",
    "- `lower()`: Converts all uppercase letters in string to lowercase\n",
    "- `lstrip()`: Removes all leading whitespace in string\n",
    "- `maketrans()`: Returns a translation table to be used in translate function\n",
    "- `max(str)`: Returns the max alphabetical character from the string str\n",
    "- `min(str)`: Returns the min alphabetical character from the string str\n",
    "- `replace(old, new [, max])`: Replaces all occurrences of old in string with new or at most max occurrences if max given\n",
    "- `rfind(str, beg = 0,end = len(string))`: Same as find(), but search backwards in string\n",
    "- `rindex( str, beg = 0, end = len(string))`: Same as index(), but search backwards in string\n",
    "- `rjust(width,[, fillchar])`: Returns a space-padded string with the original string right-justified to a total of width columns\n",
    "- `rstrip()`: Removes all trailing whitespace of string\n",
    "- `split(str=\"\", num=string.count(str))`: Splits string according to delimiter str (space if not provided) and returns list of substrings; split into at most num substrings if given\n",
    "- `splitlines( num=string.count('\\n'))`: Splits string at all (or num) NEWLINEs and returns a list of each line with NEWLINEs removed\n",
    "- `startswith(str, beg=0,end=len(string))`: Determines if string or a substring of string (if starting index beg and ending index end are given) starts with substring str; returns true if so and false otherwise\n",
    "- `strip([chars])`: Performs both lstrip() and rstrip() on string\n",
    "- `swapcase()`: Inverts case for all letters in string\n",
    "- `title()`: Returns \"titlecased\" version of string, that is, all words begin with uppercase and the rest are lowercase\n",
    "- `translate(table, deletechars=\"\")`: Translates string according to translation table str(256 chars), removing those in the del string\n",
    "- `upper()`: Converts lowercase letters in string to uppercase\n",
    "- `zfill (width)`: Returns original string leftpadded with zeros to a total of width characters; intended for numbers, zfill() retains any sign given (less one zero)\n",
    "- `isdecimal()`: Returns true if a unicode string contains only decimal characters and false otherwise."
   ]
  },
  {
   "cell_type": "code",
   "execution_count": 20,
   "metadata": {},
   "outputs": [
    {
     "name": "stdout",
     "output_type": "stream",
     "text": [
      "Length of s = 20\n",
      "The first occurrence of the letter a = 8\n",
      "a occurs 2 times\n",
      "The first five characters are Strin\n",
      "The next five characters are gs ar\n",
      "The thirteenth character is a\n",
      "The characters with odd index are tig r wsm!\n",
      "The last five characters are some!\n",
      "String in uppercase: STRINGS ARE AWESOME!\n",
      "String in lowercase: strings are awesome!\n",
      "String starts with 'Str'. Good!\n",
      "String ends with 'ome!'. Good!\n",
      "Split the words of the string: ['Strings', 'are', 'awesome!']\n"
     ]
    }
   ],
   "source": [
    "s = \"Strings are awesome!\"\n",
    "print(\"Length of s =\", len(s))\n",
    "\n",
    "# First occurrence of \"a\" should be at index 8\n",
    "print(\"The first occurrence of the letter a =\", s.index(\"a\"))\n",
    "\n",
    "# Number of a's should be 2\n",
    "print(\"a occurs\", s.count(\"a\"), \"times\", )\n",
    "\n",
    "# Slicing the string into bits\n",
    "print(\"The first five characters are\", s[:5]) # Start to 5\n",
    "print(\"The next five characters are\", s[5:10]) # 5 to 10\n",
    "print(\"The thirteenth character is\", s[12]) # Just number 12\n",
    "print(\"The characters with odd index are\", s[1::2]) #(0-based indexing)\n",
    "print(\"The last five characters are\", s[-5:]) # 5th-from-last to end\n",
    "\n",
    "# Convert everything to uppercase\n",
    "print(\"String in uppercase:\", s.upper())\n",
    "\n",
    "# Convert everything to lowercase\n",
    "print(\"String in lowercase:\", s.lower())\n",
    "\n",
    "# Check how a string starts\n",
    "if s.startswith(\"Str\"):\n",
    "    print(\"String starts with 'Str'. Good!\")\n",
    "\n",
    "# Check how a string ends\n",
    "if s.endswith(\"ome!\"):\n",
    "    print(\"String ends with 'ome!'. Good!\")\n",
    "\n",
    "# Split the string into three separate strings,\n",
    "# each containing only a word\n",
    "print(\"Split the words of the string:\", s.split())"
   ]
  },
  {
   "cell_type": "code",
   "execution_count": 21,
   "metadata": {},
   "outputs": [
    {
     "name": "stdout",
     "output_type": "stream",
     "text": [
      "The number of vowels is 19\n"
     ]
    }
   ],
   "source": [
    "sentence = \"now is the time for all good people to come to the aid\"\n",
    "count = 0\n",
    "\n",
    "for letter in sentence:\n",
    "    if letter == 'a' or letter == 'e' or letter == 'i' \\\n",
    "    or letter == 'u' or letter == 'o':\n",
    "        count += 1\n",
    "\n",
    "print(\"The number of vowels is \" + str(count))"
   ]
  }
 ],
 "metadata": {
  "kernelspec": {
   "display_name": "Python 3",
   "language": "python",
   "name": "python3"
  },
  "language_info": {
   "codemirror_mode": {
    "name": "ipython",
    "version": 3
   },
   "file_extension": ".py",
   "mimetype": "text/x-python",
   "name": "python",
   "nbconvert_exporter": "python",
   "pygments_lexer": "ipython3",
   "version": "3.6.3"
  }
 },
 "nbformat": 4,
 "nbformat_minor": 1
}
