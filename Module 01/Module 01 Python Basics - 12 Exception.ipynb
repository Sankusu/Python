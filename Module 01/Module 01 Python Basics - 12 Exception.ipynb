{
 "cells": [
  {
   "cell_type": "markdown",
   "metadata": {},
   "source": [
    "# Exception Handling\n",
    "### What is Exception?\n",
    "An exception is an event, which occurs during the execution of a program that disrupts the normal flow of the program's instructions. In general, when a Python script encounters a situation that it cannot cope with, it raises an exception. An exception is a Python object that represents an error. When a Python script raises an exception, it must either handle the exception immediately otherwise it terminates and quits."
   ]
  },
  {
   "cell_type": "markdown",
   "metadata": {},
   "source": [
    "### Standard Exceptions in Python 3:\n",
    "- `Exception`: Base class for all exceptions.\n",
    "- `StopIteration`: Raised when the next() method of an iterator does not point to any object.\n",
    "- `SystemExit`: Raised by the sys.exit() function.\n",
    "- `StandardError`: Base class for all built-in exceptions except StopIteration and SystemExit.\n",
    "- `ArithmeticError`: Base class for all errors that occur for numeric calculation.\n",
    "- `OverflowError`: Raised when a calculation exceeds maximum limit for a numeric type.\n",
    "- `FloatingPointError`: Raised when a floating point calculation fails.\n",
    "- `ZeroDivisonError`: Raised when division or modulo by zero takes place for all numeric types.\n",
    "- `AssertionError`: Raised in case of failure of the Assert statement.\n",
    "- `AttributeError`: Raised in case of failure of attribute reference or assignment.\n",
    "- `EOFError`: Raised when there is no input from either the raw_input() or input() function and the end of file is reached.\n",
    "- `ImportError`: Raised when an import statement fails.\n",
    "- `KeyboardInterrupt`: Raised when the user interrupts program execution, usually by pressing Ctrl+c.\n",
    "- `LookupError`: Base class for all lookup errors.\n",
    "- `IndexError`: Raised when an index is not found in a sequence.\n",
    "- `KeyError`: Raised when the specified key is not found in the dictionary.\n",
    "- `NameError`: Raised when an identifier is not found in the local or global namespace.\n",
    "- `UnboundLocalError`: Raised when trying to access a local variable in a function or method but no value has been assigned to it.\n",
    "- `EnvironmentError`: Base class for all exceptions that occur outside the Python environment.\n",
    "- `IOError`: Raised when an input/ output operation fails, such as the print statement or the open() function when trying to open a file that does not exist.\n",
    "- `OSError`: Raised for operating system-related errors.\n",
    "- `SyntaxError`: Raised when there is an error in Python syntax.\n",
    "- `IndentationError`: Raised when indentation is not specified properly.\n",
    "- `SystemError`: Raised when the interpreter finds an internal problem, but when this error is encountered the Python interpreter does not exit.\n",
    "- `SystemExit`: Raised when Python interpreter is quit by using the sys.exit() function. If not handled in the code, causes the interpreter to exit.\n",
    "- `TypeError`: Raised when an operation or function is attempted that is invalid for the specified data type.\n",
    "- `ValueError`: Raised when the built-in function for a data type has the valid type of arguments, but the arguments have invalid values specified.\n",
    "- `RuntimeError`: Raised when a generated error does not fall into any category.\n",
    "- `NotImplementedError`: Raised when an abstract method that needs to be implemented in an inherited class is not actually implemented."
   ]
  },
  {
   "cell_type": "markdown",
   "metadata": {},
   "source": [
    "### Handling an Exception\n",
    "A program can be defended against suspicious code by placing the suspicious code in a `try:` block. After the `try:` block, include an `except:` statement, followed by a block of code which handles the problem as elegantly as possible.\n",
    "\n",
    "**Syntax:**\n",
    "```python\n",
    "try:\n",
    "    # You do your operations here\n",
    "except Exception1:\n",
    "    # If there is Exception1, then execute this block.\n",
    "except Exception2:\n",
    "    # If there is Exception2, then execute this block.\n",
    "else:\n",
    "    # If there is no exception then execute this block.\n",
    "```\n",
    "Here are few important points about the above-mentioned syntax:\n",
    "- A single `try` statement can have multiple `except` statements. This is useful when the `try` block contains statements that may throw different types of exceptions.\n",
    "- You can also provide a generic `except` clause, which handles any exception.\n",
    "- After the `except` clause(s), you can include an `else` clause. The code in the `else:` block executes if the code in the `try:` block does not raise an exception.\n",
    "- The `else:` block is a good place for code that does not need the `try:` block's protection."
   ]
  },
  {
   "cell_type": "code",
   "execution_count": 1,
   "metadata": {},
   "outputs": [
    {
     "name": "stdout",
     "output_type": "stream",
     "text": [
      "Error: Can't find the variable\n"
     ]
    }
   ],
   "source": [
    "# This example tries to print the value of variable 'a'\n",
    "try:\n",
    "    print(a)\n",
    "    \n",
    "except NameError:\n",
    "    print(\"Error: Can't find the variable\")\n",
    "    \n",
    "else:\n",
    "    print(\"No errors found\")"
   ]
  },
  {
   "cell_type": "code",
   "execution_count": 2,
   "metadata": {},
   "outputs": [
    {
     "name": "stdout",
     "output_type": "stream",
     "text": [
      "Error: Invalid Index\n"
     ]
    }
   ],
   "source": [
    "# This example has two errors, in these case, execution will halted by the first error\n",
    "try:\n",
    "    b = [1, 2, 3]\n",
    "    print(b[3])\n",
    "    print(2/0)\n",
    "    \n",
    "except ArithmeticError:\n",
    "    print(\"Error: Arithmetic Error Found\")\n",
    "    \n",
    "except IndexError:\n",
    "    print(\"Error: Invalid Index\")\n",
    "    \n",
    "else:\n",
    "    print (\"No errors found\")"
   ]
  },
  {
   "cell_type": "markdown",
   "metadata": {},
   "source": [
    "### The except Clause with no Exceptions\n",
    "This kind of a `try-except` statement catches all the exceptions that occur.\n",
    "\n",
    "**Syntax:**\n",
    "```python\n",
    "try:\n",
    "    # You do your operations here\n",
    "except:\n",
    "    # If there is any exception, then execute this block.\n",
    "else:\n",
    "    # If there is no exception then execute this block.\n",
    "```\n",
    "Using this kind of `try-except` statement is not considered a good programming practice though, because it catches all exceptions but does not make the programmer identify the root cause of the problem that may occur."
   ]
  },
  {
   "cell_type": "markdown",
   "metadata": {},
   "source": [
    "### The except Clause with Multiple Exceptions\n",
    "**Syntax:**\n",
    "```python\n",
    "try:\n",
    "    # You do your operations here\n",
    "except(Exception1[, Exception2[, ...ExceptionN]]):\n",
    "    # If there is any exception, then execute this block.\n",
    "else:\n",
    "    # If there is no exception then execute this block.\n",
    "```"
   ]
  },
  {
   "cell_type": "markdown",
   "metadata": {},
   "source": [
    "### The try-finally Clause\n",
    "You can use a `finally:` block along with a `try:` block. The `finally:` block is a place to put any code that must execute, whether the try-block raised an exception or not.\n",
    "\n",
    "**Syntax:**\n",
    "```python\n",
    "try:\n",
    "    # You do your operations here\n",
    "    # Due to any exception, this may be skipped.\n",
    "finally:\n",
    "    # This would always be executed.\n",
    "```\n",
    "**Note:** You can provide except clause(s), or a finally clause, but not both. You cannot use else clause as well along with a finally clause."
   ]
  },
  {
   "cell_type": "code",
   "execution_count": 3,
   "metadata": {},
   "outputs": [
    {
     "name": "stdout",
     "output_type": "stream",
     "text": [
      "Going to close the file\n"
     ]
    }
   ],
   "source": [
    "try:\n",
    "    f = open(\"file.txt\", \"w\")\n",
    "finally:\n",
    "    print(\"Going to close the file\")\n",
    "    f.close()"
   ]
  },
  {
   "cell_type": "markdown",
   "metadata": {},
   "source": [
    "### Argument of an Exception\n",
    "An exception can have an argument, which is a value that gives additional information about the problem. The contents of the argument vary by exception. You capture an exception's argument by supplying a variable in the except clause as follows:\n",
    "\n",
    "**Syntax:**\n",
    "```python\n",
    "try:\n",
    "    # You do your operations here\n",
    "except ExceptionType as Argument:\n",
    "    # You can print value of Argument here\n",
    "```    \n",
    "If you write the code to handle a single exception, you can have a variable follow the name of the exception in the except statement. If you are trapping multiple exceptions, you can have a variable follow the tuple of the exception.\n",
    "\n",
    "This variable receives the value of the exception mostly containing the cause of the exception. The variable can receive a single value or multiple values in the form of a tuple. This tuple usually contains the error string, the error number, and an error location."
   ]
  },
  {
   "cell_type": "code",
   "execution_count": 4,
   "metadata": {},
   "outputs": [
    {
     "name": "stdout",
     "output_type": "stream",
     "text": [
      "Error: invalid literal for int() with base 10: 'xyz'\n"
     ]
    }
   ],
   "source": [
    "def temp_convert(var):\n",
    "    try:\n",
    "        return int(var)\n",
    "    except ValueError as e:\n",
    "        print (\"Error:\", e)\n",
    "\n",
    "temp_convert(\"xyz\")"
   ]
  },
  {
   "cell_type": "markdown",
   "metadata": {},
   "source": [
    "### Raising an Exception\n",
    "You can raise exceptions in several ways by using the raise statement.\n",
    "\n",
    "**Syntax:**\n",
    "```python\n",
    "raise [Exception [, args [, traceback]]]\n",
    "```\n",
    "Here, Exception is the type of exception (for example, NameError) and argument is a value for the exception argument. The argument is optional; if not supplied, the exception argument is None. The final argument, traceback, is also optional (and rarely used in practice), and if present, is the traceback object used for the exception."
   ]
  },
  {
   "cell_type": "markdown",
   "metadata": {},
   "source": [
    "```python\n",
    "# Defining new exceptions is quite easy and can be done as follows:\n",
    "def func(level):\n",
    "    if level < 1:\n",
    "        raise Exception(level)\n",
    "    # The code below to this would not be executed\n",
    "    # if we raise the exception\n",
    "    print(\"Level:\", level)\n",
    "func(0)\n",
    "---------------------------------------------------------------------------\n",
    "Exception                                 Traceback (most recent call last)\n",
    "<ipython-input-27-760c563375e4> in <module>()\n",
    "      7     # if we raise the exception\n",
    "      8     print(\"Level:\", level)\n",
    "----> 9 func(0)\n",
    "\n",
    "<ipython-input-27-760c563375e4> in func(level)\n",
    "      3 def func(level):\n",
    "      4     if level < 1:\n",
    "----> 5         raise Exception(level)\n",
    "      6     # The code below to this would not be executed\n",
    "      7     # if we raise the exception\n",
    "Exception: 0\n",
    "```"
   ]
  },
  {
   "cell_type": "markdown",
   "metadata": {},
   "source": [
    "**Note:** In order to catch an exception, an \"except\" clause must refer to the same exception thrown either as a class object or a simple string. For example, to capture the above exception, we must write the except clause as follows −\n",
    "\n",
    "**Syntax:**\n",
    "```python\n",
    "try:\n",
    "    # Business Logic here\n",
    "except Exception as e:\n",
    "    # Exception handling here using e.args\n",
    "else:\n",
    "    # Rest of the code here...\n",
    "```"
   ]
  },
  {
   "cell_type": "code",
   "execution_count": 5,
   "metadata": {},
   "outputs": [
    {
     "name": "stdout",
     "output_type": "stream",
     "text": [
      "Error in level argument: -10\n"
     ]
    }
   ],
   "source": [
    "def func(level):\n",
    "    if level < 1:\n",
    "        raise Exception(level)\n",
    "    # The code below to this would not be executed\n",
    "    # if we raise the exception\n",
    "    print(\"Level:\", level)\n",
    "\n",
    "try:\n",
    "    func(-10)\n",
    "except Exception as e:\n",
    "    print(\"Error in level argument:\", e.args[0])"
   ]
  },
  {
   "cell_type": "markdown",
   "metadata": {},
   "source": [
    "### User-Defined Exceptions\n",
    "Python also allows you to create your own exceptions by deriving classes from the standard built-in exceptions."
   ]
  },
  {
   "cell_type": "code",
   "execution_count": 6,
   "metadata": {},
   "outputs": [
    {
     "name": "stdout",
     "output_type": "stream",
     "text": [
      "Enter a number: 11\n",
      "This value is too large, try again!\n",
      "Enter a number: 9\n",
      "This value is too small, try again!\n",
      "Enter a number: 10\n",
      "Congratulations! You guessed it correctly.\n"
     ]
    }
   ],
   "source": [
    "# Define Python user-defined exceptions\n",
    "class ValueTooSmallError(Exception):\n",
    "    \"\"\"Raised when the input value is too small\"\"\"\n",
    "    pass\n",
    "\n",
    "class ValueTooLargeError(Exception):\n",
    "    \"\"\"Raised when the input value is too large\"\"\"\n",
    "    pass\n",
    "\n",
    "# User guesses a number until he/she gets it right\n",
    "number = 10\n",
    "\n",
    "while True:\n",
    "    try:\n",
    "        i_num = int(input(\"Enter a number: \"))\n",
    "        if i_num < number:\n",
    "            raise ValueTooSmallError\n",
    "        elif i_num > number:\n",
    "            raise ValueTooLargeError\n",
    "        else:\n",
    "            break\n",
    "        \n",
    "    except ValueTooSmallError:\n",
    "        print(\"This value is too small, try again!\")\n",
    "        \n",
    "    except ValueTooLargeError:\n",
    "        print(\"This value is too large, try again!\")\n",
    "        \n",
    "print(\"Congratulations! You guessed it correctly.\")"
   ]
  },
  {
   "cell_type": "markdown",
   "metadata": {},
   "source": [
    "# Assertions in Python\n",
    "An assertion is a sanity-check that you can turn on or turn off when you are done with your testing of the program. The easiest way to think of an assertion is to liken it to a raise-if statement (or to be more accurate, a raise-if-not statement). An expression is tested, and if the result comes up false, an exception is raised. Assertions are carried out by the assert statement, the newest keyword to Python. Programmers often place assertions at the start of a function to check for valid input, and after a function call to check for valid output."
   ]
  },
  {
   "cell_type": "markdown",
   "metadata": {},
   "source": [
    "### The assert statement\n",
    "When it encounters an assert statement, Python evaluates the accompanying expression, which is hopefully true. If the expression is false, Python raises an AssertionError exception.\n",
    "\n",
    "`assert Expression[, Arguments]`\n",
    "\n",
    "If the assertion fails, Python uses ArgumentExpression as the argument for the AssertionError. AssertionError exceptions can be caught and handled like any other exception, using the try-except statement. If they are not handled, they will terminate the program and produce a traceback."
   ]
  },
  {
   "cell_type": "code",
   "execution_count": 7,
   "metadata": {},
   "outputs": [
    {
     "name": "stdout",
     "output_type": "stream",
     "text": [
      "32.0\n"
     ]
    },
    {
     "ename": "AssertionError",
     "evalue": "Colder than Absolute Zero!",
     "output_type": "error",
     "traceback": [
      "\u001b[1;31m---------------------------------------------------------------------------\u001b[0m",
      "\u001b[1;31mAssertionError\u001b[0m                            Traceback (most recent call last)",
      "\u001b[1;32m<ipython-input-7-1f4705ac9618>\u001b[0m in \u001b[0;36m<module>\u001b[1;34m()\u001b[0m\n\u001b[0;32m      7\u001b[0m \u001b[1;33m\u001b[0m\u001b[0m\n\u001b[0;32m      8\u001b[0m \u001b[0mprint\u001b[0m\u001b[1;33m(\u001b[0m\u001b[0mKtoF\u001b[0m\u001b[1;33m(\u001b[0m\u001b[1;36m273\u001b[0m\u001b[1;33m)\u001b[0m\u001b[1;33m)\u001b[0m\u001b[1;33m\u001b[0m\u001b[0m\n\u001b[1;32m----> 9\u001b[1;33m \u001b[0mprint\u001b[0m\u001b[1;33m(\u001b[0m\u001b[0mKtoF\u001b[0m\u001b[1;33m(\u001b[0m\u001b[1;33m-\u001b[0m\u001b[1;36m5\u001b[0m\u001b[1;33m)\u001b[0m\u001b[1;33m)\u001b[0m\u001b[1;33m\u001b[0m\u001b[0m\n\u001b[0m",
      "\u001b[1;32m<ipython-input-7-1f4705ac9618>\u001b[0m in \u001b[0;36mKtoF\u001b[1;34m(temp)\u001b[0m\n\u001b[0;32m      3\u001b[0m \u001b[1;33m\u001b[0m\u001b[0m\n\u001b[0;32m      4\u001b[0m \u001b[1;32mdef\u001b[0m \u001b[0mKtoF\u001b[0m\u001b[1;33m(\u001b[0m\u001b[0mtemp\u001b[0m\u001b[1;33m)\u001b[0m\u001b[1;33m:\u001b[0m\u001b[1;33m\u001b[0m\u001b[0m\n\u001b[1;32m----> 5\u001b[1;33m     \u001b[1;32massert\u001b[0m \u001b[0mtemp\u001b[0m \u001b[1;33m>=\u001b[0m \u001b[1;36m0\u001b[0m\u001b[1;33m,\u001b[0m \u001b[1;34m\"Colder than Absolute Zero!\"\u001b[0m\u001b[1;33m\u001b[0m\u001b[0m\n\u001b[0m\u001b[0;32m      6\u001b[0m     \u001b[1;32mreturn\u001b[0m \u001b[1;33m(\u001b[0m\u001b[0mtemp\u001b[0m\u001b[1;33m-\u001b[0m\u001b[1;36m273\u001b[0m\u001b[1;33m)\u001b[0m\u001b[1;33m*\u001b[0m\u001b[1;36m1.8\u001b[0m \u001b[1;33m+\u001b[0m \u001b[1;36m32\u001b[0m\u001b[1;33m\u001b[0m\u001b[0m\n\u001b[0;32m      7\u001b[0m \u001b[1;33m\u001b[0m\u001b[0m\n",
      "\u001b[1;31mAssertionError\u001b[0m: Colder than Absolute Zero!"
     ]
    }
   ],
   "source": [
    "# Here is a function that converts a given temperature from degrees Kelvin to degrees Fahrenheit.\n",
    "# Since 0° K is as cold as it gets, the function bails out if it sees a negative temperature.\n",
    "\n",
    "def KtoF(temp):\n",
    "    assert temp >= 0, \"Colder than Absolute Zero!\"\n",
    "    return (temp-273)*1.8 + 32\n",
    "\n",
    "print(KtoF(273))\n",
    "print(KtoF(-5))"
   ]
  },
  {
   "cell_type": "markdown",
   "metadata": {},
   "source": [
    "## Examples"
   ]
  },
  {
   "cell_type": "code",
   "execution_count": 8,
   "metadata": {},
   "outputs": [
    {
     "name": "stdout",
     "output_type": "stream",
     "text": [
      "Enter a number: 0\n",
      "Can't find reciprocal of Zero, try again!!!\n",
      "This will execute irrespective of Exception\n",
      "Enter a number: a\n",
      "Input is not  a valid number, try again!!!\n",
      "This will execute irrespective of Exception\n",
      "Enter a number: 5\n",
      "Reciprocal of the number is:  0.2\n",
      "This will execute irrespective of Exception\n"
     ]
    }
   ],
   "source": [
    "# If the input is not an integer, it will generate an exception\n",
    "\n",
    "while True:\n",
    "    try:\n",
    "        num = int(input(\"Enter a number: \"))\n",
    "        print(\"Reciprocal of the number is: \", 1/num)\n",
    "        break\n",
    "    except ValueError:\n",
    "        print(\"Input is not  a valid number, try again!!!\")\n",
    "    except ZeroDivisionError:\n",
    "        print(\"Can't find reciprocal of Zero, try again!!!\")\n",
    "    finally:\n",
    "        print(\"This will execute irrespective of Exception\")"
   ]
  }
 ],
 "metadata": {
  "kernelspec": {
   "display_name": "Python 3",
   "language": "python",
   "name": "python3"
  },
  "language_info": {
   "codemirror_mode": {
    "name": "ipython",
    "version": 3
   },
   "file_extension": ".py",
   "mimetype": "text/x-python",
   "name": "python",
   "nbconvert_exporter": "python",
   "pygments_lexer": "ipython3",
   "version": "3.6.3"
  }
 },
 "nbformat": 4,
 "nbformat_minor": 1
}
