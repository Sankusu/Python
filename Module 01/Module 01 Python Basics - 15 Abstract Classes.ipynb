{
 "cells": [
  {
   "cell_type": "markdown",
   "metadata": {},
   "source": [
    "# Abstract Classes\n",
    "- Abstract classes are classes that contain one or more abstract methods.\n",
    "- An abstract method is a method that is declared, but contains no implementation.\n",
    "- Abstract classes may not be instantiated, and require subclasses to provide implementations for the abstract methods.\n",
    "- Abstract classes force a class to implement methods.\n",
    "- Objects cannot be created from an abstract class.\n",
    "- When a new subclass is added, a developer does not need to look for methods to implement.\n",
    "- He/she can simply look at the abstract class.\n",
    "- If one of the subclasses misses an implementation, Python automatically throws an error.\n",
    "\n",
    "**Note:** A class that is derived from an abstract class cannot be instantiated unless all of its abstract methods are overridden."
   ]
  },
  {
   "cell_type": "markdown",
   "metadata": {},
   "source": [
    "## The `ABC` class\n",
    "\n",
    "Python on its own doesn't provide abstract classes. Yet, Python comes with a module which provides the infrastructure for defining Abstract Base Classes (`ABC`).\n",
    "\n",
    "Abstract base classes are a form of interface checking more strict than individual `hasattr()` checks for particular methods. By defining an abstract base class, you can define a common API for a set of subclasses. This capability is especially useful in situations where a third-party is going to provide implementations, such as with plugins to an application, but can also aid you when working on a large team or with a large code-base where keeping all classes in your head at the same time is difficult or not possible."
   ]
  },
  {
   "cell_type": "markdown",
   "metadata": {},
   "source": [
    "## The `abc` module\n",
    "The `abc` module allows to enforce that a derived class implements a particular method using a special `@abstractmethod` decorator on that method.\n",
    "\n",
    "`abc` works by marking methods of the base class as abstract, and then registering concrete classes as implementations of the abstract base. If your code requires a particular API, you can use `issubclass()` or `isinstance()` to check an object against the abstract class."
   ]
  },
  {
   "cell_type": "markdown",
   "metadata": {},
   "source": [
    "**Syntax:**\n",
    "```python\n",
    "from abc import ABC, abstractmethod\n",
    "\n",
    "class ClassName(ABC):\n",
    "    \n",
    "    @abstractmethod\n",
    "    def method(self):\n",
    "        pass\n",
    "```"
   ]
  },
  {
   "cell_type": "code",
   "execution_count": 1,
   "metadata": {},
   "outputs": [],
   "source": [
    "from abc import ABC, abstractmethod\n",
    "\n",
    "class Base(ABC):\n",
    "    \n",
    "    @abstractmethod\n",
    "    def setter(self, data):\n",
    "        \"\"\"set the data\"\"\"\n",
    "    \n",
    "    @abstractmethod\n",
    "    def getter(self):\n",
    "        \"\"\"get the data\"\"\""
   ]
  },
  {
   "cell_type": "markdown",
   "metadata": {},
   "source": [
    "```python\n",
    "# Trying to create an object of the Base class\n",
    "b = Base()\n",
    "---------------------------------------------------------------------------\n",
    "TypeError                                 Traceback (most recent call last)\n",
    "<ipython-input-4-98a71f751f94> in <module>()\n",
    "----> 1 b = Base()\n",
    "\n",
    "TypeError: Can't instantiate abstract class Base with abstract methods getter, setter\n",
    "```"
   ]
  },
  {
   "cell_type": "code",
   "execution_count": 2,
   "metadata": {},
   "outputs": [],
   "source": [
    "# IncompleteChild has not overridden the getter() method\n",
    "\n",
    "class IncompleteChild(Base):\n",
    "    \n",
    "    def setter(self, data):\n",
    "        self.data = data\n",
    "        print(\"set the value:\", self.data)"
   ]
  },
  {
   "cell_type": "markdown",
   "metadata": {},
   "source": [
    "```python\n",
    "# Trying to create an object of the IncompleteChild class\n",
    "i = IncompleteChild()\n",
    "---------------------------------------------------------------------------\n",
    "TypeError                                 Traceback (most recent call last)\n",
    "<ipython-input-8-053234342fba> in <module>()\n",
    "----> 1 i = IncompleteChild()\n",
    "\n",
    "TypeError: Can't instantiate abstract class IncompleteChild with abstract methods getter\n",
    "```"
   ]
  },
  {
   "cell_type": "code",
   "execution_count": 3,
   "metadata": {},
   "outputs": [],
   "source": [
    "class Child(Base):\n",
    "    \n",
    "    def setter(self, data):\n",
    "        self.data = data\n",
    "        print(\"set the value:\", self.data)\n",
    "    \n",
    "    def getter(self):\n",
    "        print(\"get the value:\", self.data)"
   ]
  },
  {
   "cell_type": "code",
   "execution_count": 4,
   "metadata": {},
   "outputs": [
    {
     "name": "stdout",
     "output_type": "stream",
     "text": [
      "set the value: 100\n",
      "get the value: 100\n"
     ]
    }
   ],
   "source": [
    "c = Child()\n",
    "c.setter(100)\n",
    "c.getter()"
   ]
  },
  {
   "cell_type": "markdown",
   "metadata": {},
   "source": [
    "## The `super()` function\n",
    "An **abstract method can have an implementation** in the abstract class! Even if they are implemented, designers of subclasses will be forced to override the implementation. Like in other cases of \"normal\" inheritance, the abstract method can be invoked with `super()` call mechanism. This makes it possible to provide some basic functionality in the abstract method, which can be enriched by the subclass implementation."
   ]
  },
  {
   "cell_type": "code",
   "execution_count": 5,
   "metadata": {},
   "outputs": [],
   "source": [
    "from abc import ABC, abstractmethod\n",
    "\n",
    "class BaseClass(ABC):\n",
    "    \n",
    "    @abstractmethod\n",
    "    def method(self):\n",
    "        print(\"Some implementation in abstract method!\")"
   ]
  },
  {
   "cell_type": "code",
   "execution_count": 6,
   "metadata": {},
   "outputs": [],
   "source": [
    "class ChildClass(BaseClass):\n",
    "    \n",
    "    def method(self):\n",
    "        super().method()\n",
    "        print(\"The enrichment from ChildClass method!\")"
   ]
  },
  {
   "cell_type": "code",
   "execution_count": 7,
   "metadata": {},
   "outputs": [
    {
     "name": "stdout",
     "output_type": "stream",
     "text": [
      "Some implementation in abstract method!\n",
      "The enrichment from ChildClass method!\n"
     ]
    }
   ],
   "source": [
    "c = ChildClass()\n",
    "c.method()"
   ]
  }
 ],
 "metadata": {
  "kernelspec": {
   "display_name": "Python 3",
   "language": "python",
   "name": "python3"
  },
  "language_info": {
   "codemirror_mode": {
    "name": "ipython",
    "version": 3
   },
   "file_extension": ".py",
   "mimetype": "text/x-python",
   "name": "python",
   "nbconvert_exporter": "python",
   "pygments_lexer": "ipython3",
   "version": "3.6.3"
  }
 },
 "nbformat": 4,
 "nbformat_minor": 1
}
