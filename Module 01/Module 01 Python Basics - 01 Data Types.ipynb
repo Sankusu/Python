{
 "cells": [
  {
   "cell_type": "markdown",
   "metadata": {
    "collapsed": true
   },
   "source": [
    "# Tutorial Brief\n",
    "This tutorial is an introduction to Python 3. This should give you the set of `python` skills that you will need to proceed with this semester.\n",
    "\n",
    "If you don't have the Jupyter installed, shame on you. No just kidding, try the **Jupyter Notebook Tutorial**"
   ]
  },
  {
   "cell_type": "markdown",
   "metadata": {},
   "source": [
    "## Variables\n",
    "\n",
    "There are many variable types in Python 3. Here is a list of the most common types:\n",
    "\n",
    "### Numerical Types:\n",
    "- bool (Boolean)\n",
    "- int (Integer/Long)\n",
    "- float\n",
    "- complex\n",
    "\n",
    "**Note:** In Python 3 integer represents integer and long. Because there is no more long data type, you will not get `L` at the end of long integers.\n",
    "\n",
    "Number data types store numeric values. They are immutable data types. This means, changing the value of a number data type results in a newly allocated object.\n",
    "\n",
    "### Other Standard Data Types:\n",
    "The data stored in memory can be of many types. For example, a person's age is stored as a numeric value and his or her address is stored as alphanumeric characters. Python has various standard data types that are used to define the operations possible on them and the storage method for each of them.\n",
    "\n",
    "Python has five standard data types −\n",
    "\n",
    "- Numbers\n",
    "- String\n",
    "- List\n",
    "- Tuple\n",
    "- Dictionary"
   ]
  },
  {
   "cell_type": "markdown",
   "metadata": {},
   "source": [
    "## Mutable and Immutable Objects\n",
    "Not all python objects handle changes the same way. Some objects are mutable, meaning they can be altered.  Others are immutable; they cannot be changed but rather return new objects when attempting to update. A mutable object can change its state or contents and immutable objects cannot.\n",
    "\n",
    "### Mutable objects:\n",
    "- list\n",
    "- dict\n",
    "- set\n",
    "- bytearray\n",
    "- user-defined classes (unless specifically made immutable)\n",
    "\n",
    "### Immutable objects:\n",
    "- int\n",
    "- float\n",
    "- complex\n",
    "- bool\n",
    "- string\n",
    "- tuple\n",
    "- range\n",
    "- frozenset (immutable version of set)\n",
    "- bytes"
   ]
  },
  {
   "cell_type": "markdown",
   "metadata": {},
   "source": [
    "#### int (signed integers)\n",
    "They are often called just integers or ints. They are positive or negative whole numbers with no decimal point. Integers in Python 3 are of unlimited size. Python 2 has two integer types - int and long. There is no 'long integer' in Python 3 anymore.\n",
    "\n",
    "#### float (floating point real values)\n",
    "Also called floats, they represent real numbers and are written with a decimal point dividing the integer and the fractional parts. Floats may also be in scientific notation, with E or e indicating the power of 10 (2.5e2 = 2.5 x 102 = 250).\n",
    "\n",
    "#### complex (complex numbers)\n",
    "Are of the form a + bJ, where a and b are floats and J (or j) represents the square root of -1 (which is an imaginary number). The real part of the number is a, and the imaginary part is b. Complex numbers are not used much in Python programming.\n",
    "A complex number consists of an ordered pair of real floating-point numbers denoted by a + bj, where a is the real part and b is the imaginary part of the complex number."
   ]
  },
  {
   "cell_type": "markdown",
   "metadata": {},
   "source": [
    "It is possible to represent an integer in hexa-decimal or octal form\n",
    "\n",
    "`number = 0xA0F #Hexa-decimal`\n",
    "\n",
    "`number`\n",
    "\n",
    "2575\n",
    "\n",
    "`number = 0o37 #Octal`\n",
    "\n",
    "`number`\n",
    "\n",
    "31\n",
    "\n",
    "\n",
    "|int|\tfloat|\tcomplex|\n",
    "|---|---|---|\n",
    "|10|\t0.0\t|3.14j|\n",
    "|100|\t15.20\t|45.j|\n",
    "|-786\t|-21.9\t|9.322e-36j|\n",
    "|080\t|32.3+e18\t|.876j|\n",
    "|-0490\t|-90.\t|-.6545+0J|\n",
    "|-0×260\t|-32.54e100|\t3e+26J|\n",
    "|0×69\t|70.2-E12\t|4.53e-7j|"
   ]
  },
  {
   "cell_type": "markdown",
   "metadata": {},
   "source": [
    "## Data type conversion\n",
    "There are several built-in functions to perform conversion from one data type to another. These functions return a new object representing the converted value.\n",
    "- `abs()`: Returns absolute value of a number\n",
    "- `ascii()`: Returns String Containing Printable Representation\n",
    "- `bin()`: Converts integer to binary string\n",
    "- `bool()`: Coverts a Value to Boolean\n",
    "- `bytes()`: Returns immutable bytes object\n",
    "- `chr()`: Returns a Character (a string) from an Integer\n",
    "- `complex(real [,imag])`: Creates a complex number\n",
    "- `dict(d)`: Creates a dictionary. d must be a sequence of (key,value) tuples\n",
    "- `float(x)`: Converts x to a floating-point number\n",
    "- `hash()`: Returns hash value of an object\n",
    "- `hex()`: Converts to Integer to Hexadecimal\n",
    "- `int(x [,base])`: Converts x to an integer. The base specifies the base if x is a string\n",
    "- `list(s)`: Converts s to a list\n",
    "- `oct()`: Converts integer to octal\n",
    "- `repr(x)`: Converts object x to an expression string\n",
    "- `round()`: Rounds a floating point number to ndigits places.\n",
    "- `set(s)`: Converts s to a set\n",
    "- `str(x)`: Converts object x to a string representation\n",
    "- `tuple(s)`: Converts s to a tuple"
   ]
  },
  {
   "cell_type": "markdown",
   "metadata": {},
   "source": [
    "## Python Built-in Functions\n",
    "- `all()`: Returns true when all elements in iterable is true\n",
    "- `any()`: Checks if any Element of an Iterable is True\n",
    "- `bytearray()`: Returns array of given byte size\n",
    "- `callable()`: Checks if the Object is Callable\n",
    "- `classmethod()`: Returns class method for given function\n",
    "- `compile()`: Returns a Python code object\n",
    "- `delattr()`: Deletes Attribute From the Object\n",
    "- `dir()`: Tries to Return Attributes of Object\n",
    "- `divmod()`: Returns a Tuple of Quotient and Remainder\n",
    "- `enumerate()`: Returns an Enumerate Object\n",
    "- `eval()`: Runs Python Code Within Program\n",
    "- `exec()`: Executes Dynamically Created Program\n",
    "- `filter()`: Constructs iterator from elements which are true\n",
    "- `format()`: Returns formatted representation of a value\n",
    "- `frozenset()`: Returns immutable frozenset object\n",
    "- `getattr()`: Returns value of named attribute of an object\n",
    "- `globals()`: Returns dictionary of current global symbol table\n",
    "- `hasattr()`: Returns whether object has named attribute\n",
    "- `help()`: Invokes the built-in Help System\n",
    "- `id()`: Returns Identify of an Object\n",
    "- `input()`: Reads and returns a line of string\n",
    "- `isinstance()`: Checks if a Object is an Instance of Class\n",
    "- `issubclass()`: Checks if a Object is Subclass of a Class\n",
    "- `iter()`: Returns iterator for an object\n",
    "- `len()`: Returns Length of an Object\n",
    "- `locals()`: Returns dictionary of current local symbol table\n",
    "- `map()`: Applies Function and Returns a List\n",
    "- `max()`: Returns largest element\n",
    "- `memoryview()`: Returns memory view of an argument\n",
    "- `min()`: Returns smallest element\n",
    "- `next()`: Retrieves Next Element from Iterator\n",
    "- `object()`: Creates a Featureless Object\n",
    "- `open()`: Returns a File object\n",
    "- `ord()`: Returns Unicode code point for Unicode character\n",
    "- `pow()`: Returns x to the power of y\n",
    "- `print()`: Prints the Given Object\n",
    "- `property()`: Returns a property attribute\n",
    "- `range()`: Return sequence of integers between start and stop\n",
    "- `reversed()`: Returns reversed iterator of a sequence\n",
    "- `setattr()`: Sets value of an attribute of object\n",
    "- `slice()`: Creates a slice object specified by range()\n",
    "- `sorted()`: Returns sorted list from a given iterable\n",
    "- `staticmethod()`: Creates static method from a function\n",
    "- `sum()`: Add items of an Iterable\n",
    "- `super()`: Allow you to Refer Parent Class by super\n",
    "- `type()`: Returns Type of an Object\n",
    "- `vars()`: Returns __dict__ attribute of a class\n",
    "- `zip()`: Returns an Iterator of Tuples\n",
    "- `__import__()`: Advanced Function Called by import"
   ]
  },
  {
   "cell_type": "markdown",
   "metadata": {},
   "source": [
    "## Math Module in Python\n",
    "The math module is a standard module in Python and is always available. To use mathematical functions under this module, you have to import the module using import math.\n",
    "\n",
    "`import math`\n",
    "\n",
    "- `math.ceil(x)`: Returns the smallest integer greater than or equal to x.\n",
    "- `math.copysign(x, y)`: Returns x with the sign of y\n",
    "- `math.fabs(x)`: Returns the absolute value of x\n",
    "- `math.factorial(x)`: Returns the factorial of x\n",
    "- `math.floor(x)`: Returns the largest integer less than or equal to x\n",
    "- `math.fmod(x, y)`: Returns the remainder when x is divided by y\n",
    "- `math.frexp(x)`: Returns the mantissa and exponent of x as the pair (m, e)\n",
    "- `math.fsum(iterable)`: Returns an accurate floating point sum of values in the iterable\n",
    "- `math.isfinite(x)`: Returns True if x is neither an infinity nor a NaN (Not a Number)\n",
    "- `math.isinf(x)`: Returns True if x is a positive or negative infinity\n",
    "- `math.isnan(x)`: Returns True if x is a NaN\n",
    "- `math.ldexp(x, i)`: Returns x * (2**i)\n",
    "- `math.modf(x)`: Returns the fractional and integer parts of x\n",
    "- `math.trunc(x)`: Returns the truncated integer value of x\n",
    "- `math.exp(x)`: Returns e**x\n",
    "- `math.expm1(x)`: Returns e**x - 1\n",
    "- `math.log(x[, base])`: Returns the logarithm of x to the base (defaults to e)\n",
    "- `math.log1p(x)`: Returns the natural logarithm of 1+x\n",
    "- `math.log2(x)`: Returns the base-2 logarithm of x\n",
    "- `math.log10(x)`: Returns the base-10 logarithm of x\n",
    "- `math.pow(x, y)`: Returns x raised to the power y\n",
    "- `math.sqrt(x)`: Returns the square root of x\n",
    "- `math.acos(x)`: Returns the arc cosine of x\n",
    "- `math.asin(x)`: Returns the arc sine of x\n",
    "- `math.atan(x)`: Returns the arc tangent of x\n",
    "- `math.atan2(y, x)`: Returns atan(y / x)\n",
    "- `math.cos(x)`: Returns the cosine of x\n",
    "- `math.hypot(x, y)`: Returns the Euclidean norm, sqrt(x*x + y*y)\n",
    "- `math.sin(x)`: Returns the sine of x\n",
    "- `math.tan(x)`: Returns the tangent of x\n",
    "- `math.degrees(x)`: Converts angle x from radians to degrees\n",
    "- `math.radians(x)`: Converts angle x from degrees to radians\n",
    "- `math.acosh(x)`: Returns the inverse hyperbolic cosine of x\n",
    "- `math.asinh(x)`: Returns the inverse hyperbolic sine of x\n",
    "- `math.atanh(x)`: Returns the inverse hyperbolic tangent of x\n",
    "- `math.cosh(x)`: Returns the hyperbolic cosine of x\n",
    "- `math.sinh(x)`: Returns the hyperbolic cosine of x\n",
    "- `math.tanh(x)`: Returns the hyperbolic tangent of x\n",
    "\n",
    "#### Mathematical Constants\n",
    "- `math.pi`: Mathematical constant, the ratio of circumference of a circle to it's diameter (3.14159...)\n",
    "- `math.e`:\tmathematical constant e (2.71828...)"
   ]
  },
  {
   "cell_type": "markdown",
   "metadata": {},
   "source": [
    "## Python Random Module\n",
    "Python offers random module that can generate random numbers. These are pseudo-random number as the sequence of number generated depends on the seed. If the seeding value is same, the sequence will be the same.\n",
    "\n",
    "`import random`\n",
    "\n",
    "- `random.seed(a=None, version=2)`: Initialize the random number generator\n",
    "- `random.getstate()`: Returns an object capturing the current internal state of the generator\n",
    "- `random.setstate(state)`: Restores the internal state of the generator\n",
    "- `random.getrandbits(k)`: Returns a Python integer with k random bits\n",
    "- `random.randrange(start, stop[, step])`: Returns a random integer from the range\n",
    "- `random.randint(a, b)`: Returns a random integer between a and b inclusive\n",
    "- `random.choice(seq)`: Return a random element from the non-empty sequence\n",
    "- `random.shuffle(seq)`: Shuffle the sequence\n",
    "- `random.sample(population, k)`: Return a k length list of unique elements chosen from the population sequence\n",
    "- `random.random()`: Return the next random floating point number in the range \\[0.0, 1.0)\n",
    "- `random.uniform(a, b)`: Return a random floating point number between a and b inclusive"
   ]
  },
  {
   "cell_type": "markdown",
   "metadata": {},
   "source": [
    "## Assigning Values to Variables\n",
    "Python variables do not need explicit declaration to reserve memory space. The declaration happens automatically when you assign a value to a variable. The equal sign (=) is used to assign values to variables."
   ]
  },
  {
   "cell_type": "code",
   "execution_count": 1,
   "metadata": {},
   "outputs": [],
   "source": [
    "# Examples\n",
    "\"\"\"This example\n",
    "describes standard\n",
    "data types in python\"\"\"\n",
    "a = 4\n",
    "b = 1.5\n",
    "c = 1212121212121212121212121212121212121212121212121212121212121212121212121212121212156566666666666666666666666666666666666666662121212121212121212121212\n",
    "d = 1-1j\n",
    "e = 1/3\n",
    "f = True"
   ]
  },
  {
   "cell_type": "code",
   "execution_count": 2,
   "metadata": {},
   "outputs": [
    {
     "data": {
      "text/plain": [
       "int"
      ]
     },
     "execution_count": 2,
     "metadata": {},
     "output_type": "execute_result"
    }
   ],
   "source": [
    "type(a)"
   ]
  },
  {
   "cell_type": "code",
   "execution_count": 3,
   "metadata": {},
   "outputs": [
    {
     "data": {
      "text/plain": [
       "4"
      ]
     },
     "execution_count": 3,
     "metadata": {},
     "output_type": "execute_result"
    }
   ],
   "source": [
    "a"
   ]
  },
  {
   "cell_type": "code",
   "execution_count": 4,
   "metadata": {},
   "outputs": [
    {
     "data": {
      "text/plain": [
       "float"
      ]
     },
     "execution_count": 4,
     "metadata": {},
     "output_type": "execute_result"
    }
   ],
   "source": [
    "type(b)"
   ]
  },
  {
   "cell_type": "code",
   "execution_count": 5,
   "metadata": {},
   "outputs": [
    {
     "data": {
      "text/plain": [
       "1.5"
      ]
     },
     "execution_count": 5,
     "metadata": {},
     "output_type": "execute_result"
    }
   ],
   "source": [
    "b"
   ]
  },
  {
   "cell_type": "code",
   "execution_count": 6,
   "metadata": {},
   "outputs": [
    {
     "data": {
      "text/plain": [
       "int"
      ]
     },
     "execution_count": 6,
     "metadata": {},
     "output_type": "execute_result"
    }
   ],
   "source": [
    "type(c)"
   ]
  },
  {
   "cell_type": "code",
   "execution_count": 7,
   "metadata": {},
   "outputs": [
    {
     "data": {
      "text/plain": [
       "121212121212121212121212121212121212121212121212121212121212121212121212121212121212121212121212121212121212"
      ]
     },
     "execution_count": 7,
     "metadata": {},
     "output_type": "execute_result"
    }
   ],
   "source": [
    "c"
   ]
  },
  {
   "cell_type": "code",
   "execution_count": 8,
   "metadata": {},
   "outputs": [
    {
     "data": {
      "text/plain": [
       "complex"
      ]
     },
     "execution_count": 8,
     "metadata": {},
     "output_type": "execute_result"
    }
   ],
   "source": [
    "type(d)"
   ]
  },
  {
   "cell_type": "code",
   "execution_count": 9,
   "metadata": {},
   "outputs": [
    {
     "data": {
      "text/plain": [
       "(1-1j)"
      ]
     },
     "execution_count": 9,
     "metadata": {},
     "output_type": "execute_result"
    }
   ],
   "source": [
    "d"
   ]
  },
  {
   "cell_type": "code",
   "execution_count": 10,
   "metadata": {},
   "outputs": [
    {
     "data": {
      "text/plain": [
       "float"
      ]
     },
     "execution_count": 10,
     "metadata": {},
     "output_type": "execute_result"
    }
   ],
   "source": [
    "type(e)"
   ]
  },
  {
   "cell_type": "code",
   "execution_count": 11,
   "metadata": {},
   "outputs": [
    {
     "data": {
      "text/plain": [
       "0.3333333333333333"
      ]
     },
     "execution_count": 11,
     "metadata": {},
     "output_type": "execute_result"
    }
   ],
   "source": [
    "e"
   ]
  },
  {
   "cell_type": "code",
   "execution_count": 12,
   "metadata": {},
   "outputs": [
    {
     "data": {
      "text/plain": [
       "bool"
      ]
     },
     "execution_count": 12,
     "metadata": {},
     "output_type": "execute_result"
    }
   ],
   "source": [
    "type(f)"
   ]
  },
  {
   "cell_type": "code",
   "execution_count": 13,
   "metadata": {},
   "outputs": [
    {
     "data": {
      "text/plain": [
       "True"
      ]
     },
     "execution_count": 13,
     "metadata": {},
     "output_type": "execute_result"
    }
   ],
   "source": [
    "f"
   ]
  },
  {
   "cell_type": "markdown",
   "metadata": {},
   "source": [
    "## Multiple Assignment:"
   ]
  },
  {
   "cell_type": "code",
   "execution_count": 14,
   "metadata": {},
   "outputs": [
    {
     "data": {
      "text/plain": [
       "1"
      ]
     },
     "execution_count": 14,
     "metadata": {},
     "output_type": "execute_result"
    }
   ],
   "source": [
    "a = b = c = 1\n",
    "a"
   ]
  },
  {
   "cell_type": "code",
   "execution_count": 15,
   "metadata": {},
   "outputs": [],
   "source": [
    "a, b, c, d = 5, 2.5, True, 1+2j"
   ]
  },
  {
   "cell_type": "code",
   "execution_count": 16,
   "metadata": {},
   "outputs": [
    {
     "data": {
      "text/plain": [
       "5"
      ]
     },
     "execution_count": 16,
     "metadata": {},
     "output_type": "execute_result"
    }
   ],
   "source": [
    "a"
   ]
  },
  {
   "cell_type": "code",
   "execution_count": 17,
   "metadata": {},
   "outputs": [
    {
     "data": {
      "text/plain": [
       "(1+2j)"
      ]
     },
     "execution_count": 17,
     "metadata": {},
     "output_type": "execute_result"
    }
   ],
   "source": [
    "d"
   ]
  },
  {
   "cell_type": "code",
   "execution_count": 18,
   "metadata": {},
   "outputs": [
    {
     "ename": "NameError",
     "evalue": "name 'var' is not defined",
     "output_type": "error",
     "traceback": [
      "\u001b[1;31m---------------------------------------------------------------------------\u001b[0m",
      "\u001b[1;31mNameError\u001b[0m                                 Traceback (most recent call last)",
      "\u001b[1;32m<ipython-input-18-fdcc3058f9fc>\u001b[0m in \u001b[0;36m<module>\u001b[1;34m()\u001b[0m\n\u001b[0;32m      9\u001b[0m \u001b[1;32mdel\u001b[0m \u001b[0mvar\u001b[0m\u001b[1;33m\u001b[0m\u001b[0m\n\u001b[0;32m     10\u001b[0m \u001b[1;32mdel\u001b[0m \u001b[0mvar_a\u001b[0m\u001b[1;33m,\u001b[0m \u001b[0mvar_b\u001b[0m\u001b[1;33m\u001b[0m\u001b[0m\n\u001b[1;32m---> 11\u001b[1;33m \u001b[0mvar\u001b[0m\u001b[1;33m\u001b[0m\u001b[0m\n\u001b[0m",
      "\u001b[1;31mNameError\u001b[0m: name 'var' is not defined"
     ]
    }
   ],
   "source": [
    "#You can also delete the reference to a number object by using the del statement. The syntax of the del statement is −\n",
    "\n",
    "var = 1\n",
    "var_a = 2.5\n",
    "var_b = True\n",
    "# del var1[,var2[,var3[....,varN]]]\n",
    "# You can delete a single object or multiple objects by using the del statement.\n",
    "\n",
    "del var\n",
    "del var_a, var_b\n",
    "var"
   ]
  },
  {
   "cell_type": "code",
   "execution_count": 19,
   "metadata": {},
   "outputs": [
    {
     "ename": "TypeError",
     "evalue": "unsupported operand type(s) for +: 'int' and 'str'",
     "output_type": "error",
     "traceback": [
      "\u001b[1;31m---------------------------------------------------------------------------\u001b[0m",
      "\u001b[1;31mTypeError\u001b[0m                                 Traceback (most recent call last)",
      "\u001b[1;32m<ipython-input-19-36e8b4c48229>\u001b[0m in \u001b[0;36m<module>\u001b[1;34m()\u001b[0m\n\u001b[0;32m      1\u001b[0m \u001b[1;31m# ERROR: variables of different types cannot be combined\u001b[0m\u001b[1;33m\u001b[0m\u001b[1;33m\u001b[0m\u001b[0m\n\u001b[0;32m      2\u001b[0m \u001b[1;33m\u001b[0m\u001b[0m\n\u001b[1;32m----> 3\u001b[1;33m \u001b[0mt\u001b[0m \u001b[1;33m=\u001b[0m \u001b[1;36m5\u001b[0m \u001b[1;33m+\u001b[0m \u001b[1;34m\"string\"\u001b[0m\u001b[1;33m\u001b[0m\u001b[0m\n\u001b[0m",
      "\u001b[1;31mTypeError\u001b[0m: unsupported operand type(s) for +: 'int' and 'str'"
     ]
    }
   ],
   "source": [
    "# ERROR: variables of different types cannot be combined\n",
    "\n",
    "t = 5 + \"string\""
   ]
  }
 ],
 "metadata": {
  "kernelspec": {
   "display_name": "Python 3",
   "language": "python",
   "name": "python3"
  },
  "language_info": {
   "codemirror_mode": {
    "name": "ipython",
    "version": 3
   },
   "file_extension": ".py",
   "mimetype": "text/x-python",
   "name": "python",
   "nbconvert_exporter": "python",
   "pygments_lexer": "ipython3",
   "version": "3.6.3"
  }
 },
 "nbformat": 4,
 "nbformat_minor": 1
}
