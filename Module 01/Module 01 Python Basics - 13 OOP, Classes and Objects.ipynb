{
 "cells": [
  {
   "cell_type": "markdown",
   "metadata": {},
   "source": [
    "# Introduction to OOP\n",
    "Python has been an object-oriented language since the time it existed. Due to this, creating and using classes and objects are downright easy."
   ]
  },
  {
   "cell_type": "markdown",
   "metadata": {},
   "source": [
    "## Overview of OOP Terminology\n",
    "### Class\n",
    "A user-defined prototype for an object that defines a set of attributes that characterize any object of the class. The attributes are data members (class variables and instance variables) and methods, accessed via dot notation.\n",
    "\n",
    "### Class Variable\n",
    "A variable that is shared by all instances of a class. Class variables are defined within a class but outside any of the class's methods. Class variables are not used as frequently as instance variables are.\n",
    "\n",
    "### Data Member\n",
    "A class variable or instance variable that holds data associated with a class and its objects.\n",
    "\n",
    "### Function Overloading\n",
    "The assignment of more than one behavior to a particular function. The operation performed varies by the types of objects or arguments involved.\n",
    "\n",
    "### Instance Variable\n",
    "A variable that is defined inside a method and belongs only to the current instance of a class.\n",
    "\n",
    "### Inheritance\n",
    "The transfer of the characteristics of a class to other classes that are derived from it.\n",
    "\n",
    "### Instance\n",
    "An individual object of a certain class. An object obj that belongs to a class Circle, for example, is an instance of the class Circle.\n",
    "\n",
    "### Instantiation\n",
    "The creation of an instance of a class.\n",
    "\n",
    "### Method\n",
    "A special kind of function that is defined in a class definition.\n",
    "\n",
    "### Object\n",
    "A unique instance of a data structure that is defined by its class. An object comprises both data members (class variables and instance variables) and methods.\n",
    "\n",
    "### Operator Overloading\n",
    "The assignment of more than one function to a particular operator."
   ]
  },
  {
   "cell_type": "markdown",
   "metadata": {},
   "source": [
    "# Classes\n",
    "The class statement creates a new class definition. The name of the class immediately follows the keyword class followed by a colon.\n",
    "\n",
    "```python\n",
    "class ClassName:\n",
    "    \"\"\"Optional class documentation string\"\"\"\n",
    "    # class_suite \n",
    "```\n",
    "- The class has a documentation string, which can be accessed via `ClassName.__doc__`\n",
    "- The class_suite consists of all the component statements defining class members, data attributes and functions.\n",
    "\n",
    "**Note:** Class names should start with a capital letter"
   ]
  },
  {
   "cell_type": "code",
   "execution_count": 1,
   "metadata": {},
   "outputs": [],
   "source": [
    "# Following is an example of a simple Python class\n",
    "\n",
    "class Employee:\n",
    "    \"\"\"Docstring from Employee class\"\"\"\n",
    "    \n",
    "    # Class Variable\n",
    "    empCount = 0\n",
    "\n",
    "    # self: use something from its own class\n",
    "    \n",
    "    # initialization method is called once the object is created (Constructor)\n",
    "    def __init__(self, name, salary):\n",
    "        print(\"Object Created\")\n",
    "        \n",
    "        # Instance Variable\n",
    "        self.name = name\n",
    "        self.salary = salary\n",
    "        Employee.empCount += 1\n",
    "    \n",
    "    def displayCount(self):\n",
    "        print(\"Total Employee:\", Employee.empCount)\n",
    "    \n",
    "    def displayEmployee(self):\n",
    "        print(\"Name:\", self.name, \", Salary:\", self.salary)"
   ]
  },
  {
   "cell_type": "markdown",
   "metadata": {},
   "source": [
    "- The variable `empCount` is a class variable whose value is shared among all the instances of a in this class. This can be accessed as `Employee.empCount` from inside the class or outside the class.\n",
    "\n",
    "- The first method `__init__()` is a special method, which is called class constructor or initialization method that Python calls when you create a new instance of this class.\n",
    "\n",
    "- You declare other class methods like normal functions with the exception that the first argument to each method is `self`. Python adds the `self` argument to the list for you; you do not need to include it when you call the methods.\n",
    "\n",
    "**Note:** `self` is not a reserved keyword in python"
   ]
  },
  {
   "cell_type": "markdown",
   "metadata": {},
   "source": [
    "## Creating Instance Objects\n",
    "To create instances of a class, you call the class using class name and pass in whatever arguments its `__init__()` method accepts."
   ]
  },
  {
   "cell_type": "code",
   "execution_count": 2,
   "metadata": {},
   "outputs": [
    {
     "name": "stdout",
     "output_type": "stream",
     "text": [
      "Docstring from Employee class\n",
      "Object Created\n",
      "Docstring from Employee class\n",
      "Object Created\n",
      "Docstring from Employee class\n"
     ]
    }
   ],
   "source": [
    "print(Employee.__doc__)\n",
    "\n",
    "# This would create first object of Employee class\n",
    "emp1 = Employee(\"Zara\", 2000)\n",
    "print(emp1.__doc__)\n",
    "\n",
    "# This would create second object of Employee class\n",
    "emp2 = Employee(\"Manni\", 5000)\n",
    "print(emp2.__doc__)"
   ]
  },
  {
   "cell_type": "markdown",
   "metadata": {},
   "source": [
    "## Accessing Attributes\n",
    "You access the object's attributes using the dot operator with object. Class variable would be accessed using class name."
   ]
  },
  {
   "cell_type": "code",
   "execution_count": 3,
   "metadata": {},
   "outputs": [
    {
     "name": "stdout",
     "output_type": "stream",
     "text": [
      "Name: Zara , Salary: 2000\n",
      "Name: Manni , Salary: 5000\n",
      "Total Employee: 2\n"
     ]
    }
   ],
   "source": [
    "emp1.displayEmployee()\n",
    "emp2.displayEmployee()\n",
    "print(\"Total Employee:\", Employee.empCount)"
   ]
  },
  {
   "cell_type": "markdown",
   "metadata": {},
   "source": [
    "## Modifying the attributes\n",
    "You can add, remove, or modify attributes of classes and objects at any time."
   ]
  },
  {
   "cell_type": "code",
   "execution_count": 4,
   "metadata": {},
   "outputs": [],
   "source": [
    "emp1.salary = 5000      # Add an 'salary' attribute.\n",
    "emp1.name = 'xyz'       # Modify 'age' attribute.\n",
    "# del emp1.salary       # Delete 'age' attribute."
   ]
  },
  {
   "cell_type": "markdown",
   "metadata": {},
   "source": [
    "Instead of using the normal statements to access attributes, you can use the following functions:\n",
    "\n",
    "- `getattr(obj, name[, default])`: To access the attribute of object.\n",
    "- `hasattr(obj, name)`: To check if an attribute exists or not.\n",
    "- `setattr(obj, name, value)`: To set an attribute. If attribute does not exist, then it would be created.\n",
    "- `delattr(obj, name)`: To delete an attribute."
   ]
  },
  {
   "cell_type": "code",
   "execution_count": 5,
   "metadata": {},
   "outputs": [
    {
     "name": "stdout",
     "output_type": "stream",
     "text": [
      "True\n",
      "5000\n",
      "7000\n"
     ]
    }
   ],
   "source": [
    "result = hasattr(emp1, 'salary')         # Returns true if 'salary' attribute exists\n",
    "print(result)\n",
    "\n",
    "result = getattr(emp1, 'salary')         # Returns value of 'salary' attribute\n",
    "print(result)\n",
    "\n",
    "setattr(emp1, 'salary', 7000)            # Set attribute 'salary' at 7000\n",
    "print(emp1.salary)\n",
    "\n",
    "# del attr(emp1, 'salary')               # Delete attribute 'salary'"
   ]
  },
  {
   "cell_type": "markdown",
   "metadata": {},
   "source": [
    "### Class Variable vs Instance Variable"
   ]
  },
  {
   "cell_type": "code",
   "execution_count": 6,
   "metadata": {},
   "outputs": [
    {
     "name": "stdout",
     "output_type": "stream",
     "text": [
      "1 10\n",
      "1 20\n"
     ]
    }
   ],
   "source": [
    "class Demo:\n",
    "    \"\"\"DocString\"\"\"\n",
    "    # Class Variable\n",
    "    a = 1\n",
    "\n",
    "    def __init__(self, x):\n",
    "        # Instance Variable\n",
    "        self.b = x\n",
    "\n",
    "d1 = Demo(10)\n",
    "d2 = Demo(20)\n",
    "\n",
    "print(d1.a, d1.b)\n",
    "print(d2.a, d2.b)"
   ]
  },
  {
   "cell_type": "code",
   "execution_count": 7,
   "metadata": {},
   "outputs": [
    {
     "name": "stdout",
     "output_type": "stream",
     "text": [
      "Global variable a = 101\n",
      "Internal variable a = 100\n",
      "Internal variable a = 99\n",
      "Internal variable a = 100\n",
      "Internal variable a = 99\n",
      "Global variable a = 100\n",
      "Global variable a = 99\n",
      "Global variable a = 97\n",
      "Internal variable a = 96\n",
      "Internal variable a = 95\n"
     ]
    }
   ],
   "source": [
    "class Demo:\n",
    "    \"\"\"DocString\"\"\"\n",
    "    a = 101\n",
    "    \n",
    "    def decr(self):\n",
    "        # Using self to access the member variables\n",
    "        self.a -= 1\n",
    "        print(\"Internal variable a =\", self.a)\n",
    "    \n",
    "    def global_decr(self):\n",
    "        Demo.a -= 1\n",
    "        print(\"Global variable a =\", Demo.a)\n",
    "\n",
    "print(\"Global variable a =\", Demo.a)\n",
    "\n",
    "# First Object\n",
    "t1 = Demo()\n",
    "t1.decr()\n",
    "t1.decr()\n",
    "\n",
    "# Second Object\n",
    "t2 = Demo()\n",
    "t2.decr()\n",
    "t2.decr()\n",
    "\n",
    "# Globally decreasing the value of a\n",
    "t1.global_decr()\n",
    "t2.global_decr()\n",
    "Demo.a -= 2\n",
    "print(\"Global variable a =\", Demo.a)\n",
    "\n",
    "# Third Object\n",
    "t3 = Demo()\n",
    "t3.decr()\n",
    "t3.decr()"
   ]
  },
  {
   "cell_type": "markdown",
   "metadata": {},
   "source": [
    "## Built-In Class Attributes\n",
    "Every Python class keeps following built-in attributes and they can be accessed using dot operator like any other attribute:\n",
    "- `classname.__dict__`: Dictionary containing the class's namespace.\n",
    "- `classname.__doc__`: Class documentation string or none, if undefined.\n",
    "- `classname.__name__`: Class name.\n",
    "- `classname.__module__`: Module name in which the class is defined. This attribute is `__main__` in interactive mode.\n",
    "- `classname.__bases__`: A possibly empty tuple containing the base classes, in the order of their occurrence in the base class list."
   ]
  },
  {
   "cell_type": "code",
   "execution_count": 8,
   "metadata": {},
   "outputs": [
    {
     "name": "stdout",
     "output_type": "stream",
     "text": [
      "Employee.__doc__: Docstring from Employee class\n",
      "Employee.__name__: Employee\n",
      "Employee.__module__: __main__\n",
      "Employee.__bases__: (<class 'object'>,)\n",
      "Employee.__dict__: {'__module__': '__main__', '__doc__': 'Docstring from Employee class', 'empCount': 2, '__init__': <function Employee.__init__ at 0x0000018BA0398F28>, 'displayCount': <function Employee.displayCount at 0x0000018BA0398B70>, 'displayEmployee': <function Employee.displayEmployee at 0x0000018BA0398BF8>, '__dict__': <attribute '__dict__' of 'Employee' objects>, '__weakref__': <attribute '__weakref__' of 'Employee' objects>}\n"
     ]
    }
   ],
   "source": [
    "# For the above class let us try to access all these attributes:\n",
    "\n",
    "class Employee:\n",
    "    \"\"\"Docstring from Employee class\"\"\"\n",
    "    empCount = 0\n",
    "    \n",
    "    def __init__(self, name, salary):\n",
    "        self.name = name\n",
    "        self.salary = salary\n",
    "        Employee.empCount += 1\n",
    "    \n",
    "    def displayCount(self):\n",
    "        print(\"Total Employe:\", Employee.empCount)\n",
    "    \n",
    "    def displayEmployee(self):\n",
    "        print(\"Name:\", self.name,  \", Salary:\", self.salary)\n",
    "\n",
    "emp1 = Employee(\"Zara\", 2000)\n",
    "emp2 = Employee(\"Manni\", 5000)\n",
    "print(\"Employee.__doc__:\", Employee.__doc__)\n",
    "print(\"Employee.__name__:\", Employee.__name__)\n",
    "print(\"Employee.__module__:\", Employee.__module__)\n",
    "print(\"Employee.__bases__:\", Employee.__bases__)\n",
    "print(\"Employee.__dict__:\", Employee.__dict__)"
   ]
  },
  {
   "cell_type": "markdown",
   "metadata": {},
   "source": [
    "## Destroying Objects (Garbage Collection)\n",
    "Python deletes unneeded objects (built-in types or class instances) automatically to free the memory space. The process by which Python periodically reclaims blocks of memory that no longer are in use is termed as Garbage Collection.\n",
    "\n",
    "Python's garbage collector runs during program execution and is triggered when an object's reference count reaches zero. An object's reference count changes as the number of aliases that point to it changes.\n",
    "\n",
    "An object's reference count increases when it is assigned a new name or placed in a container (list, tuple, or dictionary). The object's reference count decreases when it is deleted with del, its reference is reassigned, or its reference goes out of scope. When an object's reference count reaches zero, Python collects it automatically."
   ]
  },
  {
   "cell_type": "code",
   "execution_count": 9,
   "metadata": {},
   "outputs": [],
   "source": [
    "a = 40      # Create object <40>\n",
    "b = a       # Increase ref. count  of <40> \n",
    "c = [b]     # Increase ref. count  of <40> \n",
    "\n",
    "del a       # Decrease ref. count  of <40>\n",
    "b = 100     # Decrease ref. count  of <40> \n",
    "c[0] = -1   # Decrease ref. count  of <40> "
   ]
  },
  {
   "cell_type": "markdown",
   "metadata": {},
   "source": [
    "You normally will not notice when the garbage collector destroys an orphaned instance and reclaims its space. However, a class can implement the special method `__del__()`, called a destructor, that is invoked when the instance is about to be destroyed. This method might be used to clean up any non-memory resources used by an instance."
   ]
  },
  {
   "cell_type": "code",
   "execution_count": 10,
   "metadata": {},
   "outputs": [],
   "source": [
    "class Point:\n",
    "    \n",
    "    def __init__(self, x=0, y=0):\n",
    "        self.x = x\n",
    "        self.y = y\n",
    "        class_name = self.__class__.__name__\n",
    "        print(class_name, \"created\")\n",
    "        \n",
    "    def __del__(self):\n",
    "        class_name = self.__class__.__name__\n",
    "        print(class_name, \"destroyed\")"
   ]
  },
  {
   "cell_type": "code",
   "execution_count": 11,
   "metadata": {},
   "outputs": [
    {
     "name": "stdout",
     "output_type": "stream",
     "text": [
      "Point created\n",
      "1699200319896\n",
      "Point destroyed\n"
     ]
    }
   ],
   "source": [
    "pt1 = Point()\n",
    "print(id(pt1));   # prints the id of the obejct\n",
    "del pt1"
   ]
  },
  {
   "cell_type": "markdown",
   "metadata": {},
   "source": [
    "## `import` from files"
   ]
  },
  {
   "cell_type": "markdown",
   "metadata": {},
   "source": [
    "**Note:** Ideally, you should define your classes in a separate file, then you should import them in your main program file using import statement.\n",
    "\n",
    "In the above example,\n",
    "- assuming definition of a `Point` class is contained in `point.py`.\n",
    "- there is no other executable code in it."
   ]
  },
  {
   "cell_type": "code",
   "execution_count": 12,
   "metadata": {},
   "outputs": [
    {
     "name": "stdout",
     "output_type": "stream",
     "text": [
      "Point created\n",
      "Point destroyed\n"
     ]
    }
   ],
   "source": [
    "import point\n",
    "p1 = point.Point()\n",
    "del p1"
   ]
  },
  {
   "cell_type": "markdown",
   "metadata": {},
   "source": [
    "## Data Hiding\n",
    "An object's attributes may or may not be visible outside the class definition. You need to name attributes with a double underscore prefix \"`__attrName`\", and those attributes then will not be directly visible to outsiders.\n",
    "\n",
    "Python protects those members by internally changing the name to include the class name. You can access such attributes as \"`object._ClassName__attrName`\"."
   ]
  },
  {
   "cell_type": "code",
   "execution_count": 13,
   "metadata": {},
   "outputs": [
    {
     "name": "stdout",
     "output_type": "stream",
     "text": [
      "1\n",
      "2\n",
      "3\n",
      "3\n"
     ]
    }
   ],
   "source": [
    "class Counter:\n",
    "    __secretCount = 0\n",
    "    \n",
    "    def incr(self):\n",
    "        self.__secretCount += 1\n",
    "        print(self.__secretCount)\n",
    "\n",
    "counter = Counter()\n",
    "counter.incr()\n",
    "counter.incr()\n",
    "counter.incr()\n",
    "# print(counter.__secretCount)\n",
    "print(counter._Counter__secretCount)"
   ]
  },
  {
   "cell_type": "code",
   "execution_count": 14,
   "metadata": {},
   "outputs": [
    {
     "name": "stdout",
     "output_type": "stream",
     "text": [
      "Numbers: (1, 2)\n",
      "Sum: 3\n"
     ]
    },
    {
     "data": {
      "text/plain": [
       "3"
      ]
     },
     "execution_count": 14,
     "metadata": {},
     "output_type": "execute_result"
    }
   ],
   "source": [
    "class Add:\n",
    "    \n",
    "    def __init__(self, a, b):\n",
    "        # Double underscore makes the variable hidden\n",
    "        self.__a = a\n",
    "        self.__b = b\n",
    "    \n",
    "    # hidden function\n",
    "    def __sum(self):\n",
    "        return self.__a + self.__b\n",
    "    \n",
    "    def display(self):\n",
    "        print(\"Numbers: ({}, {})\".format(self.__a, self.__b))\n",
    "        print(\"Sum: {}\".format(self.__sum()))\n",
    "\n",
    "a = Add(1, 2)\n",
    "a.display()\n",
    "# a.__sum()\n",
    "a._Add__sum()"
   ]
  },
  {
   "cell_type": "markdown",
   "metadata": {},
   "source": [
    "## Namespaces\n",
    "To simply put it, namespace is a collection of names. In Python, you can imagine a namespace as a mapping of every name, you have defined, to corresponding objects.\n",
    "\n",
    "Different namespaces can co-exist at a given time but are completely isolated. A namespace containing all the built-in names is created when we start the Python interpreter and exists as long we don't exit. This is the reason that built-in functions like id(), print() etc. are always available to us from any part of the program. Each module creates its own global namespace.\n",
    "\n",
    "These different namespaces are isolated. Hence, the same name that may exist in different modules do not collide. Modules can have various functions and classes. A local namespace is created when a function is called, which has all the names defined in it. Similar, is the case with class. "
   ]
  },
  {
   "cell_type": "code",
   "execution_count": 15,
   "metadata": {},
   "outputs": [],
   "source": [
    "def outer_function():\n",
    "    b = 20\n",
    "    \n",
    "    def inner_func():\n",
    "        c = 30\n",
    "\n",
    "a = 10"
   ]
  },
  {
   "cell_type": "markdown",
   "metadata": {},
   "source": [
    "Here, the variable `a` is in the `global` namespace. Variable `b` is in the local namespace of `outer_function()` and `c` is in the nested local namespace of `inner_function()`."
   ]
  },
  {
   "cell_type": "code",
   "execution_count": 16,
   "metadata": {},
   "outputs": [
    {
     "name": "stdout",
     "output_type": "stream",
     "text": [
      "a = 30\n",
      "a = 20\n",
      "a = 10\n"
     ]
    }
   ],
   "source": [
    "def outer_function():\n",
    "    a = 20\n",
    "    def inner_function():\n",
    "        a = 30\n",
    "        print('a =', a)\n",
    "\n",
    "    inner_function()\n",
    "    print('a =', a)\n",
    "     \n",
    "a = 10\n",
    "outer_function()\n",
    "print('a =', a)"
   ]
  },
  {
   "cell_type": "markdown",
   "metadata": {},
   "source": [
    "**Note:** In this program, three different variables `a` are defined in separate namespaces and accessed accordingly."
   ]
  },
  {
   "cell_type": "code",
   "execution_count": 17,
   "metadata": {},
   "outputs": [
    {
     "name": "stdout",
     "output_type": "stream",
     "text": [
      "a = 30\n",
      "a = 30\n",
      "a = 30\n"
     ]
    }
   ],
   "source": [
    "def outer_function():\n",
    "    global a\n",
    "    a = 20\n",
    "    \n",
    "    def inner_function():\n",
    "        global a\n",
    "        a = 30\n",
    "        print('a =', a)\n",
    "\n",
    "    inner_function()\n",
    "    print('a =', a)\n",
    "     \n",
    "a = 10\n",
    "outer_function()\n",
    "print('a =', a)"
   ]
  },
  {
   "cell_type": "markdown",
   "metadata": {},
   "source": [
    "**Note:** Here, all reference and assignment are to the global `a` due to the use of keyword `global`."
   ]
  }
 ],
 "metadata": {
  "kernelspec": {
   "display_name": "Python 3",
   "language": "python",
   "name": "python3"
  },
  "language_info": {
   "codemirror_mode": {
    "name": "ipython",
    "version": 3
   },
   "file_extension": ".py",
   "mimetype": "text/x-python",
   "name": "python",
   "nbconvert_exporter": "python",
   "pygments_lexer": "ipython3",
   "version": "3.6.3"
  }
 },
 "nbformat": 4,
 "nbformat_minor": 1
}
