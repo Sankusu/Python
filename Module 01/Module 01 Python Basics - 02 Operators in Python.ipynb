{
 "cells": [
  {
   "cell_type": "markdown",
   "metadata": {},
   "source": [
    "# Operators\n",
    "Operators are the constructs, which can manipulate the value of operands. Consider the expression 4 + 5 = 9. Here, 4 and 5 are called the operands and + is called the operator."
   ]
  },
  {
   "cell_type": "markdown",
   "metadata": {},
   "source": [
    "## Types of Operator\n",
    "Python language supports the following types of operators: \n",
    "- Arithmetic Operators\n",
    "- Comparison (Relational) Operators\n",
    "- Assignment Operators\n",
    "- Logical Operators\n",
    "- Bitwise Operators\n",
    "- Membership Operators\n",
    "- Identity Operators"
   ]
  },
  {
   "cell_type": "markdown",
   "metadata": {},
   "source": [
    "### Python Arithmetic Operators\n",
    "Assume variable a holds the value 10 and variable b holds the value 21, then −\n",
    "\n",
    "\n",
    "- `+` (Addition): Adds values on either side of the operator.            `a + b = 31`\n",
    "- `-` (Subtraction): Subtracts right hand operand from left hand operand.   `a – b = -11`\n",
    "- `*` (Multiplication): Multiplies values on either side of the operator       `a * b = 210`\n",
    "- `/` (Division): Divides left hand operand by right hand operand        `b / a = 2.1`\n",
    "- `%` (Modulus): Divides left hand operand by right hand operand and returns remainder\t`b % a = 1`\n",
    "- `**` (Exponent): Performs exponential (power) calculation on operators\t`a**b =10` to the power 20\n",
    "- `//` (Floor Division): The division of operands where the result is the quotient in which the digits after the decimal point are removed. But if one of the operands is negative, the result is floored, i.e., rounded away from zero (towards negative infinity):\t`9//2 = 4` and `9.0//2.0 = 4.0`, `-11//3 = -4`, `-11.0//3 = -4.0`"
   ]
  },
  {
   "cell_type": "markdown",
   "metadata": {},
   "source": [
    "### Python Comparison Operators\n",
    "These operators compare the values on either side of them and decide the relation among them. They are also called Relational operators.\n",
    "\n",
    "Assume variable a holds the value 10 and variable b holds the value 20, then −\n",
    "\n",
    "- `==`: If the values of two operands are equal, then the condition becomes true.\t(a == b) is not true.\n",
    "- `!=`: If values of two operands are not equal, then condition becomes true.\t(a!= b) is true.\n",
    "- `>`: If the value of left operand is greater than the value of right operand, then condition becomes true.\t(a > b) is not true.\n",
    "- `<`: If the value of left operand is less than the value of right operand, then condition becomes true.\t(a < b) is true.\n",
    "- `>=`: If the value of left operand is greater than or equal to the value of right operand, then condition becomes true.\t(a >= b) is not true.\n",
    "- `<=`: If the value of left operand is less than or equal to the value of right operand, then condition becomes true.\t(a <= b) is true."
   ]
  },
  {
   "cell_type": "markdown",
   "metadata": {},
   "source": [
    "### Python Assignment Operators\n",
    "Assume variable a holds the value 10 and variable b holds the value 20, then −\n",
    "\n",
    "- `=`: Assigns values from right side operands to left side operand\tc = a + b assigns value of a + b into c\n",
    "- `+=`: It adds right operand to the left operand and assign the result to left operand\tc += a is equivalent to c = c + a\n",
    "- `-=`: It subtracts right operand from the left operand and assign the result to left operand\tc -= a is equivalent to c = c - a\n",
    "- `*=`: It multiplies right operand with the left operand and assign the result to left operand\tc \\*= a is equivalent to c = c * a\n",
    "- `/=`: It divides left operand with the right operand and assign the result to left operand\tc /= a is equivalent to c = c / ac /= a is equivalent to c = c / a\n",
    "- `%=`: It takes modulus using two operands and assign the result to left operand\tc %= a is equivalent to c = c % a\n",
    "- `**=`: Performs exponential (power) calculation on operators and assign value to the left operand\tc \\*\\*= a is equivalent to c = c \\*\\* a\n",
    "- `//=`: It performs floor division on operators and assign value to the left operand\tc //= a is equivalent to c = c // a"
   ]
  },
  {
   "cell_type": "markdown",
   "metadata": {},
   "source": [
    "### Python Bitwise Operators\n",
    "Bitwise operator works on bits and performs bit-by-bit operation. Assume if a = 60; and b = 13; Now in binary format they will be as follows −\n",
    "\n",
    "```python\n",
    "a = 0011 1100\n",
    "b = 0000 1101\n",
    "a &b = 0000 1100\n",
    "a | b = 0011 1101\n",
    "a ^ b = 0011 0001\n",
    "~a = 1100 0011\n",
    "```\n",
    "Python's built-in function bin() can be used to obtain binary representation of an integer number.\n",
    "\n",
    "The following Bitwise operators are supported by Python language −\n",
    "\n",
    "- `&` (Binary AND): Operator copies a bit, to the result, if it exists in both operands\t(a & b) (means 0000 1100)\n",
    "- `|` (Binary OR): It copies a bit, if it exists in either operand.\t(a | b) = 61 (means 0011 1101)\n",
    "- `^` (Binary XOR): It copies the bit, if it is set in one operand but not both.\t(a ^ b) = 49 (means 0011 0001)\n",
    "- `~` (Binary Ones Complement): It is unary and has the effect of 'flipping' bits.\t(~a ) = -61 (means 1100 0011 in 2's complement form due to a signed binary number.\n",
    "- `<<` (Binary Left Shift): The left operand's value is moved left by the number of bits specified by the right operand.\ta << = 240 (means 1111 0000)\n",
    "- `>>` (Binary Right Shift): The left operand's value is moved right by the number of bits specified by the right operand.\ta \\>\\> = 15 (means 0000 1111)"
   ]
  },
  {
   "cell_type": "markdown",
   "metadata": {},
   "source": [
    "### Python Logical Operators\n",
    "The following logical operators are supported by Python language. Assume variable a holds True and variable b holds False then −\n",
    "\n",
    "- `and` (Logical AND): If both the operands are true then condition becomes true.\t(a and b) is False.\n",
    "- `or` (Logical OR): If any of the two operands are non-zero then condition becomes true.\t(a or b) is True.\n",
    "- `not` (Logical NOT): Used to reverse the logical state of its operand.\tNot(a and b) is True."
   ]
  },
  {
   "cell_type": "markdown",
   "metadata": {},
   "source": [
    "### Python Membership Operators\n",
    "Python’s membership operators test for membership in a sequence, such as strings, lists, or tuples. There are two membership operators as explained below\n",
    "\n",
    "- `in`: Evaluates to true if it finds a variable in the specified sequence and false otherwise.\tx in y, here in results in a 1 if x is a member of sequence y.\n",
    "- `not in`: Evaluates to true if it does not finds a variable in the specified sequence and false otherwise.\tx not in y, here not in results in a 1 if x is not a member of sequence y."
   ]
  },
  {
   "cell_type": "markdown",
   "metadata": {},
   "source": [
    "### Python Identity Operators\n",
    "Identity operators compare the memory locations of two objects. There are two Identity operators as explained below \n",
    "\n",
    "- `is`: Evaluates to true if the variables on either side of the operator point to the same object and false otherwise.\tx is y, here is results in 1 if id(x) equals id(y).\n",
    "- `is not`: Evaluates to false if the variables on either side of the operator point to the same object and true otherwise.\tx is not y, here is not results in 1 if id(x) is not equal to id(y)."
   ]
  },
  {
   "cell_type": "markdown",
   "metadata": {},
   "source": [
    "### Python Operators Precedence\n",
    "The following table lists all operators from highest precedence to the lowest.\n",
    "- `**`: Exponentiation (raise to the power)\n",
    "- `~` `+` `-`: Complement, unary plus and minus (method names for the last two are +@ and -@)\n",
    "- `*` `/` `%` `//`: Multiply, divide, modulo and floor division\n",
    "- `+` `-`: Addition and subtraction\n",
    "- `>>` `<<`: Right and left bitwise shift\n",
    "- `&`: Bitwise 'AND'\n",
    "- `^` `|`: Bitwise exclusive `OR' and regular `OR'\n",
    "- `<=` `<` `>` `>=`: Comparison operators\n",
    "- `<>` `==` `!=`: Equality operators\n",
    "- `=` `%=` `/=` `//=` `-=` `+=` `*=` `**=`: Assignment operators\n",
    "- `is` `is not`: Identity operators\n",
    "- `in` `not in`: Membership operators\n",
    "- `not` `or` `and`: Logical operators"
   ]
  },
  {
   "cell_type": "code",
   "execution_count": 2,
   "metadata": {},
   "outputs": [
    {
     "data": {
      "text/plain": [
       "2"
      ]
     },
     "execution_count": 2,
     "metadata": {},
     "output_type": "execute_result"
    }
   ],
   "source": [
    "1+1"
   ]
  },
  {
   "cell_type": "code",
   "execution_count": 3,
   "metadata": {},
   "outputs": [
    {
     "data": {
      "text/plain": [
       "-1"
      ]
     },
     "execution_count": 3,
     "metadata": {},
     "output_type": "execute_result"
    }
   ],
   "source": [
    "4-5"
   ]
  },
  {
   "cell_type": "markdown",
   "metadata": {},
   "source": [
    "**Note:** The default behavior of division in Python 3 is float division. To use integer division like Python 2, use `//`"
   ]
  },
  {
   "cell_type": "code",
   "execution_count": 4,
   "metadata": {},
   "outputs": [
    {
     "data": {
      "text/plain": [
       "2.8"
      ]
     },
     "execution_count": 4,
     "metadata": {},
     "output_type": "execute_result"
    }
   ],
   "source": [
    "14/5"
   ]
  },
  {
   "cell_type": "code",
   "execution_count": 5,
   "metadata": {},
   "outputs": [
    {
     "data": {
      "text/plain": [
       "2"
      ]
     },
     "execution_count": 5,
     "metadata": {},
     "output_type": "execute_result"
    }
   ],
   "source": [
    "14//5"
   ]
  },
  {
   "cell_type": "code",
   "execution_count": 6,
   "metadata": {},
   "outputs": [
    {
     "data": {
      "text/plain": [
       "10"
      ]
     },
     "execution_count": 6,
     "metadata": {},
     "output_type": "execute_result"
    }
   ],
   "source": [
    "2*5"
   ]
  },
  {
   "cell_type": "markdown",
   "metadata": {},
   "source": [
    "To raise a number to any power use down asterisk **. To represent  anan :\n",
    "\n",
    "a**n"
   ]
  },
  {
   "cell_type": "code",
   "execution_count": 7,
   "metadata": {},
   "outputs": [
    {
     "data": {
      "text/plain": [
       "8"
      ]
     },
     "execution_count": 7,
     "metadata": {},
     "output_type": "execute_result"
    }
   ],
   "source": [
    "2**3"
   ]
  },
  {
   "cell_type": "markdown",
   "metadata": {},
   "source": [
    "To calculate the remainder (modulo operator) use `%`. To represent `a % b = r`:\n",
    "\n",
    "```python\n",
    "a % b # Returns r\n",
    "```"
   ]
  },
  {
   "cell_type": "code",
   "execution_count": 8,
   "metadata": {},
   "outputs": [
    {
     "data": {
      "text/plain": [
       "1"
      ]
     },
     "execution_count": 8,
     "metadata": {},
     "output_type": "execute_result"
    }
   ],
   "source": [
    "10 % 3"
   ]
  },
  {
   "cell_type": "code",
   "execution_count": 9,
   "metadata": {},
   "outputs": [
    {
     "name": "stdout",
     "output_type": "stream",
     "text": [
      "0b110010000 0b11001000\n",
      "0b10000000\n",
      "0b111011000\n",
      "0b101011000\n",
      "-0b110010001\n"
     ]
    }
   ],
   "source": [
    "a = 400\n",
    "b = 200\n",
    "print(bin(a), bin(b))\n",
    "c = a & b\n",
    "print(bin(c))\n",
    "c = a | b\n",
    "print(bin(c))\n",
    "c = a ^ b\n",
    "print(bin(c))\n",
    "c = ~a\n",
    "print(bin(c))"
   ]
  },
  {
   "cell_type": "markdown",
   "metadata": {},
   "source": [
    "## Importing Library\n",
    "To import a library, one of these syntaxes can be used:\n",
    "\n",
    "```python\n",
    "import library_name\n",
    "import library_name as alias\n",
    "from module_name import some_class\n",
    "```"
   ]
  },
  {
   "cell_type": "code",
   "execution_count": 10,
   "metadata": {},
   "outputs": [
    {
     "data": {
      "text/plain": [
       "52.0"
      ]
     },
     "execution_count": 10,
     "metadata": {},
     "output_type": "execute_result"
    }
   ],
   "source": [
    "# Python program to calculate nCr\n",
    "import math         # importing 'math' library\n",
    "\n",
    "n=52\n",
    "k=1\n",
    "math.factorial(n) / (math.factorial(k) * math.factorial(n-k))"
   ]
  },
  {
   "cell_type": "code",
   "execution_count": null,
   "metadata": {},
   "outputs": [],
   "source": []
  }
 ],
 "metadata": {
  "kernelspec": {
   "display_name": "Python 3",
   "language": "python",
   "name": "python3"
  },
  "language_info": {
   "codemirror_mode": {
    "name": "ipython",
    "version": 3
   },
   "file_extension": ".py",
   "mimetype": "text/x-python",
   "name": "python",
   "nbconvert_exporter": "python",
   "pygments_lexer": "ipython3",
   "version": "3.6.3"
  }
 },
 "nbformat": 4,
 "nbformat_minor": 1
}
