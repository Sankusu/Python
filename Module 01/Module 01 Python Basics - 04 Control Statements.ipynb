{
 "cells": [
  {
   "cell_type": "markdown",
   "metadata": {},
   "source": [
    "# Control Statements"
   ]
  },
  {
   "cell_type": "markdown",
   "metadata": {},
   "source": [
    "## Decision-making\n",
    "Decision-making is the anticipation of conditions occurring during the execution of a program and specified actions taken according to the conditions.\n",
    "\n",
    "Decision structures evaluate multiple expressions, which produce TRUE or FALSE as the outcome. You need to determine which action to take and which statements to execute if the outcome is TRUE or FALSE otherwise."
   ]
  },
  {
   "cell_type": "markdown",
   "metadata": {},
   "source": [
    "#### Python programming language provides the following types of decision-making statements.\n",
    "\n",
    "- `if`: An if statement consists of a boolean expression followed by one or more statements.\n",
    "- `if...else`: An if statement can be followed by an optional else statement, which executes when the boolean expression is FALSE.\n",
    "- `elif`: it is short form of \"else if\"\n",
    "- `nested if`: if or else if statement can be used inside another if or else if statement(s)."
   ]
  },
  {
   "cell_type": "markdown",
   "metadata": {},
   "source": [
    "**Syntax:**\n",
    "```python\n",
    "if expression:\n",
    "    # statements\n",
    "```"
   ]
  },
  {
   "cell_type": "markdown",
   "metadata": {},
   "source": [
    "**Syntax:**\n",
    "```python\n",
    "if expression:\n",
    "    # statements\n",
    "else:\n",
    "    # statements\n",
    "```"
   ]
  },
  {
   "cell_type": "markdown",
   "metadata": {},
   "source": [
    "**Syntax:**\n",
    "```python\n",
    "if expression:\n",
    "    # statements\n",
    "elif expression:\n",
    "    # statements\n",
    "else:\n",
    "    # statements\n",
    "```"
   ]
  },
  {
   "cell_type": "code",
   "execution_count": null,
   "metadata": {},
   "outputs": [],
   "source": [
    "# if statement\n",
    "x = 10\n",
    "if x<100:\n",
    "    print(\"x is less than 100\")\n",
    "print(\"Good bye!\")"
   ]
  },
  {
   "cell_type": "code",
   "execution_count": null,
   "metadata": {},
   "outputs": [],
   "source": [
    "# if...else statements\n",
    "x = 1011\n",
    "if x<100:\n",
    "    print(\"x is less than 100\")\n",
    "else:\n",
    "    print(\"x is not less than 100\")\n",
    "print(\"Good bye!\")"
   ]
  },
  {
   "cell_type": "code",
   "execution_count": null,
   "metadata": {},
   "outputs": [],
   "source": [
    "# elif statement\n",
    "x = 100\n",
    "if x<100:\n",
    "    print(\"x is less than 100\")\n",
    "elif x==100:\n",
    "    print(\"x is equal to 100\")\n",
    "else:\n",
    "    print(\"x is not less than 100\")\n",
    "print(\"Good bye!\")"
   ]
  },
  {
   "cell_type": "code",
   "execution_count": null,
   "metadata": {},
   "outputs": [],
   "source": [
    "# nested if statements\n",
    "x = 10\n",
    "if x<100:\n",
    "    if x<50:\n",
    "        print(\"x is less than 100 and less than 50\")\n",
    "elif x==100:\n",
    "    print(\"x is equal to 100\")\n",
    "else:\n",
    "    print(\"x is not less than 100\")\n",
    "print(\"Good bye!\")"
   ]
  },
  {
   "cell_type": "markdown",
   "metadata": {},
   "source": [
    "## Ternary Operators\n",
    "Ternary operators evaluate something based on a condition being true or not."
   ]
  },
  {
   "cell_type": "markdown",
   "metadata": {},
   "source": [
    "**Syntax:**\n",
    "```python\n",
    "return_when_true if condition else return_when_false\n",
    "```"
   ]
  },
  {
   "cell_type": "code",
   "execution_count": null,
   "metadata": {},
   "outputs": [],
   "source": [
    "height = 5.9\n",
    "state = \"tall\" if height >= 6 else \"short\"\n",
    "print(state)"
   ]
  },
  {
   "cell_type": "code",
   "execution_count": null,
   "metadata": {},
   "outputs": [],
   "source": [
    "result = 1 > 2\n",
    "print(\"Greater Than\" if result else \"Less Than\")"
   ]
  },
  {
   "cell_type": "markdown",
   "metadata": {},
   "source": [
    "## Loops\n",
    "In general, statements are executed sequentially − The first statement in a function is executed first, followed by the second, and so on. There may be a situation when you need to execute a block of code several number of times. A loop statement allows us to execute a statement or group of statements multiple times."
   ]
  },
  {
   "cell_type": "markdown",
   "metadata": {},
   "source": [
    "Python programming language provides the following types of loops to handle looping requirements.\n",
    "\n",
    "- `while loop`: Repeats a statement or group of statements while a given condition is TRUE. It tests the condition before executing the loop body.\n",
    "- `for loop`: Executes a sequence of statements multiple times and abbreviates the code that manages the loop variable.\n",
    "- `nested loops`: one or more loops can be used inside any another while or for loop."
   ]
  },
  {
   "cell_type": "markdown",
   "metadata": {},
   "source": [
    "### Loop Control Statements\n",
    "The Loop control statements change the execution from its normal sequence. When the execution leaves a scope, all automatic objects that were created in that scope are destroyed.\n",
    "\n",
    "Python supports the following control statements.\n",
    "\n",
    "- `break`: Terminates the loop statement and transfers execution to the statement immediately following the loop.\n",
    "- `continue`: Causes the loop to skip the remainder of its body and immediately retest its condition prior to reiterating.\n",
    "- `pass`: Used when a statement is required syntactically but you do not want any command or code to execute."
   ]
  },
  {
   "cell_type": "markdown",
   "metadata": {},
   "source": [
    "## iterable\n",
    "It is a sequence of values like `string`, `list`, `tuple`, `dictionary`, `range()`"
   ]
  },
  {
   "cell_type": "markdown",
   "metadata": {},
   "source": [
    "**Syntax:**\n",
    "```python\n",
    "for item in iterable:\n",
    "    # do something on item\n",
    "```"
   ]
  },
  {
   "cell_type": "markdown",
   "metadata": {},
   "source": [
    "**Syntax:**\n",
    "```python\n",
    "while expression:\n",
    "    # iterates till the condition is true\n",
    "```"
   ]
  },
  {
   "cell_type": "markdown",
   "metadata": {},
   "source": [
    "## The `range()` function\n",
    "- It is type of iterator\n",
    "- Creates a list containing arithematic progression\n",
    "\n",
    "**Syntax:**\n",
    "```python\n",
    "range(stop)\n",
    "range(start, stop)\n",
    "range(start, stop, step)\n",
    "```"
   ]
  },
  {
   "cell_type": "markdown",
   "metadata": {},
   "source": [
    "**Note:** Loops will stop one position before the stop value\n",
    "\n",
    "**Note:** Step is the amount of increments per iteration"
   ]
  },
  {
   "cell_type": "code",
   "execution_count": null,
   "metadata": {},
   "outputs": [],
   "source": [
    "# Start is assumed to be 0\n",
    "for i in range(5):\n",
    "    print(i, end=\" \")"
   ]
  },
  {
   "cell_type": "code",
   "execution_count": null,
   "metadata": {},
   "outputs": [],
   "source": [
    "# Iteration by 1 by default\n",
    "for i in range(1, 5):\n",
    "    print(i)"
   ]
  },
  {
   "cell_type": "code",
   "execution_count": null,
   "metadata": {},
   "outputs": [],
   "source": [
    "for i in range(0, 5, 2):\n",
    "    print(i)"
   ]
  },
  {
   "cell_type": "code",
   "execution_count": null,
   "metadata": {},
   "outputs": [],
   "source": [
    "for i in range(0, 4, 2):\n",
    "    print(i)"
   ]
  },
  {
   "cell_type": "code",
   "execution_count": null,
   "metadata": {},
   "outputs": [],
   "source": [
    "# String Traversal\n",
    "string = \"Traverse\"\n",
    "for i in range(len(string)):\n",
    "    print(string[i], end=\" \")"
   ]
  },
  {
   "cell_type": "code",
   "execution_count": null,
   "metadata": {},
   "outputs": [],
   "source": [
    "# String Traversal without using range() function\n",
    "for i in string:\n",
    "    print(i, end=\" \")"
   ]
  },
  {
   "cell_type": "code",
   "execution_count": null,
   "metadata": {},
   "outputs": [],
   "source": [
    "# Nested for loops\n",
    "for i in range(2):\n",
    "    for j in range(2):\n",
    "        print(j)"
   ]
  },
  {
   "cell_type": "code",
   "execution_count": null,
   "metadata": {},
   "outputs": [],
   "source": [
    "# 4 x 4 multiplication table\n",
    "for i in range(1, 5):\n",
    "    print(i, \"->\", end=\"\\t\")\n",
    "    for j in range(1, 5):\n",
    "        print(i*j, end=\"\\t\")\n",
    "    print()"
   ]
  },
  {
   "cell_type": "code",
   "execution_count": null,
   "metadata": {},
   "outputs": [],
   "source": [
    "# while loops\n",
    "condition = 10\n",
    "while condition != 0:\n",
    "    print(condition, end=\" \")\n",
    "    condition -= 1\n",
    "    "
   ]
  },
  {
   "cell_type": "code",
   "execution_count": null,
   "metadata": {},
   "outputs": [],
   "source": [
    "# break statement\n",
    "while True:\n",
    "    print(\"Infinite\")\n",
    "    break"
   ]
  },
  {
   "cell_type": "code",
   "execution_count": 4,
   "metadata": {},
   "outputs": [
    {
     "name": "stdout",
     "output_type": "stream",
     "text": [
      "3 4 7 8 9 10 11 12 13 14 15 16 17 18 19 20 21 22 23 24 "
     ]
    }
   ],
   "source": [
    "# continue statement\n",
    "for i in range(1, 11):\n",
    "    if i == 5:\n",
    "        continue\n",
    "    print()\n",
    "    "
   ]
  },
  {
   "cell_type": "code",
   "execution_count": 8,
   "metadata": {},
   "outputs": [
    {
     "name": "stdout",
     "output_type": "stream",
     "text": [
      "0\n",
      "1\n",
      "2\n",
      "3\n",
      "4\n",
      "5\n",
      "6\n",
      "7\n",
      "8\n",
      "9\n",
      "Passed the for block\n"
     ]
    }
   ],
   "source": [
    "# pass (used to skip definition of the block)\n",
    "for i in range(10):\n",
    "    pass\n",
    "print(\"Passed the for block\")"
   ]
  },
  {
   "cell_type": "code",
   "execution_count": null,
   "metadata": {},
   "outputs": [],
   "source": [
    "# pass statement is ignored when some statements are present in block\n",
    "# pass only maintains the syntax of the block\n",
    "for i in range(3):\n",
    "    print(\"Hello\", end=\" \")\n",
    "    pass\n",
    "    print(\"World\")\n",
    "print(\"Good bye!!!\")"
   ]
  }
 ],
 "metadata": {
  "kernelspec": {
   "display_name": "Python 3",
   "language": "python",
   "name": "python3"
  },
  "language_info": {
   "codemirror_mode": {
    "name": "ipython",
    "version": 3
   },
   "file_extension": ".py",
   "mimetype": "text/x-python",
   "name": "python",
   "nbconvert_exporter": "python",
   "pygments_lexer": "ipython3",
   "version": "3.6.3"
  }
 },
 "nbformat": 4,
 "nbformat_minor": 1
}
