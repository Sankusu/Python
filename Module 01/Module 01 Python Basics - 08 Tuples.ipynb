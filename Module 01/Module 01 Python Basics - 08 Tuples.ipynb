{
 "cells": [
  {
   "cell_type": "markdown",
   "metadata": {},
   "source": [
    "# Tuple\n",
    "- A tuple is a sequence of immutable Python objects.\n",
    "- Tuples are sequences, just like lists (behave like read-only list).\n",
    "- The main difference between the tuples and the lists is that the tuples cannot be changed unlike lists.\n",
    "- Tuples use parentheses, whereas lists use square brackets."
   ]
  },
  {
   "cell_type": "markdown",
   "metadata": {},
   "source": [
    "### Tuple Creation\n",
    "- Creating a tuple is as simple as putting different comma-separated values.\n",
    "- Optionally, you can put these comma-separated values between parentheses also.\n",
    "- Like string indices, tuple indices start at 0, and they can be sliced, concatenated, and so on."
   ]
  },
  {
   "cell_type": "code",
   "execution_count": 1,
   "metadata": {},
   "outputs": [
    {
     "name": "stdout",
     "output_type": "stream",
     "text": [
      "()\n",
      "('a', 'b', 10, 20.01, True)\n",
      "(1, 2, 3, 4, 5)\n",
      "(1, 'a', 2.5, True, 'b')\n",
      "(50,)\n"
     ]
    }
   ],
   "source": [
    "# The empty tuple is written as two parentheses containing nothing −\n",
    "tup1 = ();\n",
    "\n",
    "tup2 = ('a', \"b\", 10, 20.01, True)\n",
    "tup3 = (1, 2, 3, 4, 5)\n",
    "tup4 = 1, \"a\", 2.5, True, 'b'\n",
    "\n",
    "# To write a tuple containing a single value you have to include a comma, even though there is only one value −\n",
    "tup5 = (50,)\n",
    "\n",
    "print(tup1)\n",
    "print(tup2)\n",
    "print(tup3)\n",
    "print(tup4)\n",
    "print(tup5)"
   ]
  },
  {
   "cell_type": "markdown",
   "metadata": {},
   "source": [
    "#### No Enclosing Delimiters\n",
    "No enclosing Delimiters is any set of multiple objects, comma-separated, written without identifying symbols, i.e., brackets for lists, parentheses for tuples, etc., default to tuples."
   ]
  },
  {
   "cell_type": "code",
   "execution_count": 2,
   "metadata": {},
   "outputs": [
    {
     "name": "stdout",
     "output_type": "stream",
     "text": [
      "<class 'tuple'>\n"
     ]
    }
   ],
   "source": [
    "a, b = 10, 15\n",
    "t = 10, 15\n",
    "print(type(t))"
   ]
  },
  {
   "cell_type": "code",
   "execution_count": 3,
   "metadata": {},
   "outputs": [
    {
     "name": "stdout",
     "output_type": "stream",
     "text": [
      "<class 'tuple'>\n",
      "<class 'tuple'>\n"
     ]
    }
   ],
   "source": [
    "# Example: Parameters and return values of a function\n",
    "import sys\n",
    "\n",
    "def func(*args):\n",
    "    print(type(args))\n",
    "    return 1, 2, 3\n",
    "\n",
    "print(type(func(\"a\", \"b\", \"c\")))"
   ]
  },
  {
   "cell_type": "markdown",
   "metadata": {},
   "source": [
    "### Basic Tuples Operations\n",
    "Tuples respond to the + and * operators much like strings; they mean concatenation and repetition here too, except that the result is a new tuple, not a string."
   ]
  },
  {
   "cell_type": "code",
   "execution_count": 4,
   "metadata": {},
   "outputs": [
    {
     "data": {
      "text/plain": [
       "(1, 2, 3, 4, 5, 6)"
      ]
     },
     "execution_count": 4,
     "metadata": {},
     "output_type": "execute_result"
    }
   ],
   "source": [
    "# Concatenation\n",
    "(1, 2, 3) + (4, 5, 6)"
   ]
  },
  {
   "cell_type": "code",
   "execution_count": 5,
   "metadata": {},
   "outputs": [
    {
     "data": {
      "text/plain": [
       "('Hi!', 'Hi!', 'Hi!', 'Hi!')"
      ]
     },
     "execution_count": 5,
     "metadata": {},
     "output_type": "execute_result"
    }
   ],
   "source": [
    "# Repetition\n",
    "('Hi!',) * 4"
   ]
  },
  {
   "cell_type": "code",
   "execution_count": 6,
   "metadata": {},
   "outputs": [
    {
     "data": {
      "text/plain": [
       "(1, 2, 3, 4, 5, 6, 7)"
      ]
     },
     "execution_count": 6,
     "metadata": {},
     "output_type": "execute_result"
    }
   ],
   "source": [
    "my_tuple = (1, 2, 3, 4, 5)\n",
    "my_tuple + (6, 7)"
   ]
  },
  {
   "cell_type": "code",
   "execution_count": 7,
   "metadata": {},
   "outputs": [
    {
     "data": {
      "text/plain": [
       "(1, 2, 3, 4, 5)"
      ]
     },
     "execution_count": 7,
     "metadata": {},
     "output_type": "execute_result"
    }
   ],
   "source": [
    "my_tuple"
   ]
  },
  {
   "cell_type": "code",
   "execution_count": 8,
   "metadata": {},
   "outputs": [
    {
     "data": {
      "text/plain": [
       "(1, 2, 3, 4, 5, 6, 7)"
      ]
     },
     "execution_count": 8,
     "metadata": {},
     "output_type": "execute_result"
    }
   ],
   "source": [
    "my_tuple += (6, 7)\n",
    "my_tuple"
   ]
  },
  {
   "cell_type": "code",
   "execution_count": 9,
   "metadata": {},
   "outputs": [
    {
     "data": {
      "text/plain": [
       "True"
      ]
     },
     "execution_count": 9,
     "metadata": {},
     "output_type": "execute_result"
    }
   ],
   "source": [
    "# Membership\n",
    "3 in my_tuple"
   ]
  },
  {
   "cell_type": "code",
   "execution_count": 10,
   "metadata": {},
   "outputs": [
    {
     "data": {
      "text/plain": [
       "False"
      ]
     },
     "execution_count": 10,
     "metadata": {},
     "output_type": "execute_result"
    }
   ],
   "source": [
    "3 not in my_tuple"
   ]
  },
  {
   "cell_type": "code",
   "execution_count": 11,
   "metadata": {},
   "outputs": [
    {
     "name": "stdout",
     "output_type": "stream",
     "text": [
      "1 2 3 4 5 6 7 "
     ]
    }
   ],
   "source": [
    "# Iteration\n",
    "for x in my_tuple:\n",
    "    print (x, end=\" \")"
   ]
  },
  {
   "cell_type": "markdown",
   "metadata": {},
   "source": [
    "### Accessing Values in Tuples (Indexing & Slicing)\n",
    "Since tuples are sequences, indexing and slicing work the same way for tuples as they do for strings/lists. To access values in tuple, use the square brackets for slicing along with the index or indices to obtain the value available at that index."
   ]
  },
  {
   "cell_type": "code",
   "execution_count": 12,
   "metadata": {},
   "outputs": [
    {
     "name": "stdout",
     "output_type": "stream",
     "text": [
      "Java\n",
      "Python\n",
      "('JavaScript', 'Perl')\n",
      "('PHP', 'Python', 'Ruby')\n",
      "('C', 'C++', 'Java', 'JavaScript', 'Perl')\n",
      "('Java', 'JavaScript', 'Perl', 'PHP')\n",
      "('C', 'C++', 'Java', 'JavaScript', 'Perl', 'PHP')\n",
      "('Java', 'JavaScript', 'Perl', 'PHP', 'Python', 'Ruby')\n",
      "('C++', 'JavaScript')\n",
      "('Python', 'PHP', 'Perl', 'JavaScript')\n",
      "('Java', 'Perl')\n",
      "('Python', 'PHP', 'Perl', 'JavaScript', 'Java')\n",
      "('Ruby', 'Python', 'PHP', 'Perl', 'JavaScript', 'Java', 'C++', 'C')\n"
     ]
    }
   ],
   "source": [
    "lang = ('C', 'C++', 'Java', 'JavaScript', 'Perl', 'PHP', 'Python', 'Ruby')\n",
    "print(lang[2])\n",
    "print(lang[-2])\n",
    "print(lang[3:5])\n",
    "print(lang[5:])\n",
    "print(lang[:5])\n",
    "print(lang[-6:-2])\n",
    "print(lang[:-2])\n",
    "print(lang[-6:])\n",
    "print(lang[1:5:2])\n",
    "print(lang[6:2:-1])\n",
    "print(lang[-6:-2:2])\n",
    "print(lang[-2:-7:-1])\n",
    "print(lang[::-1])"
   ]
  },
  {
   "cell_type": "markdown",
   "metadata": {},
   "source": [
    "### Updating Tuples\n",
    "Tuples are immutable, which means you cannot update or change the values of tuple elements.\n",
    "```python\n",
    "# Following action is not valid for tuples\n",
    "my_tuple = (1, 2, 3, 4, 5, 6, 7)\n",
    "my_tuple[2] = -3\n",
    "---------------------------------------------------------------------------\n",
    "TypeError                                 Traceback (most recent call last)\n",
    "<ipython-input-15-4f8af9e6d315> in <module>()\n",
    "      1 my_tuple = (1, 2, 3, 4, 5, 6, 7)\n",
    "----> 2 my_tuple[2] = -3\n",
    "\n",
    "TypeError: 'tuple' object does not support item assignment\n",
    "```"
   ]
  },
  {
   "cell_type": "markdown",
   "metadata": {},
   "source": [
    "### Delete Tuple Elements\n",
    "Removing individual tuple elements is not possible.\n",
    "```python\n",
    "# To explicitly remove an entire tuple, just use the del statement.\n",
    "my_tuple = (1, 2, 3, 4, 5, 6, 7)\n",
    "del my_tuple\n",
    "print (my_tuple)\n",
    "---------------------------------------------------------------------------\n",
    "NameError                                 Traceback (most recent call last)\n",
    "<ipython-input-22-205269a00501> in <module>()\n",
    "      2 my_tuple = (1, 2, 3, 4, 5, 6, 7)\n",
    "      3 del my_tuple\n",
    "----> 4 print (my_tuple)\n",
    "\n",
    "NameError: name 'my_tuple' is not defined\n",
    "```"
   ]
  },
  {
   "cell_type": "markdown",
   "metadata": {},
   "source": [
    "### Packing and Unpacking Tuples"
   ]
  },
  {
   "cell_type": "code",
   "execution_count": 13,
   "metadata": {},
   "outputs": [
    {
     "name": "stdout",
     "output_type": "stream",
     "text": [
      "1 2.5 hello! True\n"
     ]
    }
   ],
   "source": [
    "# Packing\n",
    "t = 1, 2.5, 'hello!', True\n",
    "\n",
    "# Unpacking\n",
    "w, x, y, z = t\n",
    "print(w, x, y, z)"
   ]
  },
  {
   "cell_type": "markdown",
   "metadata": {},
   "source": [
    "### Nested Tuples"
   ]
  },
  {
   "cell_type": "code",
   "execution_count": 14,
   "metadata": {},
   "outputs": [
    {
     "data": {
      "text/plain": [
       "((1, 2, 3), (4, 5, 6), (7, 8, 9))"
      ]
     },
     "execution_count": 14,
     "metadata": {},
     "output_type": "execute_result"
    }
   ],
   "source": [
    "nested_tuple = ((1, 2, 3), (4, 5, 6), (7, 8, 9))\n",
    "nested_tuple"
   ]
  },
  {
   "cell_type": "code",
   "execution_count": 15,
   "metadata": {},
   "outputs": [
    {
     "data": {
      "text/plain": [
       "8"
      ]
     },
     "execution_count": 15,
     "metadata": {},
     "output_type": "execute_result"
    }
   ],
   "source": [
    "nested_tuple[2][1]"
   ]
  },
  {
   "cell_type": "code",
   "execution_count": 16,
   "metadata": {},
   "outputs": [
    {
     "data": {
      "text/plain": [
       "(8, 9)"
      ]
     },
     "execution_count": 16,
     "metadata": {},
     "output_type": "execute_result"
    }
   ],
   "source": [
    "nested_tuple[2][1:]"
   ]
  },
  {
   "cell_type": "code",
   "execution_count": 17,
   "metadata": {},
   "outputs": [
    {
     "data": {
      "text/plain": [
       "(4, 5, 6)"
      ]
     },
     "execution_count": 17,
     "metadata": {},
     "output_type": "execute_result"
    }
   ],
   "source": [
    "nested_tuple[:2][1]"
   ]
  },
  {
   "cell_type": "code",
   "execution_count": 18,
   "metadata": {},
   "outputs": [
    {
     "data": {
      "text/plain": [
       "([1, 2, 3], [4, 5, 6], [7, 8, 9])"
      ]
     },
     "execution_count": 18,
     "metadata": {},
     "output_type": "execute_result"
    }
   ],
   "source": [
    "mixed1 = ([1, 2, 3], [4, 5, 6], [7, 8, 9])\n",
    "mixed1"
   ]
  },
  {
   "cell_type": "code",
   "execution_count": 19,
   "metadata": {},
   "outputs": [
    {
     "data": {
      "text/plain": [
       "[4, 5, 6]"
      ]
     },
     "execution_count": 19,
     "metadata": {},
     "output_type": "execute_result"
    }
   ],
   "source": [
    "mixed1[:2][1]"
   ]
  },
  {
   "cell_type": "code",
   "execution_count": 20,
   "metadata": {},
   "outputs": [
    {
     "data": {
      "text/plain": [
       "[(1, 2, 3), (4, 5, 6), (7, 8, 9)]"
      ]
     },
     "execution_count": 20,
     "metadata": {},
     "output_type": "execute_result"
    }
   ],
   "source": [
    "mixed2 = [(1, 2, 3), (4, 5, 6), (7, 8, 9)]\n",
    "mixed2"
   ]
  },
  {
   "cell_type": "code",
   "execution_count": 21,
   "metadata": {},
   "outputs": [
    {
     "data": {
      "text/plain": [
       "(4, 5, 6)"
      ]
     },
     "execution_count": 21,
     "metadata": {},
     "output_type": "execute_result"
    }
   ],
   "source": [
    "mixed2[:2][1]"
   ]
  },
  {
   "cell_type": "markdown",
   "metadata": {},
   "source": [
    "### Built-in Tuple Functions\n",
    "Python includes the following tuple functions:\n",
    "- `len(tuple)`: Gives the total length of the tuple.\n",
    "- `max(tuple)`: Returns item from the tuple with max value.\n",
    "- `min(tuple)`: Returns item from the tuple with min value.\n",
    "- `tuple(seq)`: Converts a list into tuple."
   ]
  },
  {
   "cell_type": "code",
   "execution_count": 22,
   "metadata": {},
   "outputs": [
    {
     "name": "stdout",
     "output_type": "stream",
     "text": [
      "('S', 't', 'r', 'i', 'n', 'g')\n",
      "(1, 2, 3, 4, 5, 6, 7)\n",
      "<class 'tuple'>\n",
      "7\n",
      "t\n",
      "S\n"
     ]
    }
   ],
   "source": [
    "str_tuple = tuple(\"String\")\n",
    "print(str_tuple)\n",
    "my_tuple = tuple([1, 2, 3, 4, 5, 6, 7])\n",
    "print(my_tuple)\n",
    "print(type(my_tuple))\n",
    "print(len(my_tuple))\n",
    "print(max(str_tuple))\n",
    "print(min(str_tuple))"
   ]
  },
  {
   "cell_type": "markdown",
   "metadata": {},
   "source": [
    "### Tuple Comprehension\n",
    "Tuple Comprehension is **not supported** in Python. However, generator function can accomplish the same task."
   ]
  },
  {
   "cell_type": "code",
   "execution_count": 23,
   "metadata": {},
   "outputs": [
    {
     "data": {
      "text/plain": [
       "(0, 1, 4, 9, 16, 25, 36, 49, 64, 81)"
      ]
     },
     "execution_count": 23,
     "metadata": {},
     "output_type": "execute_result"
    }
   ],
   "source": [
    "sq = tuple(x*x for x in range(10))\n",
    "sq"
   ]
  },
  {
   "cell_type": "code",
   "execution_count": 24,
   "metadata": {},
   "outputs": [
    {
     "data": {
      "text/plain": [
       "(1, 2, 4, 8, 16, 32, 64, 128, 256, 512)"
      ]
     },
     "execution_count": 24,
     "metadata": {},
     "output_type": "execute_result"
    }
   ],
   "source": [
    "pow2 = tuple(2**x for x in range(10))\n",
    "pow2"
   ]
  }
 ],
 "metadata": {
  "kernelspec": {
   "display_name": "Python 3",
   "language": "python",
   "name": "python3"
  },
  "language_info": {
   "codemirror_mode": {
    "name": "ipython",
    "version": 3
   },
   "file_extension": ".py",
   "mimetype": "text/x-python",
   "name": "python",
   "nbconvert_exporter": "python",
   "pygments_lexer": "ipython3",
   "version": "3.6.3"
  }
 },
 "nbformat": 4,
 "nbformat_minor": 1
}
