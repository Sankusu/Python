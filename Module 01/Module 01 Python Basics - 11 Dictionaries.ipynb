{
 "cells": [
  {
   "cell_type": "markdown",
   "metadata": {},
   "source": [
    "# Dictionary\n",
    "- A dictionary is a mutable, container types that can store any number or python objects.\n",
    "- They are also known as associative arrays or hash(#) tables.\n",
    "- Dictionaries consists of pairs(items) of keys and their correspondingvalues.\n",
    "- Each key is separated from its value by a colon (:), the items are separated by commas, and the whole thing is enclosed in curly braces.\n",
    "- An empty dictionary without any items is written with just two curly braces, like this: {}.\n",
    "- Keys are unique within a dictionary while values may not be.\n",
    "- The values of a dictionary can be of any type\n",
    "\n",
    "**Note:** The keys must be of an immutable data type such as strings, numbers, or tuples."
   ]
  },
  {
   "cell_type": "code",
   "execution_count": 1,
   "metadata": {},
   "outputs": [
    {
     "data": {
      "text/plain": [
       "{}"
      ]
     },
     "execution_count": 1,
     "metadata": {},
     "output_type": "execute_result"
    }
   ],
   "source": [
    "# Empty Dictionary\n",
    "my_dict = {}\n",
    "my_dict"
   ]
  },
  {
   "cell_type": "code",
   "execution_count": 2,
   "metadata": {},
   "outputs": [
    {
     "data": {
      "text/plain": [
       "{'age': 28, 'name': 'Mark'}"
      ]
     },
     "execution_count": 2,
     "metadata": {},
     "output_type": "execute_result"
    }
   ],
   "source": [
    "my_dict = {}\n",
    "my_dict[\"name\"] = \"Mark\"\n",
    "my_dict[\"age\"] = 28\n",
    "my_dict"
   ]
  },
  {
   "cell_type": "code",
   "execution_count": 3,
   "metadata": {},
   "outputs": [
    {
     "data": {
      "text/plain": [
       "{'age': 25, 'name': 'Mark'}"
      ]
     },
     "execution_count": 3,
     "metadata": {},
     "output_type": "execute_result"
    }
   ],
   "source": [
    "# Using list of tuples or any iterable of (key, value) pairs\n",
    "my_dict = dict([(\"name\", \"Mark\"), (\"age\", 25)])\n",
    "my_dict"
   ]
  },
  {
   "cell_type": "code",
   "execution_count": 4,
   "metadata": {},
   "outputs": [
    {
     "data": {
      "text/plain": [
       "{'a': 1, 'b': 2, 'c': 3}"
      ]
     },
     "execution_count": 4,
     "metadata": {},
     "output_type": "execute_result"
    }
   ],
   "source": [
    "keys = ['a', 'b', 'c']\n",
    "values = [1, 2, 3]\n",
    "my_dict = {}\n",
    "for i in range(len(keys)):\n",
    "    my_dict[keys[i]] = values[i]\n",
    "my_dict"
   ]
  },
  {
   "cell_type": "code",
   "execution_count": 5,
   "metadata": {},
   "outputs": [
    {
     "data": {
      "text/plain": [
       "{1: ('String1', 'String2'), '101': 22, 2.5: 'DATA', 'j': [8.05, 10]}"
      ]
     },
     "execution_count": 5,
     "metadata": {},
     "output_type": "execute_result"
    }
   ],
   "source": [
    "# Mixed data types in the Dictionary\n",
    "my_dict = {1: ('String1', \"String2\"), '101': 22, 2.5: 'DATA', \"j\": [8.05, 10]}\n",
    "my_dict"
   ]
  },
  {
   "cell_type": "code",
   "execution_count": 6,
   "metadata": {},
   "outputs": [
    {
     "data": {
      "text/plain": [
       "{'Age': 22, 'Attendance': 88.5, 'Class': 'SE', 'Name': 'Mark', 'Present': True}"
      ]
     },
     "execution_count": 6,
     "metadata": {},
     "output_type": "execute_result"
    }
   ],
   "source": [
    "my_dict = {'Name': 'Mark', 'Age': 22, 'Class': 'SE', 'Attendance': 88.5, 'Present': True}\n",
    "my_dict"
   ]
  },
  {
   "cell_type": "markdown",
   "metadata": {},
   "source": [
    "### The `zip()` function\n",
    "The `zip()` function takes two equal-length sequences, and merges them together in pairs. It produces `(seq_a_value_x, seq_b_value_x)` pair."
   ]
  },
  {
   "cell_type": "code",
   "execution_count": 7,
   "metadata": {},
   "outputs": [
    {
     "data": {
      "text/plain": [
       "{'a': 1, 'b': 2, 'c': 3}"
      ]
     },
     "execution_count": 7,
     "metadata": {},
     "output_type": "execute_result"
    }
   ],
   "source": [
    "keys = ['a', 'b', 'c']\n",
    "values = [1, 2, 3]\n",
    "zip_dict = dict(zip(keys, values))\n",
    "zip_dict"
   ]
  },
  {
   "cell_type": "code",
   "execution_count": 8,
   "metadata": {},
   "outputs": [
    {
     "data": {
      "text/plain": [
       "True"
      ]
     },
     "execution_count": 8,
     "metadata": {},
     "output_type": "execute_result"
    }
   ],
   "source": [
    "# 'in' (Membership operator) checks for the presence of a key in a dictionary\n",
    "\"Name\" in my_dict"
   ]
  },
  {
   "cell_type": "code",
   "execution_count": 9,
   "metadata": {},
   "outputs": [
    {
     "data": {
      "text/plain": [
       "False"
      ]
     },
     "execution_count": 9,
     "metadata": {},
     "output_type": "execute_result"
    }
   ],
   "source": [
    "# 'not in' (Membership operator) checks for the absence of a key in a dictionary\n",
    "\"Name\" not in my_dict"
   ]
  },
  {
   "cell_type": "markdown",
   "metadata": {},
   "source": [
    "### Built-in Dictionary Functions\n",
    "- `len(dict)`: Gives the total length of the dictionary. This would be equal to the number of items in the dictionary.\n",
    "- `str(dict)`: Produces a printable string representation of a dictionary\n",
    "- `type(variable)`: Returns the type of the passed variable."
   ]
  },
  {
   "cell_type": "code",
   "execution_count": 10,
   "metadata": {},
   "outputs": [
    {
     "name": "stdout",
     "output_type": "stream",
     "text": [
      "3\n",
      "<class 'dict'>\n",
      "{'Name': 'Mark', 'Age': 22, 'Class': 'SE'}\n"
     ]
    },
    {
     "data": {
      "text/plain": [
       "\"{'Name': 'Mark', 'Age': 22, 'Class': 'SE'}\""
      ]
     },
     "execution_count": 10,
     "metadata": {},
     "output_type": "execute_result"
    }
   ],
   "source": [
    "my_dict = {'Name': 'Mark', 'Age': 22, 'Class': 'SE'}\n",
    "print(len(my_dict))\n",
    "print(type(my_dict))\n",
    "print(my_dict)\n",
    "dict_str = str(my_dict)\n",
    "dict_str"
   ]
  },
  {
   "cell_type": "markdown",
   "metadata": {},
   "source": [
    "### Built-in Dictionary Methods\n",
    "- `dict.clear()`: Removes all elements of dictionary dict\n",
    "- `dict.copy()`: Returns a shallow copy of dictionary dict\n",
    "- `dict.fromkeys(seq[, value])`: Create a new dictionary with keys from seq and values set to value.\n",
    "- `dict.get(key, default=None)`: For key key, returns value or default if key not in dictionary\n",
    "- `dict.items()`: Returns a list of dict's (key, value) tuple pairs\n",
    "- `dict.keys()`: Returns list of dictionary dict's keys\n",
    "- `dict.values()`: Returns list of dictionary dict's values\n",
    "- `dict.setdefault(key, default = None)`: Similar to get(), but will set dict[key] = default if key is not already in dict\n",
    "- `dict.update(dict2)`: Adds dictionary dict2's key-values pairs to dict"
   ]
  },
  {
   "cell_type": "code",
   "execution_count": 11,
   "metadata": {},
   "outputs": [
    {
     "name": "stdout",
     "output_type": "stream",
     "text": [
      "dict_keys(['Name', 'Age', 'Class', 'Attendance', 'Present'])\n",
      "dict_values(['Mark', 22, 'SE', 88.5, True])\n",
      "dict_items([('Name', 'Mark'), ('Age', 22), ('Class', 'SE'), ('Attendance', 88.5), ('Present', True)])\n"
     ]
    }
   ],
   "source": [
    "my_dict = {'Name': 'Mark', 'Age': 22, 'Class': 'SE', 'Attendance': 88.5, 'Present': True}\n",
    "print(my_dict.keys())\n",
    "print(my_dict.values())\n",
    "print(my_dict.items())"
   ]
  },
  {
   "cell_type": "code",
   "execution_count": 12,
   "metadata": {},
   "outputs": [
    {
     "name": "stdout",
     "output_type": "stream",
     "text": [
      "22\n",
      "None\n"
     ]
    }
   ],
   "source": [
    "print(my_dict.get('Age'))\n",
    "print(my_dict.get('Gender'))"
   ]
  },
  {
   "cell_type": "code",
   "execution_count": 13,
   "metadata": {},
   "outputs": [
    {
     "name": "stdout",
     "output_type": "stream",
     "text": [
      "22\n",
      "None\n",
      "{'Name': 'Mark', 'Age': 22, 'Class': 'SE', 'Attendance': 88.5, 'Present': True, 'Gender': None}\n"
     ]
    }
   ],
   "source": [
    "print(my_dict.setdefault('Age'))\n",
    "print(my_dict.setdefault('Gender'))\n",
    "print(my_dict)"
   ]
  },
  {
   "cell_type": "code",
   "execution_count": 14,
   "metadata": {},
   "outputs": [
    {
     "name": "stdout",
     "output_type": "stream",
     "text": [
      "{'Name': 'Mark', 'Age': 22, 'Class': 'SE', 'Attendance': 88.5, 'Present': True, 'Gender': None, 'Div': 'A'}\n"
     ]
    }
   ],
   "source": [
    "my_dict2 = {'Div': 'A'}\n",
    "\n",
    "my_dict.update(my_dict2)\n",
    "print(my_dict)"
   ]
  },
  {
   "cell_type": "code",
   "execution_count": 15,
   "metadata": {},
   "outputs": [
    {
     "name": "stdout",
     "output_type": "stream",
     "text": [
      "{'Name': 'Mark', 'Age': 22, 'Class': 'SE', 'Attendance': 88.5, 'Present': True, 'Gender': None, 'Div': 'A'}\n",
      "{}\n"
     ]
    }
   ],
   "source": [
    "back_dict = my_dict.copy()\n",
    "print(back_dict)\n",
    "back_dict.clear()                  # remove all entries in dict\n",
    "print(back_dict)"
   ]
  },
  {
   "cell_type": "code",
   "execution_count": 16,
   "metadata": {},
   "outputs": [
    {
     "name": "stdout",
     "output_type": "stream",
     "text": [
      "{1: None, 2: None, 3: None, 4: None, 5: None, 6: None}\n",
      "{1: 10, 2: 10, 3: 10, 4: 10, 5: 10, 6: 10}\n"
     ]
    }
   ],
   "source": [
    "seq = [1, 2, 3, 4, 5, 6]\n",
    "\n",
    "my_dict = dict.fromkeys(seq)\n",
    "print(my_dict)\n",
    "\n",
    "my_dict = dict.fromkeys(seq, 10)\n",
    "print(my_dict)"
   ]
  },
  {
   "cell_type": "markdown",
   "metadata": {},
   "source": [
    "### Accessing Values in Dictionary\n",
    "To access dictionary elements, you can use the familiar square brackets along with the key to obtain its value."
   ]
  },
  {
   "cell_type": "code",
   "execution_count": 17,
   "metadata": {},
   "outputs": [
    {
     "data": {
      "text/plain": [
       "'Mark'"
      ]
     },
     "execution_count": 17,
     "metadata": {},
     "output_type": "execute_result"
    }
   ],
   "source": [
    "my_dict = {'Name': 'Mark', 'Age': 22, 'Class': 'SE', 'Attendance': 88.5, 'Present': True}\n",
    "my_dict['Name']"
   ]
  },
  {
   "cell_type": "markdown",
   "metadata": {},
   "source": [
    "### Updating Dictionary\n",
    "A dictionary can be updated by adding a new entry or a key-value pair, modifying an existing entry, or deleting an existing entry."
   ]
  },
  {
   "cell_type": "code",
   "execution_count": 18,
   "metadata": {},
   "outputs": [
    {
     "data": {
      "text/plain": [
       "{'Age': 23, 'Class': 'SE', 'College': 'SJCEM', 'Name': 'Mark'}"
      ]
     },
     "execution_count": 18,
     "metadata": {},
     "output_type": "execute_result"
    }
   ],
   "source": [
    "my_dict = {'Name': 'Mark', 'Age': 22, 'Class': 'SE'}\n",
    "my_dict['Age'] = 23             # update existing entry\n",
    "my_dict['College'] = \"SJCEM\"    # Add new entry\n",
    "my_dict"
   ]
  },
  {
   "cell_type": "markdown",
   "metadata": {},
   "source": [
    "### Delete Dictionary Elements\n",
    "You can either remove individual dictionary elements or clear the entire contents of a dictionary. You can also delete entire dictionary in a single operation.\n",
    "To explicitly remove an entire dictionary, just use the del statement."
   ]
  },
  {
   "cell_type": "code",
   "execution_count": 19,
   "metadata": {},
   "outputs": [
    {
     "name": "stdout",
     "output_type": "stream",
     "text": [
      "{'Age': 22, 'Class': 'SE'}\n"
     ]
    }
   ],
   "source": [
    "my_dict = {'Name': 'Mark', 'Age': 22, 'Class': 'SE'}\n",
    "del my_dict['Name']              # remove entry with key 'Name'\n",
    "print(my_dict)\n",
    "del my_dict                      # delete entire dictionary"
   ]
  },
  {
   "cell_type": "markdown",
   "metadata": {},
   "source": [
    "### Properties of Dictionary Keys\n",
    "- Dictionary values have no restrictions.\n",
    "- They can be any arbitrary Python object, either standard objects or user-defined objects.\n",
    "- However, same is not true for the keys.\n",
    "\n",
    "There are two important points to remember about dictionary keys −\n",
    "- More than one entry per key is not allowed. This means no duplicate key is allowed. When duplicate keys are encountered during assignment, the last assignment wins.\n",
    "\n",
    "```python\n",
    ">>> my_dict = {'Name': 'Mark', 'Age': 23, 'Name': 'Bill'}\n",
    ">>> my_dict['Name']\n",
    "'Bill'\n",
    "```\n",
    "- Keys must be immutable. This means you can use strings, numbers or tuples as dictionary keys but something like ['key'] is not allowed.\n",
    "\n",
    "```python\n",
    ">>> my_dict = {['Name']: 'Mark', 'Age': 23}\n",
    "---------------------------------------------------------------------------\n",
    "TypeError                                 Traceback (most recent call last)\n",
    "<ipython-input-9-b7f1d0461caa> in <module>()\n",
    "----> 1 my_dict = {['Name']: 'Mark', 'Age': 23}\n",
    "\n",
    "TypeError: unhashable type: 'list'\n",
    "```"
   ]
  },
  {
   "cell_type": "markdown",
   "metadata": {},
   "source": [
    "### Dictionary Comprehension"
   ]
  },
  {
   "cell_type": "code",
   "execution_count": 20,
   "metadata": {},
   "outputs": [
    {
     "data": {
      "text/plain": [
       "{0: 0, 1: 1, 2: 4, 3: 9, 4: 16}"
      ]
     },
     "execution_count": 20,
     "metadata": {},
     "output_type": "execute_result"
    }
   ],
   "source": [
    "sq_dict = {n: n**2 for n in range(5)}\n",
    "sq_dict"
   ]
  },
  {
   "cell_type": "code",
   "execution_count": 21,
   "metadata": {
    "scrolled": true
   },
   "outputs": [
    {
     "data": {
      "text/plain": [
       "{'t1': 5.0, 't2': -20.0, 't3': -25.0, 't4': -40.0}"
      ]
     },
     "execution_count": 21,
     "metadata": {},
     "output_type": "execute_result"
    }
   ],
   "source": [
    "# Initialize the 'fahrenheit' dictionary \n",
    "f = {'t1': 41.0, 't2': -4.0, 't3': -13.0, 't4': -40.0}\n",
    "\n",
    "# Get the corresponding 'celsius' values and create the new dictionary\n",
    "c = {k: 5/9*(v-32) for (k,v) in f.items()}\n",
    "c"
   ]
  },
  {
   "cell_type": "code",
   "execution_count": 22,
   "metadata": {},
   "outputs": [
    {
     "data": {
      "text/plain": [
       "{1: 'a', 2: 'b', 3: 'c'}"
      ]
     },
     "execution_count": 22,
     "metadata": {},
     "output_type": "execute_result"
    }
   ],
   "source": [
    "# Using the zip() function\n",
    "keys = [1, 2, 3]\n",
    "values = ['a', 'b', 'c']\n",
    "zip_dict = {k: v for (k, v) in zip(keys, values)}\n",
    "zip_dict"
   ]
  },
  {
   "cell_type": "markdown",
   "metadata": {},
   "source": [
    "## `**` Dictionary Unpacking Operator\n",
    "Unpacks the contents of a dictionary into the function call.\n",
    "\n",
    "**Syntax:**\n",
    "```python\n",
    "function(**dict)\n",
    "```"
   ]
  },
  {
   "cell_type": "code",
   "execution_count": 23,
   "metadata": {},
   "outputs": [
    {
     "name": "stdout",
     "output_type": "stream",
     "text": [
      "Ouput: 16\n"
     ]
    }
   ],
   "source": [
    "# A sample program to demonstrate unpacking\n",
    "def unpack(a, b, c):\n",
    "    print(\"Ouput:\", a+b+c)\n",
    "\n",
    "my_dict = {'a': 2, 'b': 4, 'c': 10}\n",
    "unpack(**my_dict)"
   ]
  },
  {
   "cell_type": "code",
   "execution_count": 24,
   "metadata": {},
   "outputs": [
    {
     "name": "stdout",
     "output_type": "stream",
     "text": [
      "('name', 'Mark')\n",
      "('age', '28')\n"
     ]
    }
   ],
   "source": [
    "def pack(**kwargs):\n",
    "    for items in kwargs.items():\n",
    "        print(items)\n",
    "\n",
    "pack(name=\"Mark\", age=\"28\")"
   ]
  },
  {
   "cell_type": "code",
   "execution_count": 25,
   "metadata": {},
   "outputs": [
    {
     "data": {
      "text/plain": [
       "'Hi, my name is Mark!'"
      ]
     },
     "execution_count": 25,
     "metadata": {},
     "output_type": "execute_result"
    }
   ],
   "source": [
    "my_dict = {'name': 'Mark'}\n",
    "\"Hi, my name is {name}!\".format(**my_dict)"
   ]
  },
  {
   "cell_type": "markdown",
   "metadata": {},
   "source": [
    "## Examples"
   ]
  },
  {
   "cell_type": "code",
   "execution_count": 26,
   "metadata": {},
   "outputs": [
    {
     "name": "stdout",
     "output_type": "stream",
     "text": [
      "(105, 'B')\n",
      "(99, 'C')\n",
      "[(99, 'C'), (101, 'A'), (105, 'B')]\n"
     ]
    }
   ],
   "source": [
    "stocks = {\n",
    "    'A': 101,\n",
    "    'B': 105,\n",
    "    'C': 99\n",
    "}\n",
    "\n",
    "print(max(zip(stocks.values(), stocks.keys())))\n",
    "print(min(zip(stocks.values(), stocks.keys())))\n",
    "print(sorted(zip(stocks.values(), stocks.keys())))"
   ]
  }
 ],
 "metadata": {
  "kernelspec": {
   "display_name": "Python 3",
   "language": "python",
   "name": "python3"
  },
  "language_info": {
   "codemirror_mode": {
    "name": "ipython",
    "version": 3
   },
   "file_extension": ".py",
   "mimetype": "text/x-python",
   "name": "python",
   "nbconvert_exporter": "python",
   "pygments_lexer": "ipython3",
   "version": "3.6.3"
  }
 },
 "nbformat": 4,
 "nbformat_minor": 1
}
