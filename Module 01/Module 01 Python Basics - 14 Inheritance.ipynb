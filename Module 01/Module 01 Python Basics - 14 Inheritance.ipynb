{
 "cells": [
  {
   "cell_type": "markdown",
   "metadata": {},
   "source": [
    "# Class Inheritance\n",
    "Instead of starting from a scratch, you can create a class by deriving it from a pre-existing class by listing the parent class in parentheses after the new class name.\n",
    "\n",
    "The child class inherits the attributes of its parent class, and you can use those attributes as if they were defined in the child class. A child class can also override data members and methods from the parent.\n",
    "\n",
    "Derived classes are declared much like their parent class; however, a list of base classes to inherit from is given after the class name.\n",
    "\n",
    "**Syntax:**\n",
    "```python\n",
    "class SubClassName(ParentClass1[, ParentClass2, ...]):\n",
    "    \"\"\"Optional class documentation string\"\"\"\n",
    "    class_suite\n",
    "```"
   ]
  },
  {
   "cell_type": "code",
   "execution_count": 1,
   "metadata": {},
   "outputs": [],
   "source": [
    "class Parent:                 \n",
    "    \n",
    "    # define parent class\n",
    "    parentAttr = 100\n",
    "    \n",
    "    def __init__(self):\n",
    "        print(\"Calling parent constructor\")\n",
    "    \n",
    "    def parentMethod(self):\n",
    "        print('Calling parent method')\n",
    "    \n",
    "    def setAttr(self, attr):\n",
    "        Parent.parentAttr = attr\n",
    "    \n",
    "    def getAttr(self):\n",
    "        print(\"Parent attribute :\", Parent.parentAttr)"
   ]
  },
  {
   "cell_type": "code",
   "execution_count": 2,
   "metadata": {},
   "outputs": [],
   "source": [
    "class Child(Parent):         # define child class\n",
    "    \n",
    "    def __init__(self):\n",
    "        print(\"Calling child constructor\")\n",
    "    \n",
    "    def childMethod(self):\n",
    "        print('Calling child method')"
   ]
  },
  {
   "cell_type": "code",
   "execution_count": 3,
   "metadata": {},
   "outputs": [
    {
     "name": "stdout",
     "output_type": "stream",
     "text": [
      "Calling child constructor\n",
      "Calling child method\n",
      "Calling parent method\n",
      "Parent attribute : 100\n",
      "Parent attribute : 200\n"
     ]
    }
   ],
   "source": [
    "c = Child()                  # instance of child\n",
    "c.childMethod()              # child calls its method\n",
    "c.parentMethod()             # calls parent's method\n",
    "c.getAttr()                  # again call parent's method\n",
    "c.setAttr(200)               # again call parent's method\n",
    "c.getAttr()                  # again call parent's method"
   ]
  },
  {
   "cell_type": "code",
   "execution_count": 4,
   "metadata": {},
   "outputs": [
    {
     "name": "stdout",
     "output_type": "stream",
     "text": [
      "Calling parent constructor\n",
      "Parent attribute : 200\n"
     ]
    }
   ],
   "source": [
    "p = Parent()                 # instance of parent\n",
    "p.getAttr()                  # again call parent's method"
   ]
  },
  {
   "cell_type": "markdown",
   "metadata": {},
   "source": [
    "## Multiple Inheritance\n",
    "In a similar way, you can drive a class from multiple parent classes as follows −\n",
    "```python\n",
    "class A:         # define your class A\n",
    "    # .....\n",
    "\n",
    "class B:         # define your calss B\n",
    "    # .....\n",
    "\n",
    "class C(A, B):   # subclass of A and B\n",
    "    # .....\n",
    "```\n",
    "`issubclass()` or `isinstance()` functions can be used to check a relationships of two classes and instances.\n",
    "\n",
    "The `issubclass(sub, sup)` is a boolean function which returns `True`, if the given subclass `sub` is indeed a subclass of the superclass `sup`.\n",
    "\n",
    "The `isinstance(obj, Class)` is a boolean function which returns `True`, if `obj` is an instance of class `Class` or is an instance of a subclass of `Class`"
   ]
  },
  {
   "cell_type": "code",
   "execution_count": 5,
   "metadata": {},
   "outputs": [],
   "source": [
    "class Father:                 \n",
    "    \n",
    "    fatherAttr = 1\n",
    "    attr = 9\n",
    "    \n",
    "    def __init__(self):\n",
    "        print(\"Calling father constructor\")\n",
    "    \n",
    "    def fatherMethod(self):\n",
    "        print('Calling father method')\n",
    "    \n",
    "    def setAttr(self, attr):\n",
    "        Father.fatherAttr = attr\n",
    "    \n",
    "    def getAttr(self):\n",
    "        print(\"Father attribute :\", Father.fatherAttr)"
   ]
  },
  {
   "cell_type": "code",
   "execution_count": 6,
   "metadata": {},
   "outputs": [],
   "source": [
    "class Mother:\n",
    "    \n",
    "    motherAttr = -1\n",
    "    attr = -9\n",
    "    \n",
    "    def __init__(self):\n",
    "        print(\"Calling mother constructor\")\n",
    "    \n",
    "    def motherMethod(self):\n",
    "        print('Calling mother method')\n",
    "    \n",
    "    def setAttr(self, attr):\n",
    "        Mother.motherAttr = attr\n",
    "    \n",
    "    def getAttr(self):\n",
    "        print(\"Mother attribute :\", Mother.motherAttr)"
   ]
  },
  {
   "cell_type": "code",
   "execution_count": 7,
   "metadata": {},
   "outputs": [],
   "source": [
    "class Child(Father, Mother):         # define child class\n",
    "\n",
    "    def __init__(self):\n",
    "        print(\"Calling child constructor\")\n",
    "    \n",
    "    def childMethod(self):\n",
    "        print('Calling child method')"
   ]
  },
  {
   "cell_type": "code",
   "execution_count": 8,
   "metadata": {},
   "outputs": [
    {
     "name": "stdout",
     "output_type": "stream",
     "text": [
      "Calling child constructor\n",
      "Calling child method\n",
      "Calling father method\n",
      "Calling mother method\n"
     ]
    }
   ],
   "source": [
    "c = Child()                  # instance of child\n",
    "c.childMethod()              # child calls its method\n",
    "c.fatherMethod()             # calls father's method\n",
    "c.motherMethod()             # calls mother's method"
   ]
  },
  {
   "cell_type": "code",
   "execution_count": 9,
   "metadata": {},
   "outputs": [
    {
     "name": "stdout",
     "output_type": "stream",
     "text": [
      "1\n",
      "-1\n"
     ]
    }
   ],
   "source": [
    "print(c.fatherAttr)\n",
    "print(c.motherAttr)"
   ]
  },
  {
   "cell_type": "code",
   "execution_count": 10,
   "metadata": {},
   "outputs": [
    {
     "name": "stdout",
     "output_type": "stream",
     "text": [
      "9\n"
     ]
    }
   ],
   "source": [
    "# When attributes have same names, the attribute from the first class will be used\n",
    "print(c.attr)"
   ]
  },
  {
   "cell_type": "code",
   "execution_count": 11,
   "metadata": {},
   "outputs": [
    {
     "name": "stdout",
     "output_type": "stream",
     "text": [
      "Father attribute : 1\n",
      "Father attribute : 0\n"
     ]
    }
   ],
   "source": [
    "# When methods have same names, the method from the first class will be called\n",
    "c.getAttr()                  # calls father's method\n",
    "c.setAttr(0)                 # calls father's method\n",
    "c.getAttr()                  # calls father's method"
   ]
  },
  {
   "cell_type": "code",
   "execution_count": 12,
   "metadata": {},
   "outputs": [
    {
     "name": "stdout",
     "output_type": "stream",
     "text": [
      "Calling father constructor\n",
      "Father attribute : 0\n"
     ]
    }
   ],
   "source": [
    "f = Father()                 # instance of father\n",
    "f.getAttr()                  # again call father's method"
   ]
  },
  {
   "cell_type": "code",
   "execution_count": 13,
   "metadata": {},
   "outputs": [
    {
     "name": "stdout",
     "output_type": "stream",
     "text": [
      "Calling mother constructor\n",
      "Mother attribute : -1\n"
     ]
    }
   ],
   "source": [
    "m = Mother()                 # instance of mother\n",
    "m.getAttr()                  # again call mother's method"
   ]
  },
  {
   "cell_type": "markdown",
   "metadata": {},
   "source": [
    "## Overriding Methods\n",
    "Parent class methods can be always overridden. One reason for overriding parent's methods is that the user may want special or different functionality in the subclass."
   ]
  },
  {
   "cell_type": "code",
   "execution_count": 14,
   "metadata": {},
   "outputs": [],
   "source": [
    "class Parent:             # define parent class\n",
    "    \n",
    "    def myMethod(self):\n",
    "        print('Calling parent method')\n",
    "\n",
    "\n",
    "class Child(Parent):      # define child class\n",
    "    \n",
    "    def myMethod(self):\n",
    "        print('Calling child method')"
   ]
  },
  {
   "cell_type": "code",
   "execution_count": 15,
   "metadata": {},
   "outputs": [
    {
     "name": "stdout",
     "output_type": "stream",
     "text": [
      "Calling parent method\n"
     ]
    }
   ],
   "source": [
    "p = Parent()              # instance of parent\n",
    "p.myMethod()              # parent called method"
   ]
  },
  {
   "cell_type": "code",
   "execution_count": 16,
   "metadata": {},
   "outputs": [
    {
     "name": "stdout",
     "output_type": "stream",
     "text": [
      "Calling child method\n"
     ]
    }
   ],
   "source": [
    "c = Child()               # instance of child\n",
    "c.myMethod()              # child calls overridden method"
   ]
  },
  {
   "cell_type": "markdown",
   "metadata": {},
   "source": [
    "## The `super()` function\n",
    "Returns a proxy object that delegates method calls to a parent or sibling class of type. This is useful for accessing inherited methods that have been overridden in a class.\n",
    "\n",
    "\n",
    "In Python, super() built-in has two major use cases:\n",
    "- Allows us to avoid using base class explicitly in case of Single Inheritance\n",
    "- Working with Multiple Inheritance"
   ]
  },
  {
   "cell_type": "markdown",
   "metadata": {},
   "source": [
    "### `super()` function with single inheritance"
   ]
  },
  {
   "cell_type": "code",
   "execution_count": 17,
   "metadata": {},
   "outputs": [],
   "source": [
    "class Base():\n",
    "    def __init__(self):\n",
    "        print('Base.__init__(self) called')\n",
    "\n",
    "\n",
    "# Referring the base class by using ClassName\n",
    "class UnSuperChild(Base):\n",
    "    def __init__(self):\n",
    "        print('UnSuperChild.__init__(self) called')\n",
    "        Base.__init__(self)\n",
    "\n",
    "\n",
    "# Allows us to refer base class by super().\n",
    "class SuperChild(Base):\n",
    "    def __init__(self):\n",
    "        print('SuperChild.__init__(self) called')\n",
    "        super().__init__()"
   ]
  },
  {
   "cell_type": "code",
   "execution_count": 18,
   "metadata": {},
   "outputs": [
    {
     "name": "stdout",
     "output_type": "stream",
     "text": [
      "UnSuperChild.__init__(self) called\n",
      "Base.__init__(self) called\n"
     ]
    }
   ],
   "source": [
    "u = UnSuperChild()"
   ]
  },
  {
   "cell_type": "code",
   "execution_count": 19,
   "metadata": {},
   "outputs": [
    {
     "name": "stdout",
     "output_type": "stream",
     "text": [
      "SuperChild.__init__(self) called\n",
      "Base.__init__(self) called\n"
     ]
    }
   ],
   "source": [
    "s = SuperChild()"
   ]
  },
  {
   "cell_type": "markdown",
   "metadata": {},
   "source": [
    "### `super()` function with multiple inheritance"
   ]
  },
  {
   "cell_type": "code",
   "execution_count": 20,
   "metadata": {},
   "outputs": [],
   "source": [
    "class A:\n",
    "    def __init__(self):\n",
    "        print(\"A\")\n",
    "\n",
    "class B(A):\n",
    "    def __init__(self):\n",
    "        print(\"B\")\n",
    "        super().__init__()\n",
    "\n",
    "class C(A):\n",
    "    def __init__(self):\n",
    "        print(\"C\")\n",
    "        super().__init__()\n",
    "\n",
    "class D(B, C):\n",
    "    def __init__(self):\n",
    "        print(\"D\")\n",
    "        super().__init__()"
   ]
  },
  {
   "cell_type": "code",
   "execution_count": 21,
   "metadata": {},
   "outputs": [
    {
     "name": "stdout",
     "output_type": "stream",
     "text": [
      "D\n",
      "B\n",
      "C\n",
      "A\n"
     ]
    }
   ],
   "source": [
    "d = D()"
   ]
  },
  {
   "cell_type": "markdown",
   "metadata": {},
   "source": [
    "### Method Resolution Order (MRO)\n",
    "- It's the order in which method should be inherited in the presence of multiple inheritance.\n",
    "- `ClassName.__mro__` is the tuple consisting of: the class, its base, its base's base, and so on up to object."
   ]
  },
  {
   "cell_type": "code",
   "execution_count": 22,
   "metadata": {},
   "outputs": [
    {
     "data": {
      "text/plain": [
       "(__main__.D, __main__.B, __main__.C, __main__.A, object)"
      ]
     },
     "execution_count": 22,
     "metadata": {},
     "output_type": "execute_result"
    }
   ],
   "source": [
    "D.__mro__"
   ]
  },
  {
   "cell_type": "markdown",
   "metadata": {},
   "source": [
    "## No Method Overloading\n",
    "Python does **NOT** traditional method overloading.\n",
    "\n",
    "However, there are ways to simulate method overloading in python:\n",
    "1. upack operator `*` can be used for implementing variable length arguments to a method.\n",
    "2. default value of the arguments can set to `None`."
   ]
  },
  {
   "cell_type": "markdown",
   "metadata": {},
   "source": [
    "## Polymorphism\n",
    "Polymorphism is an important feature of class definition in Python that is utilized when you have commonly named methods across classes or subclasses. This allows functions to use objects of any of these polymorphic classes without needing to be aware of distinctions across the classes.\n",
    "\n",
    "Polymorphism can be carried out through inheritance, with subclasses making use of base class methods or overriding them."
   ]
  },
  {
   "cell_type": "code",
   "execution_count": 23,
   "metadata": {},
   "outputs": [],
   "source": [
    "# Duck typing in Python\n",
    "\n",
    "class Tiger(object):\n",
    "    \n",
    "    def sound(self):\n",
    "        print(\"Tiger Roars\")\n",
    "\n",
    "class Dog(object):\n",
    "    \n",
    "    def sound(self):\n",
    "        print(\"Dog Barks\")"
   ]
  },
  {
   "cell_type": "code",
   "execution_count": 24,
   "metadata": {},
   "outputs": [],
   "source": [
    "t = Tiger()\n",
    "d = Dog()"
   ]
  },
  {
   "cell_type": "code",
   "execution_count": 25,
   "metadata": {},
   "outputs": [],
   "source": [
    "def makeSound(animal):\n",
    "    animal.sound()"
   ]
  },
  {
   "cell_type": "code",
   "execution_count": 26,
   "metadata": {},
   "outputs": [
    {
     "name": "stdout",
     "output_type": "stream",
     "text": [
      "Tiger Roars\n",
      "Dog Barks\n"
     ]
    }
   ],
   "source": [
    "makeSound(t)\n",
    "makeSound(d)"
   ]
  },
  {
   "cell_type": "code",
   "execution_count": 27,
   "metadata": {},
   "outputs": [],
   "source": [
    "# Polymorphism using Abstract Classes\n",
    "\n",
    "from abc import ABC, abstractmethod\n",
    "\n",
    "class Vehicle(ABC):\n",
    "    \n",
    "    def __init__(self, name):    \n",
    "        self.name = name\n",
    "    \n",
    "    @abstractmethod\n",
    "    def drive(self):\n",
    "        pass\n",
    "    \n",
    "    @abstractmethod\n",
    "    def stop(self):\n",
    "        pass\n",
    "\n",
    "\n",
    "class Car(Vehicle):\n",
    "    \n",
    "    def drive(self):\n",
    "        return 'Car driving!'\n",
    " \n",
    "    def stop(self):\n",
    "        return 'Car braking!'\n",
    "\n",
    "\n",
    "class Truck(Vehicle):\n",
    "    \n",
    "    def drive(self):\n",
    "        return 'Truck driving!'\n",
    " \n",
    "    def stop(self):\n",
    "        return 'Truck braking!'"
   ]
  },
  {
   "cell_type": "code",
   "execution_count": 28,
   "metadata": {},
   "outputs": [
    {
     "name": "stdout",
     "output_type": "stream",
     "text": [
      "Tata Truck driving!\n",
      "Mahindra Truck driving!\n",
      "Honda Car driving!\n"
     ]
    }
   ],
   "source": [
    "vehicles = [Truck('Tata'), Truck('Mahindra'), Car('Honda')]\n",
    " \n",
    "for vehicle in vehicles:\n",
    "    print(vehicle.name + \" \" + vehicle.drive())"
   ]
  },
  {
   "cell_type": "markdown",
   "metadata": {},
   "source": [
    "## Operator Overloading in Python\n",
    "Suppose you have created a Vector class to represent two-dimensional vectors. What happens when you use the plus operator to add them? Most likely Python will yell at you.\n",
    "- `__init__(self [, args...])`: Constructor (with any optional arguments)\n",
    "- `__del__(self)`: Destructor, deletes an object\n",
    "- `__repr__(self)`: Evaluatable string representation\n",
    "- `__str__(self)`: Printable string representation `str()`\n",
    "- `__add__(self, other)`: Addition `+`\n",
    "- `__mul__(self, other)`: Multiplication `*`\n",
    "- `__sub__(self, other)`: Subtraction `-`\n",
    "- `__mod__(self, other)`: Remainder `%`\n",
    "- `__truediv__(self, other)`: Division `/`\n",
    "- `__lt__(self, other)`: Less than `<`\n",
    "- `__le__(self, other)`: Less than or equal to `<=`\n",
    "- `__eq__(self, other)`: Equal to `==`\n",
    "- `__ne__(self, other)`: Not equal to `!=`\n",
    "- `__gt__(self, other)`: Greater than `>`\n",
    "- `__ge__(self, other)`: Greater than or equal to `>=`\n",
    "- `__getitem__(self, index)`: Index operator `[index]`\n",
    "- `__contains__(self, value)`: Check membership `in`\n",
    "- `__len__(self)`: The number of elements `len()`"
   ]
  },
  {
   "cell_type": "code",
   "execution_count": 29,
   "metadata": {},
   "outputs": [],
   "source": [
    "class Circle:\n",
    " \n",
    "    def __init__(self, radius):\n",
    "        self.__radius = radius\n",
    " \n",
    "    def getRadius(self):\n",
    "        return self.__radius\n",
    " \n",
    "    def __add__(self, another_circle):\n",
    "        return Circle( self.__radius + another_circle.__radius )\n",
    " \n",
    "    def __gt__(self, another_circle):\n",
    "        return self.__radius > another_circle.__radius\n",
    " \n",
    "    def __lt__(self, another_circle):\n",
    "        return self.__radius < another_circle.__radius\n",
    " \n",
    "    def __str__(self):\n",
    "        return \"Circle with radius \" + str(self.__radius)"
   ]
  },
  {
   "cell_type": "code",
   "execution_count": 30,
   "metadata": {},
   "outputs": [],
   "source": [
    "c1 = Circle(4) \n",
    "c2 = Circle(5)"
   ]
  },
  {
   "cell_type": "code",
   "execution_count": 31,
   "metadata": {},
   "outputs": [
    {
     "name": "stdout",
     "output_type": "stream",
     "text": [
      "9\n"
     ]
    }
   ],
   "source": [
    "# Became possible because we have added __add__ method\n",
    "c3 = c1 + c2\n",
    "print(c3.getRadius())"
   ]
  },
  {
   "cell_type": "code",
   "execution_count": 32,
   "metadata": {},
   "outputs": [
    {
     "name": "stdout",
     "output_type": "stream",
     "text": [
      "True\n"
     ]
    }
   ],
   "source": [
    "# Became possible because we have added __gt__ method\n",
    "print(c3 > c2)"
   ]
  },
  {
   "cell_type": "code",
   "execution_count": 33,
   "metadata": {},
   "outputs": [
    {
     "name": "stdout",
     "output_type": "stream",
     "text": [
      "True\n"
     ]
    }
   ],
   "source": [
    "# Became possible because we have added __lt__ method\n",
    "print(c1 < c2)"
   ]
  },
  {
   "cell_type": "code",
   "execution_count": 34,
   "metadata": {},
   "outputs": [
    {
     "name": "stdout",
     "output_type": "stream",
     "text": [
      "Circle with radius 9\n"
     ]
    }
   ],
   "source": [
    "# Became possible because we have added __str__ method\n",
    "print(c3)"
   ]
  }
 ],
 "metadata": {
  "kernelspec": {
   "display_name": "Python 3",
   "language": "python",
   "name": "python3"
  },
  "language_info": {
   "codemirror_mode": {
    "name": "ipython",
    "version": 3
   },
   "file_extension": ".py",
   "mimetype": "text/x-python",
   "name": "python",
   "nbconvert_exporter": "python",
   "pygments_lexer": "ipython3",
   "version": "3.6.3"
  }
 },
 "nbformat": 4,
 "nbformat_minor": 1
}
