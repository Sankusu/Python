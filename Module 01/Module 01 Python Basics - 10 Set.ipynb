{
 "cells": [
  {
   "cell_type": "markdown",
   "metadata": {},
   "source": [
    "# Set\n",
    "https://www.python-course.eu/sets_frozensets.php\n",
    "- A set is an unordered collection of items.\n",
    "- Every element is unique (no duplicates) and must be immutable (which cannot be changed).\n",
    "- However, the set itself is mutable\n",
    "- Sets can be used to perform mathematical set operations like union, intersection, symmetric difference, etc.\n",
    "\n",
    "**Note**: Set doesn't support indexing or slicing."
   ]
  },
  {
   "cell_type": "code",
   "execution_count": 1,
   "metadata": {},
   "outputs": [
    {
     "data": {
      "text/plain": [
       "{}"
      ]
     },
     "execution_count": 1,
     "metadata": {},
     "output_type": "execute_result"
    }
   ],
   "source": [
    "my_set = {}\n",
    "my_set"
   ]
  },
  {
   "cell_type": "code",
   "execution_count": 2,
   "metadata": {},
   "outputs": [
    {
     "data": {
      "text/plain": [
       "{'bread', 'cheese', 'egg', 'milk', 'sauce'}"
      ]
     },
     "execution_count": 2,
     "metadata": {},
     "output_type": "execute_result"
    }
   ],
   "source": [
    "my_set = {\"milk\", \"egg\", \"bread\", \"cheese\", \"egg\", \"sauce\"}\n",
    "my_set"
   ]
  },
  {
   "cell_type": "code",
   "execution_count": 3,
   "metadata": {},
   "outputs": [
    {
     "name": "stdout",
     "output_type": "stream",
     "text": [
      "5\n",
      "<class 'set'>\n"
     ]
    }
   ],
   "source": [
    "print(len(my_set))\n",
    "print(type(my_set))"
   ]
  },
  {
   "cell_type": "code",
   "execution_count": 4,
   "metadata": {},
   "outputs": [
    {
     "data": {
      "text/plain": [
       "{1, 2, 3, 4}"
      ]
     },
     "execution_count": 4,
     "metadata": {},
     "output_type": "execute_result"
    }
   ],
   "source": [
    "my_set = set([1, 2, 3, 4, 3, 2, 1])\n",
    "my_set"
   ]
  },
  {
   "cell_type": "code",
   "execution_count": 5,
   "metadata": {},
   "outputs": [
    {
     "data": {
      "text/plain": [
       "{'Khan', 'and', 'is', 'my', 'name'}"
      ]
     },
     "execution_count": 5,
     "metadata": {},
     "output_type": "execute_result"
    }
   ],
   "source": [
    "# split() function breaks-up a string and add the data to a string array using a defined separator.\n",
    "my_set = set(\"my name is Khan and Khan is my name\".split())\n",
    "# Printing order does't matter in case of set\n",
    "my_set"
   ]
  },
  {
   "cell_type": "code",
   "execution_count": 6,
   "metadata": {},
   "outputs": [
    {
     "data": {
      "text/plain": [
       "{(1, 2, 3), 1, 2.5, False, 'Hello'}"
      ]
     },
     "execution_count": 6,
     "metadata": {},
     "output_type": "execute_result"
    }
   ],
   "source": [
    "my_set = {1, 2.5, \"Hello\", (1, 2, 3), True, False}\n",
    "my_set"
   ]
  },
  {
   "cell_type": "markdown",
   "metadata": {},
   "source": [
    "#### Elements of a Set should be immutable\n",
    "```python\n",
    "my_set = {1.0, \"Hello\", (1, 2, 3), [1, 2, 3]}\n",
    "my_set\n",
    "---------------------------------------------------------------------------\n",
    "TypeError                                 Traceback (most recent call last)\n",
    "<ipython-input-20-108694546350> in <module>()\n",
    "----> 1 my_set = {1.0, \"Hello\", (1, 2, 3), [1, 2, 3]}\n",
    "      2 my_set\n",
    "\n",
    "TypeError: unhashable type: 'list'\n",
    "```"
   ]
  },
  {
   "cell_type": "markdown",
   "metadata": {},
   "source": [
    "### Frozensets\n",
    "Frozensets are like sets except that they cannot be changed, i.e. they are immutable:"
   ]
  },
  {
   "cell_type": "code",
   "execution_count": 7,
   "metadata": {},
   "outputs": [
    {
     "data": {
      "text/plain": [
       "frozenset({'Basel', 'Frankfurt', 'Freiburg'})"
      ]
     },
     "execution_count": 7,
     "metadata": {},
     "output_type": "execute_result"
    }
   ],
   "source": [
    "cities = frozenset([\"Frankfurt\", \"Basel\",\"Freiburg\"])\n",
    "cities"
   ]
  },
  {
   "cell_type": "code",
   "execution_count": 8,
   "metadata": {},
   "outputs": [
    {
     "name": "stdout",
     "output_type": "stream",
     "text": [
      "0 1 2 3 4 5 "
     ]
    }
   ],
   "source": [
    "# Iteration over a Set\n",
    "num_set = set([0, 1, 2, 3, 4, 5])\n",
    "for n in num_set:\n",
    "    print(n, end=\" \")"
   ]
  },
  {
   "cell_type": "markdown",
   "metadata": {},
   "source": [
    "### Set Methods\n",
    "- `set.clear()`: To remove all elements from sets.\n",
    "- `set.copy()`: Creates a shallow copy, which is returned.\n",
    "- `set.add(element)`: To add elements to a set.\n",
    "- `set.remove(element)`: To remove elements to a set. If element is not a member of the set, Error will be generated.\n",
    "- `set.discard(element)`: An element will be removed from the set. If element is not a member of the set, nothing will be done.\n",
    "- `set.pop()`: Removes and returns an arbitrary set element.\n",
    "- `set.difference(set2)`: To find the difference between two sets.\n",
    "- `set.difference_update(set2)`: Removes all elements of another set from this set.\n",
    "- `set.issubset(set2)`: To test if a set is a subset.\n",
    "- `set.issuperset(set2)`: To test if a set is a superset.\n",
    "- `set.intersection(set2)`: To test for intersection.\n",
    "- `set.isdisjoint(set2)`: Returns True if two sets have a null intersection."
   ]
  },
  {
   "cell_type": "code",
   "execution_count": 9,
   "metadata": {},
   "outputs": [
    {
     "data": {
      "text/plain": [
       "{'black', 'brown', 'green', 'orange', 'red', 'yellow'}"
      ]
     },
     "execution_count": 9,
     "metadata": {},
     "output_type": "execute_result"
    }
   ],
   "source": [
    "colours = {\"red\", \"green\", \"blue\", \"brown\", \"orange\", \"black\"}\n",
    "\n",
    "# The assignment \"colours_backup = colours\" just creates a pointer, i.e. another name, to the same data structure.\n",
    "colours_backup = colours.copy()\n",
    "\n",
    "colours.add(\"yellow\")\n",
    "colours.remove(\"blue\")\n",
    "colours"
   ]
  },
  {
   "cell_type": "code",
   "execution_count": 10,
   "metadata": {},
   "outputs": [
    {
     "data": {
      "text/plain": [
       "set()"
      ]
     },
     "execution_count": 10,
     "metadata": {},
     "output_type": "execute_result"
    }
   ],
   "source": [
    "colours_backup.clear()\n",
    "colours_backup"
   ]
  },
  {
   "cell_type": "code",
   "execution_count": 11,
   "metadata": {},
   "outputs": [
    {
     "name": "stdout",
     "output_type": "stream",
     "text": [
      "{'e', 'a', 'd'}\n",
      "{'e', 'a'}\n"
     ]
    }
   ],
   "source": [
    "x = {\"a\", \"b\", \"c\", \"d\", \"e\"}\n",
    "y = {\"b\", \"c\"}\n",
    "z = {\"c\", \"d\"}\n",
    "print(x.difference(y))\n",
    "print(x.difference(y).difference(z))"
   ]
  },
  {
   "cell_type": "code",
   "execution_count": 12,
   "metadata": {},
   "outputs": [
    {
     "name": "stdout",
     "output_type": "stream",
     "text": [
      "{'e', 'a', 'd'}\n",
      "{'e', 'a'}\n"
     ]
    }
   ],
   "source": [
    "# Instead of using the method difference, the operator \"-\" can be used.\n",
    "print(x-y)\n",
    "print(x-y-z)"
   ]
  },
  {
   "cell_type": "code",
   "execution_count": 13,
   "metadata": {},
   "outputs": [
    {
     "name": "stdout",
     "output_type": "stream",
     "text": [
      "{'d', 'e', 'a'}\n",
      "{'e', 'a', 'd'}\n"
     ]
    }
   ],
   "source": [
    "# x.difference_update(y) is the same as \"x = x - y\"\n",
    "x = {\"a\", \"b\", \"c\", \"d\", \"e\"}\n",
    "y = {\"b\", \"c\"}\n",
    "x.difference_update(y)\n",
    "print(x)\n",
    "\n",
    "x = {\"a\", \"b\", \"c\", \"d\", \"e\"}\n",
    "y = {\"b\", \"c\"}\n",
    "x = x - y\n",
    "print(x)"
   ]
  },
  {
   "cell_type": "code",
   "execution_count": 14,
   "metadata": {},
   "outputs": [
    {
     "name": "stdout",
     "output_type": "stream",
     "text": [
      "{'e', 'd', 'c'}\n",
      "{'e', 'd', 'c'}\n"
     ]
    }
   ],
   "source": [
    "x = {\"a\", \"b\", \"c\", \"d\", \"e\"}\n",
    "y = {\"c\", \"d\", \"e\", \"f\", \"g\"}\n",
    "print(x.intersection(y))\n",
    "\n",
    "# This can be abbreviated with the ampersand operator \"&\":\n",
    "\n",
    "x = {\"a\", \"b\", \"c\", \"d\", \"e\"}\n",
    "y = {\"c\", \"d\", \"e\", \"f\", \"g\"}\n",
    "print(x & y)"
   ]
  },
  {
   "cell_type": "code",
   "execution_count": 15,
   "metadata": {},
   "outputs": [
    {
     "name": "stdout",
     "output_type": "stream",
     "text": [
      "False\n",
      "True\n",
      "False\n",
      "True\n",
      "False\n",
      "True\n"
     ]
    }
   ],
   "source": [
    "x = {\"a\", \"b\", \"c\", \"d\", \"e\"}\n",
    "y = {\"c\", \"d\"}\n",
    "print(x.issubset(y))\n",
    "print(y.issubset(x))\n",
    "\n",
    "# Using \"<\" operator\n",
    "print(x < y)\n",
    "print(y < x)     # y is a proper subset of x\n",
    "print(x < x)     # a set can never be a proper subset of oneself.\n",
    "print(x <= x)"
   ]
  },
  {
   "cell_type": "code",
   "execution_count": 16,
   "metadata": {},
   "outputs": [
    {
     "name": "stdout",
     "output_type": "stream",
     "text": [
      "True\n",
      "False\n",
      "True\n",
      "True\n",
      "True\n",
      "False\n"
     ]
    }
   ],
   "source": [
    "x = {\"a\", \"b\", \"c\", \"d\", \"e\"}\n",
    "y = {\"c\", \"d\"}\n",
    "print(x.issuperset(y))\n",
    "print(y.issuperset(x))\n",
    "\n",
    "# Using \">\" operator\n",
    "print(x > y)\n",
    "print(x >= y)\n",
    "print(x >= x)\n",
    "print(x > x)"
   ]
  },
  {
   "cell_type": "code",
   "execution_count": 17,
   "metadata": {},
   "outputs": [
    {
     "name": "stdout",
     "output_type": "stream",
     "text": [
      "b\n",
      "d\n"
     ]
    }
   ],
   "source": [
    "x = {\"a\", \"b\", \"c\", \"d\", \"e\"}\n",
    "print(x.pop())\n",
    "print(x.pop())"
   ]
  },
  {
   "cell_type": "markdown",
   "metadata": {},
   "source": [
    "### Set Comprehension"
   ]
  },
  {
   "cell_type": "code",
   "execution_count": 18,
   "metadata": {},
   "outputs": [
    {
     "data": {
      "text/plain": [
       "{0, 1, 4, 9, 16, 25, 36, 49, 64, 81}"
      ]
     },
     "execution_count": 18,
     "metadata": {},
     "output_type": "execute_result"
    }
   ],
   "source": [
    "sq_set = {n**2 for n in range(10)}\n",
    "sq_set"
   ]
  },
  {
   "cell_type": "code",
   "execution_count": 19,
   "metadata": {},
   "outputs": [
    {
     "data": {
      "text/plain": [
       "{1, 3, 5, 7, 9}"
      ]
     },
     "execution_count": 19,
     "metadata": {},
     "output_type": "execute_result"
    }
   ],
   "source": [
    "odd_set = {s for s in [1, 1, 0, 2, 3, 4, 5, 6, 7, 8, 9, 10] if s % 2}\n",
    "odd_set"
   ]
  },
  {
   "cell_type": "code",
   "execution_count": 20,
   "metadata": {},
   "outputs": [
    {
     "data": {
      "text/plain": [
       "{(3, 0), (3, 1), (4, 0), (4, 1)}"
      ]
     },
     "execution_count": 20,
     "metadata": {},
     "output_type": "execute_result"
    }
   ],
   "source": [
    "com_set = {(m, n) for n in range(2) for m in range(3, 5)}\n",
    "com_set"
   ]
  },
  {
   "cell_type": "code",
   "execution_count": 21,
   "metadata": {},
   "outputs": [
    {
     "data": {
      "text/plain": [
       "{'A', 'I', 'U'}"
      ]
     },
     "execution_count": 21,
     "metadata": {},
     "output_type": "execute_result"
    }
   ],
   "source": [
    "vowels = {v for v in 'ABCDABIGDUUUCD' if v in 'AEIOU'}\n",
    "vowels"
   ]
  }
 ],
 "metadata": {
  "kernelspec": {
   "display_name": "Python 3",
   "language": "python",
   "name": "python3"
  },
  "language_info": {
   "codemirror_mode": {
    "name": "ipython",
    "version": 3
   },
   "file_extension": ".py",
   "mimetype": "text/x-python",
   "name": "python",
   "nbconvert_exporter": "python",
   "pygments_lexer": "ipython3",
   "version": "3.6.3"
  }
 },
 "nbformat": 4,
 "nbformat_minor": 1
}
