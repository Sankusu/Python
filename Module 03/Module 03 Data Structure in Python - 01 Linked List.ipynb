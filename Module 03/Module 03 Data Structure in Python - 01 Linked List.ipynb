{
 "cells": [
  {
   "cell_type": "markdown",
   "metadata": {},
   "source": [
    "# Module 03 Data Structure in Python - 01 Linked List"
   ]
  },
  {
   "cell_type": "markdown",
   "metadata": {},
   "source": [
    "# Linked List\n",
    "In its most basic form, a linked list is a string of nodes, sort of like a string of pearls, with each node containing both data and a reference to the next node in the list (Note: This is a singly linked list. The nodes in a doubly linked list will contain references to both the next node and the previous node). The main advantage of using a linked list over a similar data structure, like the static array, is the linked list's dynamic memory allocation: if you don't know the amount of data you want to store before hand, the linked list can adjust on the fly. Of course this advantage comes at a price: dynamic memory allocation requires more space and commands slower look up times.\n",
    "\n",
    "In a Linked List, it is important to explicitly specify the location of the first item. Once it is known where the first item is, the first item can tell us where the second is, and so on. The external reference is often referred to as the head of the list. Similarly, the last item needs to know that there is no next item."
   ]
  },
  {
   "cell_type": "markdown",
   "metadata": {},
   "source": [
    "## The `Node` class\n",
    "The basic building block for the linked list implementation is the node. Each node object must hold at least two pieces of information. First, the node must contain the list item itself. We will call this the data field of the node. In addition, each node must hold a reference to the next node. To construct a node, you need to supply the initial data value for the node."
   ]
  },
  {
   "cell_type": "markdown",
   "metadata": {},
   "source": [
    "The special Python reference value `None` will play an important role in the Node class and later in the linked list itself. A reference to `None` will denote the fact that there is no next node."
   ]
  },
  {
   "cell_type": "code",
   "execution_count": 1,
   "metadata": {},
   "outputs": [
    {
     "data": {
      "text/plain": [
       "93"
      ]
     },
     "execution_count": 1,
     "metadata": {},
     "output_type": "execute_result"
    }
   ],
   "source": [
    "class Node:\n",
    "    \n",
    "    def __init__(self, initdata):\n",
    "        self.data = initdata\n",
    "        self.next = None\n",
    "\n",
    "    def getData(self):\n",
    "        return self.data\n",
    "\n",
    "    def getNext(self):\n",
    "        return self.next\n",
    "\n",
    "    def setData(self, newdata):\n",
    "        self.data = newdata\n",
    "\n",
    "    def setNext(self, newnext):\n",
    "        self.next = newnext\n",
    "\n",
    "\n",
    "# Creating Node objects\n",
    "temp = Node(93)\n",
    "temp.getData()"
   ]
  },
  {
   "cell_type": "markdown",
   "metadata": {},
   "source": [
    "## The `LinkedList` class\n",
    "The Linked List will be built from a collection of Nodes, each linked to the next by explicit references. As long as we know where to find the first node (containing the first item), each item after that can be found by successively following the next links. With this in mind, the `LinkedList` class must maintain a reference to the first node."
   ]
  },
  {
   "cell_type": "markdown",
   "metadata": {},
   "source": [
    "The assignment statement creates the linked list representation. As we discussed in the Node class, the special reference None will again be used to state that the head of the list does not refer to anything. Eventually, the example list given earlier will be represented by a linked list as shown in Figure 6. The head of the list refers to the first node which contains the first item of the list. In turn, that node holds a reference to the next node (the next item) and so on. It is very important to note that the list class itself does not contain any node objects. Instead it contains a single reference to only the first node in the linked structure.\n",
    "\n",
    "```python\n",
    "class LinkedList:\n",
    "\n",
    "    def __init__(self):\n",
    "        self.head = None\n",
    "\n",
    "ll = LinkedList()\n",
    "```"
   ]
  },
  {
   "cell_type": "markdown",
   "metadata": {},
   "source": [
    "### The `isEmpty()` method\n",
    "It simply checks to see if the head of the list is a reference to `None`. The result of the boolean expression `self.head == None` will only be `True` if there are no nodes in the linked list.\n",
    "```python\n",
    "    def isEmpty(self):\n",
    "        return self.head == None\n",
    "```"
   ]
  },
  {
   "cell_type": "markdown",
   "metadata": {},
   "source": [
    "### The `add()` method\n",
    "The linked list provides only one entry point, i.e. the head of the list. All of the other nodes can only be reached by accessing the first node and then following next links. This means that the easiest place to add the new node is at the head, or beginning of the list. In other words, we will make the new item the first item of the list and the existing items will need to be linked to this new first item so that they follow.\n",
    "\n",
    "```python\n",
    "    def add(self, item):\n",
    "        temp = Node(item)\n",
    "        temp.setNext(self.head)\n",
    "        self.head = temp\n",
    "        return \"Node '\" + str(item) + \"' added\"\n",
    "```\n",
    "\n",
    "Each item of the list must reside in a node object. `Node(item)` creates a new node and places the `item` as its data. Now we must complete the process by linking the new node into the existing structure. `temp.setNext(self.head)` changes the next reference of the new node to refer to the old head node of the list. Now that the rest of the list has been properly attached to the new node, the head of the list can to refer to the new node. The assignment statement `self.head = temp` sets the head of the list.\n",
    "\n",
    "The linked list will be built by calling the add method a number of times.\n",
    "\n",
    "```python\n",
    "ll.add(31)\n",
    "ll.add(77)\n",
    "ll.add(17)\n",
    "ll.add(93)\n",
    "ll.add(26)\n",
    "ll.add(54)\n",
    "```\n",
    "\n",
    "**LinkedList: `head=None`**\n",
    "\n",
    "**LinkedList: `head=31->None`**\n",
    "\n",
    "**LinkedList: `head=77->31->None`**\n",
    "\n",
    "**LinkedList: `head=17->77->31->None`**\n",
    "\n",
    "**LinkedList: `head=93->17->77->31->None`**\n",
    "\n",
    "**LinkedList: `head=26->93->17->77->31->None`**\n",
    "\n",
    "**LinkedList: `head=54->26->93->17->77->31->None`**"
   ]
  },
  {
   "cell_type": "markdown",
   "metadata": {},
   "source": [
    "## Traversal of the Linked List\n",
    "The next methods that we will implement–size, search, and remove–are all based on a technique known as linked list traversal. Traversal refers to the process of systematically visiting each node. To do this we use an external reference that starts at the first node in the list. As we visit each node, we move the reference to the next node by \"traversing\" the next reference."
   ]
  },
  {
   "cell_type": "markdown",
   "metadata": {},
   "source": [
    "### The `size()` method\n",
    "To implement the size method, we need to traverse the linked list and keep a count of the number of nodes that occurred. The external reference is called current and is initialized to the head of the list. At the start of the process, we have not seen any nodes so the count is set to 0. The `while` loop actually implements the traversal. As long as the current reference has not seen the end of the list (`None`), we move current along to the next node via the assignment statement `current = current.getNext()`. Every time current moves to a new node, we add 1 to `count`. Finally, count gets returned after the iteration stops.\n",
    "\n",
    "```python\n",
    "    def size(self):\n",
    "        current = self.head\n",
    "        count = 0\n",
    "        while current != None:\n",
    "            count += 1\n",
    "            current = current.getNext()\n",
    "        return count\n",
    "```"
   ]
  },
  {
   "cell_type": "markdown",
   "metadata": {},
   "source": [
    "### The `search()` method\n",
    "Searching for a value in a linked list implementation of an Linked List also uses the traversal technique. As in the size method, the traversal is initialized to start at the `head` of the list. We also use a boolean variable called `found` to remember whether we have located the `item` we are searching for. Since we have not found the `item` at the start of the traversal, `found` can be set to `False`. As long as there are more nodes to visit and we have not found the item we are looking for, we continue to check the next node.\n",
    "\n",
    "```python\n",
    "    def search(self, item):\n",
    "        current = self.head\n",
    "        found = False\n",
    "        while current != None:\n",
    "            if current.getData()==item:\n",
    "                found = True\n",
    "                break\n",
    "            else:\n",
    "                current = current.getNext()\n",
    "        return found\n",
    "```"
   ]
  },
  {
   "cell_type": "markdown",
   "metadata": {},
   "source": [
    "### The `remove()` method\n",
    "It requires two logical steps. First, we need to traverse the list looking for the item we want to remove. Once we find the item, we must remove it. The first step is very similar to search. When `found` becomes `True`, `current` will be a reference to the node containing the `item` to be removed.\n",
    "\n",
    "In order to remove the node containing the `item`, we need to modify the link in the previous node so that it refers to the node that comes after current. The `current` will behave just as it did before, marking the current location of the traverse. The new reference, which we will call `previous`, will always travel one node behind `current`.\n",
    "\n",
    "```python\n",
    "    def remove(self, item):\n",
    "        current = self.head\n",
    "        previous = None\n",
    "        found = False\n",
    "        while current!=None:\n",
    "            if current.getData()==item:\n",
    "                found = True\n",
    "                break\n",
    "            else:\n",
    "                previous = current\n",
    "                current = current.getNext()\n",
    "        \n",
    "        if not found:\n",
    "            return \"Node '\" + str(item) + \"' not found\"\n",
    "            \n",
    "        if previous:\n",
    "            previous.setNext(current.getNext())\n",
    "        else:\n",
    "            self.head = current.getNext()\n",
    "        return \"Node '\" + str(item) + \"' removed\"\n",
    "```"
   ]
  },
  {
   "cell_type": "code",
   "execution_count": 2,
   "metadata": {
    "collapsed": true
   },
   "outputs": [],
   "source": [
    "class Node:\n",
    "    \n",
    "    def __init__(self, initdata):\n",
    "        self.data = initdata\n",
    "        self.next = None\n",
    "\n",
    "    def getData(self):\n",
    "        return self.data\n",
    "\n",
    "    def getNext(self):\n",
    "        return self.next\n",
    "\n",
    "    def setData(self, newdata):\n",
    "        self.data = newdata\n",
    "\n",
    "    def setNext(self, newnext):\n",
    "        self.next = newnext"
   ]
  },
  {
   "cell_type": "code",
   "execution_count": 3,
   "metadata": {
    "collapsed": true
   },
   "outputs": [],
   "source": [
    "class LinkedList:\n",
    "\n",
    "    def __init__(self):\n",
    "        self.head = None\n",
    "\n",
    "    def isEmpty(self):\n",
    "        return self.head == None\n",
    "\n",
    "    def add(self, item):\n",
    "        temp = Node(item)\n",
    "        temp.setNext(self.head)\n",
    "        self.head = temp\n",
    "        return \"Node '\" + str(item) + \"' added\"\n",
    "\n",
    "    def size(self):\n",
    "        current = self.head\n",
    "        count = 0\n",
    "        while current != None:\n",
    "            count = count + 1\n",
    "            current = current.getNext()\n",
    "        return count\n",
    "\n",
    "    def search(self, item):\n",
    "        current = self.head\n",
    "        found = False\n",
    "        while current != None:\n",
    "            if current.getData()==item:\n",
    "                found = True\n",
    "                break\n",
    "            else:\n",
    "                current = current.getNext()\n",
    "        return found\n",
    "\n",
    "    def remove(self, item):\n",
    "        current = self.head\n",
    "        previous = None\n",
    "        found = False\n",
    "        while current!=None:\n",
    "            if current.getData()==item:\n",
    "                found = True\n",
    "                break\n",
    "            else:\n",
    "                previous = current\n",
    "                current = current.getNext()\n",
    "        \n",
    "        if not found:\n",
    "            return \"Node '\" + str(item) + \"' not found\"\n",
    "            \n",
    "        if previous:\n",
    "            previous.setNext(current.getNext())\n",
    "        else:\n",
    "            self.head = current.getNext()\n",
    "        return \"Node '\" + str(item) + \"' removed\"\n",
    "    \n",
    "    def __str__(self):\n",
    "        s = \"\"\n",
    "        current = self.head\n",
    "        while current!=None:\n",
    "            s = s + str(current.getData()) + \"->\"\n",
    "            current = current.getNext()\n",
    "        return s"
   ]
  },
  {
   "cell_type": "code",
   "execution_count": 4,
   "metadata": {
    "collapsed": true
   },
   "outputs": [],
   "source": [
    "ll = LinkedList()"
   ]
  },
  {
   "cell_type": "code",
   "execution_count": 5,
   "metadata": {},
   "outputs": [
    {
     "name": "stdout",
     "output_type": "stream",
     "text": [
      "ll: 54->26->93->17->77->31->\n"
     ]
    }
   ],
   "source": [
    "ll.add(31)\n",
    "ll.add(77)\n",
    "ll.add(17)\n",
    "ll.add(93)\n",
    "ll.add(26)\n",
    "ll.add(54)\n",
    "\n",
    "print(\"ll:\", ll)"
   ]
  },
  {
   "cell_type": "code",
   "execution_count": 6,
   "metadata": {},
   "outputs": [
    {
     "name": "stdout",
     "output_type": "stream",
     "text": [
      "ll.size(): 6\n"
     ]
    }
   ],
   "source": [
    "print(\"ll.size():\", ll.size())"
   ]
  },
  {
   "cell_type": "code",
   "execution_count": 7,
   "metadata": {},
   "outputs": [
    {
     "name": "stdout",
     "output_type": "stream",
     "text": [
      "ll.search(93): True\n",
      "ll.search(100): False\n"
     ]
    }
   ],
   "source": [
    "print(\"ll.search(93):\", ll.search(93))\n",
    "\n",
    "print(\"ll.search(100):\", ll.search(100))"
   ]
  },
  {
   "cell_type": "code",
   "execution_count": 8,
   "metadata": {},
   "outputs": [
    {
     "name": "stdout",
     "output_type": "stream",
     "text": [
      "ll.add(100): Node '100' added\n",
      "ll: 100->54->26->93->17->77->31->\n"
     ]
    }
   ],
   "source": [
    "print(\"ll.add(100):\", ll.add(100))\n",
    "\n",
    "print(\"ll:\", ll)"
   ]
  },
  {
   "cell_type": "code",
   "execution_count": 9,
   "metadata": {},
   "outputs": [
    {
     "name": "stdout",
     "output_type": "stream",
     "text": [
      "ll.search(100): True\n"
     ]
    }
   ],
   "source": [
    "print(\"ll.search(100):\", ll.search(100))"
   ]
  },
  {
   "cell_type": "code",
   "execution_count": 10,
   "metadata": {},
   "outputs": [
    {
     "name": "stdout",
     "output_type": "stream",
     "text": [
      "ll.remove(46): Node '46' not found\n",
      "ll.remove(93): Node '93' removed\n",
      "ll.remove(31): Node '31' removed\n"
     ]
    }
   ],
   "source": [
    "print(\"ll.remove(46):\", ll.remove(46))\n",
    "\n",
    "print(\"ll.remove(93):\", ll.remove(93))\n",
    "\n",
    "print(\"ll.remove(31):\", ll.remove(31))"
   ]
  },
  {
   "cell_type": "code",
   "execution_count": 11,
   "metadata": {},
   "outputs": [
    {
     "name": "stdout",
     "output_type": "stream",
     "text": [
      "ll: 100->54->26->17->77->\n"
     ]
    }
   ],
   "source": [
    "print(\"ll:\", ll)"
   ]
  },
  {
   "cell_type": "code",
   "execution_count": 12,
   "metadata": {},
   "outputs": [
    {
     "name": "stdout",
     "output_type": "stream",
     "text": [
      "ll.search(93): False\n"
     ]
    }
   ],
   "source": [
    "print(\"ll.search(93):\", ll.search(93))"
   ]
  }
 ],
 "metadata": {
  "kernelspec": {
   "display_name": "Python 3",
   "language": "python",
   "name": "python3"
  },
  "language_info": {
   "codemirror_mode": {
    "name": "ipython",
    "version": 3
   },
   "file_extension": ".py",
   "mimetype": "text/x-python",
   "name": "python",
   "nbconvert_exporter": "python",
   "pygments_lexer": "ipython3",
   "version": "3.6.3"
  }
 },
 "nbformat": 4,
 "nbformat_minor": 2
}
